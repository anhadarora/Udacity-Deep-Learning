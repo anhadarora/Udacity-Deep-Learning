{
 "metadata": {
  "colabVersion": "0.3.2",
  "colab_default_view": {},
  "colab_views": {},
  "name": "",
  "signature": "sha256:50aeace71f16289c9c33baae6589a43f5a96534ee1df673f76f621f65a19935f"
 },
 "nbformat": 3,
 "nbformat_minor": 0,
 "worksheets": [
  {
   "cells": [
    {
     "cell_type": "markdown",
     "metadata": {
      "colab_type": "text",
      "id": "4embtkV0pNxM"
     },
     "source": [
      "Deep Learning\n",
      "=============\n",
      "\n",
      "Assignment 4\n",
      "------------\n",
      "\n",
      "Previously in `2_fullyconnected.ipynb` and `3_regularization.ipynb`, we trained fully connected networks to classify [notMNIST](http://yaroslavvb.blogspot.com/2011/09/notmnist-dataset.html) characters.\n",
      "\n",
      "The goal of this assignment is make the neural network convolutional."
     ]
    },
    {
     "cell_type": "code",
     "collapsed": false,
     "input": [
      "# These are all the modules we'll be using later. Make sure you can import them\n",
      "# before proceeding further.\n",
      "import cPickle as pickle\n",
      "import numpy as np\n",
      "import tensorflow as tf"
     ],
     "language": "python",
     "metadata": {
      "cellView": "both",
      "colab": {
       "autoexec": {
        "startup": false,
        "wait_interval": 0
       }
      },
      "colab_type": "code",
      "id": "tm2CQN_Cpwj0"
     },
     "outputs": [],
     "prompt_number": 12
    },
    {
     "cell_type": "code",
     "collapsed": false,
     "input": [
      "pickle_file = 'notMNIST.pickle'\n",
      "\n",
      "with open(pickle_file, 'rb') as f:\n",
      "  save = pickle.load(f)\n",
      "  train_dataset = save['train_dataset']\n",
      "  train_labels = save['train_labels']\n",
      "  valid_dataset = save['valid_dataset']\n",
      "  valid_labels = save['valid_labels']\n",
      "  test_dataset = save['test_dataset']\n",
      "  test_labels = save['test_labels']\n",
      "  del save  # hint to help gc free up memory\n",
      "  print 'Training set', train_dataset.shape, train_labels.shape\n",
      "  print 'Validation set', valid_dataset.shape, valid_labels.shape\n",
      "  print 'Test set', test_dataset.shape, test_labels.shape"
     ],
     "language": "python",
     "metadata": {
      "cellView": "both",
      "colab": {
       "autoexec": {
        "startup": false,
        "wait_interval": 0
       },
       "output_extras": [
        {
         "item_id": 1
        }
       ]
      },
      "colab_type": "code",
      "executionInfo": {
       "elapsed": 11948,
       "status": "ok",
       "timestamp": 1446658914837,
       "user": {
        "color": "",
        "displayName": "",
        "isAnonymous": false,
        "isMe": true,
        "permissionId": "",
        "photoUrl": "",
        "sessionId": "0",
        "userId": ""
       },
       "user_tz": 480
      },
      "id": "y3-cj1bpmuxc",
      "outputId": "016b1a51-0290-4b08-efdb-8c95ffc3cd01"
     },
     "outputs": [
      {
       "output_type": "stream",
       "stream": "stdout",
       "text": [
        "Training set (200000, 28, 28) (200000,)\n",
        "Validation set (10000, 28, 28) (10000,)\n",
        "Test set (18724, 28, 28) (18724,)\n"
       ]
      }
     ],
     "prompt_number": 13
    },
    {
     "cell_type": "markdown",
     "metadata": {
      "colab_type": "text",
      "id": "L7aHrm6nGDMB"
     },
     "source": [
      "Reformat into a TensorFlow-friendly shape:\n",
      "- convolutions need the image data formatted as a cube (width by height by #channels)\n",
      "- labels as float 1-hot encodings."
     ]
    },
    {
     "cell_type": "code",
     "collapsed": false,
     "input": [
      "image_size = 28\n",
      "num_labels = 10\n",
      "num_channels = 1 # grayscale\n",
      "\n",
      "import numpy as np\n",
      "\n",
      "def reformat(dataset, labels):\n",
      "  dataset = dataset.reshape(\n",
      "    (-1, image_size, image_size, num_channels)).astype(np.float32)\n",
      "  labels = (np.arange(num_labels) == labels[:,None]).astype(np.float32)\n",
      "  return dataset, labels\n",
      "train_dataset, train_labels = reformat(train_dataset, train_labels)\n",
      "valid_dataset, valid_labels = reformat(valid_dataset, valid_labels)\n",
      "test_dataset, test_labels = reformat(test_dataset, test_labels)\n",
      "print 'Training set', train_dataset.shape, train_labels.shape\n",
      "print 'Validation set', valid_dataset.shape, valid_labels.shape\n",
      "print 'Test set', test_dataset.shape, test_labels.shape"
     ],
     "language": "python",
     "metadata": {
      "cellView": "both",
      "colab": {
       "autoexec": {
        "startup": false,
        "wait_interval": 0
       },
       "output_extras": [
        {
         "item_id": 1
        }
       ]
      },
      "colab_type": "code",
      "executionInfo": {
       "elapsed": 11952,
       "status": "ok",
       "timestamp": 1446658914857,
       "user": {
        "color": "",
        "displayName": "",
        "isAnonymous": false,
        "isMe": true,
        "permissionId": "",
        "photoUrl": "",
        "sessionId": "0",
        "userId": ""
       },
       "user_tz": 480
      },
      "id": "IRSyYiIIGIzS",
      "outputId": "650a208c-8359-4852-f4f5-8bf10e80ef6c"
     },
     "outputs": [
      {
       "output_type": "stream",
       "stream": "stdout",
       "text": [
        "Training set (200000, 28, 28, 1) (200000, 10)\n",
        "Validation set (10000, 28, 28, 1) (10000, 10)\n",
        "Test set (18724, 28, 28, 1) (18724, 10)\n"
       ]
      }
     ],
     "prompt_number": 14
    },
    {
     "cell_type": "code",
     "collapsed": false,
     "input": [
      "def accuracy(predictions, labels):\n",
      "  return (100.0 * np.sum(np.argmax(predictions, 1) == np.argmax(labels, 1))\n",
      "          / predictions.shape[0])"
     ],
     "language": "python",
     "metadata": {
      "cellView": "both",
      "colab": {
       "autoexec": {
        "startup": false,
        "wait_interval": 0
       }
      },
      "colab_type": "code",
      "id": "AgQDIREv02p1"
     },
     "outputs": [],
     "prompt_number": 15
    },
    {
     "cell_type": "markdown",
     "metadata": {
      "colab_type": "text",
      "id": "5rhgjmROXu2O"
     },
     "source": [
      "Let's build a small network with two convolutional layers, followed by one fully connected layer. Convolutional networks are more expensive computationally, so we'll limit its depth and number of fully connected nodes."
     ]
    },
    {
     "cell_type": "code",
     "collapsed": false,
     "input": [
      "batch_size = 16\n",
      "patch_size = 5\n",
      "depth = 16\n",
      "num_hidden = 64\n",
      "\n",
      "graph = tf.Graph()\n",
      "\n",
      "with graph.as_default():\n",
      "\n",
      "  # Input data.\n",
      "  tf_train_dataset = tf.placeholder(\n",
      "    tf.float32, shape=(batch_size, image_size, image_size, num_channels))\n",
      "  tf_train_labels = tf.placeholder(tf.float32, shape=(batch_size, num_labels))\n",
      "  tf_valid_dataset = tf.constant(valid_dataset)\n",
      "  tf_test_dataset = tf.constant(test_dataset)\n",
      "  \n",
      "  # Variables.\n",
      "  layer1_weights = tf.Variable(tf.truncated_normal(\n",
      "      [patch_size, patch_size, num_channels, depth], stddev=0.1))\n",
      "  layer1_biases = tf.Variable(tf.zeros([depth]))\n",
      "  layer2_weights = tf.Variable(tf.truncated_normal(\n",
      "      [patch_size, patch_size, depth, depth], stddev=0.1))\n",
      "  layer2_biases = tf.Variable(tf.constant(1.0, shape=[depth]))\n",
      "  layer3_weights = tf.Variable(tf.truncated_normal(\n",
      "      [image_size / 4 * image_size / 4 * depth, num_hidden], stddev=0.1))\n",
      "  layer3_biases = tf.Variable(tf.constant(1.0, shape=[num_hidden]))\n",
      "  layer4_weights = tf.Variable(tf.truncated_normal(\n",
      "      [num_hidden, num_labels], stddev=0.1))\n",
      "  layer4_biases = tf.Variable(tf.constant(1.0, shape=[num_labels]))\n",
      "  \n",
      "  # Model.\n",
      "  def model(data):\n",
      "    conv = tf.nn.conv2d(data, layer1_weights, [1, 2, 2, 1], padding='SAME')\n",
      "    hidden = tf.nn.relu(conv + layer1_biases)\n",
      "    conv = tf.nn.conv2d(hidden, layer2_weights, [1, 2, 2, 1], padding='SAME')\n",
      "    hidden = tf.nn.relu(conv + layer2_biases)\n",
      "    shape = hidden.get_shape().as_list()\n",
      "    reshape = tf.reshape(hidden, [shape[0], shape[1] * shape[2] * shape[3]])\n",
      "    hidden = tf.nn.relu(tf.matmul(reshape, layer3_weights) + layer3_biases)\n",
      "    return tf.matmul(hidden, layer4_weights) + layer4_biases\n",
      "  \n",
      "  # Training computation.\n",
      "  logits = model(tf_train_dataset)\n",
      "  loss = tf.reduce_mean(\n",
      "    tf.nn.softmax_cross_entropy_with_logits(logits, tf_train_labels))\n",
      "    \n",
      "  # Optimizer.\n",
      "  optimizer = tf.train.GradientDescentOptimizer(0.05).minimize(loss)\n",
      "  \n",
      "  # Predictions for the training, validation, and test data.\n",
      "  train_prediction = tf.nn.softmax(logits)\n",
      "  valid_prediction = tf.nn.softmax(model(tf_valid_dataset))\n",
      "  test_prediction = tf.nn.softmax(model(tf_test_dataset))"
     ],
     "language": "python",
     "metadata": {
      "cellView": "both",
      "colab": {
       "autoexec": {
        "startup": false,
        "wait_interval": 0
       }
      },
      "colab_type": "code",
      "id": "IZYv70SvvOan"
     },
     "outputs": [],
     "prompt_number": 16
    },
    {
     "cell_type": "code",
     "collapsed": false,
     "input": [
      "num_steps = 1001\n",
      "\n",
      "with tf.Session(graph=graph) as session:\n",
      "  tf.initialize_all_variables().run()\n",
      "  print \"Initialized\"\n",
      "  for step in xrange(num_steps):\n",
      "    offset = (step * batch_size) % (train_labels.shape[0] - batch_size)\n",
      "    batch_data = train_dataset[offset:(offset + batch_size), :, :, :]\n",
      "    batch_labels = train_labels[offset:(offset + batch_size), :]\n",
      "    feed_dict = {tf_train_dataset : batch_data, tf_train_labels : batch_labels}\n",
      "    _, l, predictions = session.run(\n",
      "      [optimizer, loss, train_prediction], feed_dict=feed_dict)\n",
      "    if (step % 50 == 0):\n",
      "      print \"Minibatch loss at step\", step, \":\", l\n",
      "      print \"Minibatch accuracy: %.1f%%\" % accuracy(predictions, batch_labels)\n",
      "      print \"Validation accuracy: %.1f%%\" % accuracy(\n",
      "        valid_prediction.eval(), valid_labels)\n",
      "  print \"Test accuracy: %.1f%%\" % accuracy(test_prediction.eval(), test_labels)"
     ],
     "language": "python",
     "metadata": {
      "cellView": "both",
      "colab": {
       "autoexec": {
        "startup": false,
        "wait_interval": 0
       },
       "output_extras": [
        {
         "item_id": 37
        }
       ]
      },
      "colab_type": "code",
      "executionInfo": {
       "elapsed": 63292,
       "status": "ok",
       "timestamp": 1446658966251,
       "user": {
        "color": "",
        "displayName": "",
        "isAnonymous": false,
        "isMe": true,
        "permissionId": "",
        "photoUrl": "",
        "sessionId": "0",
        "userId": ""
       },
       "user_tz": 480
      },
      "id": "noKFb2UovVFR",
      "outputId": "28941338-2ef9-4088-8bd1-44295661e628"
     },
     "outputs": [
      {
       "output_type": "stream",
       "stream": "stdout",
       "text": [
        "Initialized\n",
        "Minibatch loss at step 0 : 3.93939\n",
        "Minibatch accuracy: 18.8%\n",
        "Validation accuracy: 10.4%"
       ]
      },
      {
       "output_type": "stream",
       "stream": "stdout",
       "text": [
        "\n",
        "Minibatch loss at step"
       ]
      },
      {
       "output_type": "stream",
       "stream": "stdout",
       "text": [
        " 50 : 2.30144\n",
        "Minibatch accuracy: 12.5%\n",
        "Validation accuracy: 22.5%"
       ]
      },
      {
       "output_type": "stream",
       "stream": "stdout",
       "text": [
        "\n",
        "Minibatch loss at step"
       ]
      },
      {
       "output_type": "stream",
       "stream": "stdout",
       "text": [
        " 100 : 1.42659\n",
        "Minibatch accuracy: 56.2%\n",
        "Validation accuracy: 69.4%"
       ]
      },
      {
       "output_type": "stream",
       "stream": "stdout",
       "text": [
        "\n",
        "Minibatch loss at step"
       ]
      },
      {
       "output_type": "stream",
       "stream": "stdout",
       "text": [
        " 150 : 0.91408\n",
        "Minibatch accuracy: 62.5%\n",
        "Validation accuracy: 72.2%"
       ]
      },
      {
       "output_type": "stream",
       "stream": "stdout",
       "text": [
        "\n",
        "Minibatch loss at step"
       ]
      },
      {
       "output_type": "stream",
       "stream": "stdout",
       "text": [
        " 200 : 0.68423\n",
        "Minibatch accuracy: 81.2%\n",
        "Validation accuracy: 75.3%"
       ]
      },
      {
       "output_type": "stream",
       "stream": "stdout",
       "text": [
        "\n",
        "Minibatch loss at step"
       ]
      },
      {
       "output_type": "stream",
       "stream": "stdout",
       "text": [
        " 250 : 0.370337\n",
        "Minibatch accuracy: 87.5%\n",
        "Validation accuracy: 77.0%"
       ]
      },
      {
       "output_type": "stream",
       "stream": "stdout",
       "text": [
        "\n",
        "Minibatch loss at step"
       ]
      },
      {
       "output_type": "stream",
       "stream": "stdout",
       "text": [
        " 300 : 0.675519\n",
        "Minibatch accuracy: 81.2%\n",
        "Validation accuracy: 79.7%"
       ]
      },
      {
       "output_type": "stream",
       "stream": "stdout",
       "text": [
        "\n",
        "Minibatch loss at step"
       ]
      },
      {
       "output_type": "stream",
       "stream": "stdout",
       "text": [
        " 350 : 0.857767\n",
        "Minibatch accuracy: 75.0%\n",
        "Validation accuracy: 80.5%"
       ]
      },
      {
       "output_type": "stream",
       "stream": "stdout",
       "text": [
        "\n",
        "Minibatch loss at step"
       ]
      },
      {
       "output_type": "stream",
       "stream": "stdout",
       "text": [
        " 400 : 0.89443\n",
        "Minibatch accuracy: 68.8%\n",
        "Validation accuracy: 80.5%"
       ]
      },
      {
       "output_type": "stream",
       "stream": "stdout",
       "text": [
        "\n",
        "Minibatch loss at step"
       ]
      },
      {
       "output_type": "stream",
       "stream": "stdout",
       "text": [
        " 450 : 0.409093\n",
        "Minibatch accuracy: 87.5%\n",
        "Validation accuracy: 78.5%"
       ]
      },
      {
       "output_type": "stream",
       "stream": "stdout",
       "text": [
        "\n",
        "Minibatch loss at step"
       ]
      },
      {
       "output_type": "stream",
       "stream": "stdout",
       "text": [
        " 500 : 0.938882\n",
        "Minibatch accuracy: 75.0%\n",
        "Validation accuracy: 81.7%"
       ]
      },
      {
       "output_type": "stream",
       "stream": "stdout",
       "text": [
        "\n",
        "Minibatch loss at step"
       ]
      },
      {
       "output_type": "stream",
       "stream": "stdout",
       "text": [
        " 550 : 0.44668\n",
        "Minibatch accuracy: 93.8%\n",
        "Validation accuracy: 81.4%"
       ]
      },
      {
       "output_type": "stream",
       "stream": "stdout",
       "text": [
        "\n",
        "Minibatch loss at step"
       ]
      },
      {
       "output_type": "stream",
       "stream": "stdout",
       "text": [
        " 600 : 0.977936\n",
        "Minibatch accuracy: 75.0%\n",
        "Validation accuracy: 81.8%"
       ]
      },
      {
       "output_type": "stream",
       "stream": "stdout",
       "text": [
        "\n",
        "Minibatch loss at step"
       ]
      },
      {
       "output_type": "stream",
       "stream": "stdout",
       "text": [
        " 650 : 0.775719\n",
        "Minibatch accuracy: 75.0%\n",
        "Validation accuracy: 81.8%"
       ]
      },
      {
       "output_type": "stream",
       "stream": "stdout",
       "text": [
        "\n",
        "Minibatch loss at step"
       ]
      },
      {
       "output_type": "stream",
       "stream": "stdout",
       "text": [
        " 700 : 0.461968\n",
        "Minibatch accuracy: 81.2%\n",
        "Validation accuracy: 81.0%"
       ]
      },
      {
       "output_type": "stream",
       "stream": "stdout",
       "text": [
        "\n",
        "Minibatch loss at step"
       ]
      },
      {
       "output_type": "stream",
       "stream": "stdout",
       "text": [
        " 750 : 0.418613\n",
        "Minibatch accuracy: 81.2%\n",
        "Validation accuracy: 81.8%"
       ]
      },
      {
       "output_type": "stream",
       "stream": "stdout",
       "text": [
        "\n",
        "Minibatch loss at step"
       ]
      },
      {
       "output_type": "stream",
       "stream": "stdout",
       "text": [
        " 800 : 1.12373\n",
        "Minibatch accuracy: 68.8%\n",
        "Validation accuracy: 81.7%"
       ]
      },
      {
       "output_type": "stream",
       "stream": "stdout",
       "text": [
        "\n",
        "Minibatch loss at step"
       ]
      },
      {
       "output_type": "stream",
       "stream": "stdout",
       "text": [
        " 850 : 0.599119\n",
        "Minibatch accuracy: 81.2%\n",
        "Validation accuracy: 82.9%"
       ]
      },
      {
       "output_type": "stream",
       "stream": "stdout",
       "text": [
        "\n",
        "Minibatch loss at step"
       ]
      },
      {
       "output_type": "stream",
       "stream": "stdout",
       "text": [
        " 900 : 0.939222\n",
        "Minibatch accuracy: 81.2%\n",
        "Validation accuracy: 82.2%"
       ]
      },
      {
       "output_type": "stream",
       "stream": "stdout",
       "text": [
        "\n",
        "Minibatch loss at step"
       ]
      },
      {
       "output_type": "stream",
       "stream": "stdout",
       "text": [
        " 950 : 0.493319\n",
        "Minibatch accuracy: 81.2%\n",
        "Validation accuracy: 83.2%"
       ]
      },
      {
       "output_type": "stream",
       "stream": "stdout",
       "text": [
        "\n",
        "Minibatch loss at step"
       ]
      },
      {
       "output_type": "stream",
       "stream": "stdout",
       "text": [
        " 1000 : 0.657263\n",
        "Minibatch accuracy: 75.0%\n",
        "Validation accuracy: 83.3%"
       ]
      },
      {
       "output_type": "stream",
       "stream": "stdout",
       "text": [
        "\n",
        "Test accuracy: 89.7%"
       ]
      },
      {
       "output_type": "stream",
       "stream": "stdout",
       "text": [
        "\n"
       ]
      }
     ],
     "prompt_number": 7
    },
    {
     "cell_type": "markdown",
     "metadata": {
      "colab_type": "text",
      "id": "KedKkn4EutIK"
     },
     "source": [
      "---\n",
      "Problem 1\n",
      "---------\n",
      "\n",
      "The convolutional model above uses convolutions with stride 2 to reduce the dimensionality. Replace the strides a max pooling operation (`nn.max_pool()`) of stride 2 and kernel size 2.\n",
      "\n",
      "---"
     ]
    },
    {
     "cell_type": "code",
     "collapsed": false,
     "input": [
      "batch_size = 128\n",
      "patch_size = 5\n",
      "depth = 16\n",
      "num_hidden = 64\n",
      "\n",
      "graph = tf.Graph()\n",
      "\n",
      "with graph.as_default():\n",
      "\n",
      "  # Input data.\n",
      "  tf_train_dataset = tf.placeholder(\n",
      "    tf.float32, shape=(batch_size, image_size, image_size, num_channels))\n",
      "  tf_train_labels = tf.placeholder(tf.float32, shape=(batch_size, num_labels))\n",
      "  tf_valid_dataset = tf.constant(valid_dataset)\n",
      "  tf_test_dataset = tf.constant(test_dataset)\n",
      "  \n",
      "  # Variables.\n",
      "  layer1_weights = tf.Variable(tf.truncated_normal(\n",
      "      [patch_size, patch_size, num_channels, depth], stddev=0.1))\n",
      "  layer1_biases = tf.Variable(tf.zeros([depth]))\n",
      "  layer2_weights = tf.Variable(tf.truncated_normal(\n",
      "      [patch_size, patch_size, depth, depth], stddev=0.1))\n",
      "  layer2_biases = tf.Variable(tf.constant(1.0, shape=[depth]))\n",
      "  layer3_weights = tf.Variable(tf.truncated_normal(\n",
      "      [image_size / 4 * image_size / 4 * depth, num_hidden], stddev=0.1))\n",
      "  layer3_biases = tf.Variable(tf.constant(1.0, shape=[num_hidden]))\n",
      "  layer4_weights = tf.Variable(tf.truncated_normal(\n",
      "      [num_hidden, num_labels], stddev=0.1))\n",
      "  layer4_biases = tf.Variable(tf.constant(1.0, shape=[num_labels]))\n",
      "  \n",
      "  # Model.\n",
      "  def model_pool(data, train=False):\n",
      "    conv = tf.nn.conv2d(data, layer1_weights, [1, 1, 1, 1], padding='SAME')\n",
      "    hidden = tf.nn.relu(conv + layer1_biases)\n",
      "    pool = tf.nn.max_pool(hidden, [1, 2, 2, 1], [1, 2, 2, 1], padding='SAME')\n",
      "    \n",
      "    conv = tf.nn.conv2d(pool, layer2_weights, [1, 1, 1, 1], padding='SAME')\n",
      "    hidden = tf.nn.relu(conv + layer2_biases)\n",
      "    pool = tf.nn.max_pool(hidden, [1, 2, 2, 1], [1, 2, 2, 1], padding='SAME')\n",
      "    \n",
      "    shape = pool.get_shape().as_list()\n",
      "    reshape = tf.reshape(pool, [shape[0], shape[1] * shape[2] * shape[3]])\n",
      "    hidden = tf.nn.relu(tf.matmul(reshape, layer3_weights) + layer3_biases)\n",
      "    \n",
      "    if train:\n",
      "      hidden = tf.nn.dropout(hidden, 0.5)\n",
      "\n",
      "    return tf.matmul(hidden, layer4_weights) + layer4_biases\n",
      "  \n",
      "  # Training computation.\n",
      "  logits = model_pool(tf_train_dataset, True)\n",
      "  loss = tf.reduce_mean(\n",
      "    tf.nn.softmax_cross_entropy_with_logits(logits, tf_train_labels))\n",
      "   \n",
      "  # adding regularizers\n",
      "  regularizers = (tf.nn.l2_loss(layer1_weights) + tf.nn.l2_loss(layer1_biases) +\n",
      "                  tf.nn.l2_loss(layer2_weights) + tf.nn.l2_loss(layer2_biases) +\n",
      "                  tf.nn.l2_loss(layer3_weights) + tf.nn.l2_loss(layer3_biases) +\n",
      "                  tf.nn.l2_loss(layer4_weights) + tf.nn.l2_loss(layer4_biases)\n",
      "                 )\n",
      "  # Add the regularization term to the loss.\n",
      "  loss += 3e-4 * regularizers\n",
      "  \n",
      "  # Optimizer: set up a variable that's incremented once per batch and\n",
      "  # controls the learning rate decay.\n",
      "  batch = tf.Variable(0)\n",
      "  # Decay once per epoch, using an exponential schedule starting at 0.01.\n",
      "  learning_rate = tf.train.exponential_decay(\n",
      "      0.01,                # Base learning rate.\n",
      "      batch * batch_size,  # Current index into the dataset.\n",
      "      train_labels.shape[0],          # Decay step.\n",
      "      0.95,                # Decay rate.\n",
      "      staircase=True)\n",
      "  # Use simple momentum for the optimization.\n",
      "  optimizer = tf.train.MomentumOptimizer(learning_rate,\n",
      "                                         0.9).minimize(loss,\n",
      "                                                       global_step=batch)\n",
      "   \n",
      "  # Predictions for the training, validation, and test data.\n",
      "  train_prediction = tf.nn.softmax(logits)\n",
      "  valid_prediction = tf.nn.softmax(model_pool(tf_valid_dataset))\n",
      "  test_prediction = tf.nn.softmax(model_pool(tf_test_dataset))\n",
      "\n",
      "\n",
      "# In[ ]:\n",
      "\n",
      "num_steps = 3001\n",
      "\n",
      "with tf.Session(graph=graph) as session:\n",
      "  tf.initialize_all_variables().run()\n",
      "  print \"Initialized\"\n",
      "  for step in xrange(num_steps):\n",
      "    offset = (step * batch_size) % (train_labels.shape[0] - batch_size)\n",
      "    batch_data = train_dataset[offset:(offset + batch_size), :, :, :]\n",
      "    batch_labels = train_labels[offset:(offset + batch_size), :]\n",
      "    feed_dict = {tf_train_dataset : batch_data, tf_train_labels : batch_labels}\n",
      "    _, l, predictions = session.run(\n",
      "      [optimizer, loss, train_prediction], feed_dict=feed_dict)\n",
      "    if (step % 50 == 0):\n",
      "      print \"Minibatch loss at step\", step, \":\", l\n",
      "      print \"Minibatch accuracy: %.1f%%\" % accuracy(predictions, batch_labels)\n",
      "      print \"Validation accuracy: %.1f%%\" % accuracy(\n",
      "        valid_prediction.eval(), valid_labels)\n",
      "  print \"Test accuracy: %.1f%%\" % accuracy(test_prediction.eval(), test_labels)\n"
     ],
     "language": "python",
     "metadata": {},
     "outputs": [
      {
       "output_type": "stream",
       "stream": "stdout",
       "text": [
        "Initialized\n",
        "Minibatch loss at step"
       ]
      },
      {
       "output_type": "stream",
       "stream": "stdout",
       "text": [
        " 0 : 4.49921\n",
        "Minibatch accuracy: 12.5%\n",
        "Validation accuracy: 10.1%"
       ]
      },
      {
       "output_type": "stream",
       "stream": "stdout",
       "text": [
        "\n",
        "Minibatch loss at step"
       ]
      },
      {
       "output_type": "stream",
       "stream": "stdout",
       "text": [
        " 50 : 2.18782\n",
        "Minibatch accuracy: 21.1%\n",
        "Validation accuracy: 33.0%"
       ]
      },
      {
       "output_type": "stream",
       "stream": "stdout",
       "text": [
        "\n",
        "Minibatch loss at step"
       ]
      },
      {
       "output_type": "stream",
       "stream": "stdout",
       "text": [
        " 100 : 1.7658\n",
        "Minibatch accuracy: 40.6%\n",
        "Validation accuracy: 72.0%"
       ]
      },
      {
       "output_type": "stream",
       "stream": "stdout",
       "text": [
        "\n",
        "Minibatch loss at step"
       ]
      },
      {
       "output_type": "stream",
       "stream": "stdout",
       "text": [
        " 150 : 1.41189"
       ]
      },
      {
       "output_type": "stream",
       "stream": "stdout",
       "text": [
        "\n",
        "Minibatch accuracy: 57.0%\n",
        "Validation accuracy: 75.8%"
       ]
      },
      {
       "output_type": "stream",
       "stream": "stdout",
       "text": [
        "\n",
        "Minibatch loss at step"
       ]
      },
      {
       "output_type": "stream",
       "stream": "stdout",
       "text": [
        " 200 : 1.20714\n",
        "Minibatch accuracy: 64.1%\n",
        "Validation accuracy: 79.2%"
       ]
      },
      {
       "output_type": "stream",
       "stream": "stdout",
       "text": [
        "\n",
        "Minibatch loss at step"
       ]
      },
      {
       "output_type": "stream",
       "stream": "stdout",
       "text": [
        " 250 : 1.08515\n",
        "Minibatch accuracy: 68.0%\n",
        "Validation accuracy: 80.4%"
       ]
      },
      {
       "output_type": "stream",
       "stream": "stdout",
       "text": [
        "\n",
        "Minibatch loss at step"
       ]
      },
      {
       "output_type": "stream",
       "stream": "stdout",
       "text": [
        " 300 : 1.07543\n",
        "Minibatch accuracy: 64.1%\n",
        "Validation accuracy: 81.1%"
       ]
      },
      {
       "output_type": "stream",
       "stream": "stdout",
       "text": [
        "\n",
        "Minibatch loss at step"
       ]
      },
      {
       "output_type": "stream",
       "stream": "stdout",
       "text": [
        " 350 : 1.1619\n",
        "Minibatch accuracy: 64.1%\n",
        "Validation accuracy: 81.1%"
       ]
      },
      {
       "output_type": "stream",
       "stream": "stdout",
       "text": [
        "\n",
        "Minibatch loss at step"
       ]
      },
      {
       "output_type": "stream",
       "stream": "stdout",
       "text": [
        " 400 : 0.741226\n",
        "Minibatch accuracy: 75.0%\n",
        "Validation accuracy: 82.3%"
       ]
      },
      {
       "output_type": "stream",
       "stream": "stdout",
       "text": [
        "\n",
        "Minibatch loss at step"
       ]
      },
      {
       "output_type": "stream",
       "stream": "stdout",
       "text": [
        " 450 : 0.877979\n",
        "Minibatch accuracy: 75.8%\n",
        "Validation accuracy: 82.4%"
       ]
      },
      {
       "output_type": "stream",
       "stream": "stdout",
       "text": [
        "\n",
        "Minibatch loss at step"
       ]
      },
      {
       "output_type": "stream",
       "stream": "stdout",
       "text": [
        " 500 : 0.789772\n",
        "Minibatch accuracy: 72.7%\n",
        "Validation accuracy: 83.5%"
       ]
      },
      {
       "output_type": "stream",
       "stream": "stdout",
       "text": [
        "\n",
        "Minibatch loss at step"
       ]
      },
      {
       "output_type": "stream",
       "stream": "stdout",
       "text": [
        " 550 : 0.8678\n",
        "Minibatch accuracy: 71.9%\n",
        "Validation accuracy: 83.5%"
       ]
      },
      {
       "output_type": "stream",
       "stream": "stdout",
       "text": [
        "\n",
        "Minibatch loss at step"
       ]
      },
      {
       "output_type": "stream",
       "stream": "stdout",
       "text": [
        " 600 : 1.01701\n",
        "Minibatch accuracy: 71.9%\n",
        "Validation accuracy: 83.5%"
       ]
      },
      {
       "output_type": "stream",
       "stream": "stdout",
       "text": [
        "\n",
        "Minibatch loss at step"
       ]
      },
      {
       "output_type": "stream",
       "stream": "stdout",
       "text": [
        " 650 : 0.816106\n",
        "Minibatch accuracy: 76.6%\n",
        "Validation accuracy: 84.2%"
       ]
      },
      {
       "output_type": "stream",
       "stream": "stdout",
       "text": [
        "\n",
        "Minibatch loss at step"
       ]
      },
      {
       "output_type": "stream",
       "stream": "stdout",
       "text": [
        " 700 : 0.922382\n",
        "Minibatch accuracy: 79.7%\n",
        "Validation accuracy: 84.4%"
       ]
      },
      {
       "output_type": "stream",
       "stream": "stdout",
       "text": [
        "\n",
        "Minibatch loss at step"
       ]
      },
      {
       "output_type": "stream",
       "stream": "stdout",
       "text": [
        " 750 : 0.762421\n",
        "Minibatch accuracy: 78.9%\n",
        "Validation accuracy: 84.5%"
       ]
      },
      {
       "output_type": "stream",
       "stream": "stdout",
       "text": [
        "\n",
        "Minibatch loss at step"
       ]
      },
      {
       "output_type": "stream",
       "stream": "stdout",
       "text": [
        " 800 : 0.708523\n",
        "Minibatch accuracy: 80.5%\n",
        "Validation accuracy: 84.5%"
       ]
      },
      {
       "output_type": "stream",
       "stream": "stdout",
       "text": [
        "\n",
        "Minibatch loss at step"
       ]
      },
      {
       "output_type": "stream",
       "stream": "stdout",
       "text": [
        " 850 : 0.69348\n",
        "Minibatch accuracy: 83.6%\n",
        "Validation accuracy: 85.0%"
       ]
      },
      {
       "output_type": "stream",
       "stream": "stdout",
       "text": [
        "\n",
        "Minibatch loss at step"
       ]
      },
      {
       "output_type": "stream",
       "stream": "stdout",
       "text": [
        " 900 : 0.643786\n",
        "Minibatch accuracy: 84.4%\n",
        "Validation accuracy: 85.0%"
       ]
      },
      {
       "output_type": "stream",
       "stream": "stdout",
       "text": [
        "\n",
        "Minibatch loss at step"
       ]
      },
      {
       "output_type": "stream",
       "stream": "stdout",
       "text": [
        " 950 : 0.653394\n",
        "Minibatch accuracy: 80.5%\n",
        "Validation accuracy: 85.0%"
       ]
      },
      {
       "output_type": "stream",
       "stream": "stdout",
       "text": [
        "\n",
        "Minibatch loss at step"
       ]
      },
      {
       "output_type": "stream",
       "stream": "stdout",
       "text": [
        " 1000 : 0.699663\n",
        "Minibatch accuracy: 80.5%\n",
        "Validation accuracy: 85.2%"
       ]
      },
      {
       "output_type": "stream",
       "stream": "stdout",
       "text": [
        "\n",
        "Minibatch loss at step"
       ]
      },
      {
       "output_type": "stream",
       "stream": "stdout",
       "text": [
        " 1050 : 0.632386\n",
        "Minibatch accuracy: 83.6%\n",
        "Validation accuracy: 85.7%"
       ]
      },
      {
       "output_type": "stream",
       "stream": "stdout",
       "text": [
        "\n",
        "Minibatch loss at step"
       ]
      },
      {
       "output_type": "stream",
       "stream": "stdout",
       "text": [
        " 1100 : 0.856887\n",
        "Minibatch accuracy: 77.3%\n",
        "Validation accuracy: 85.0%"
       ]
      },
      {
       "output_type": "stream",
       "stream": "stdout",
       "text": [
        "\n",
        "Minibatch loss at step"
       ]
      },
      {
       "output_type": "stream",
       "stream": "stdout",
       "text": [
        " 1150 : 0.83723\n",
        "Minibatch accuracy: 75.0%\n",
        "Validation accuracy: 85.4%"
       ]
      },
      {
       "output_type": "stream",
       "stream": "stdout",
       "text": [
        "\n",
        "Minibatch loss at step"
       ]
      },
      {
       "output_type": "stream",
       "stream": "stdout",
       "text": [
        " 1200 : 0.622556\n",
        "Minibatch accuracy: 85.9%\n",
        "Validation accuracy: 86.2%"
       ]
      },
      {
       "output_type": "stream",
       "stream": "stdout",
       "text": [
        "\n",
        "Minibatch loss at step"
       ]
      },
      {
       "output_type": "stream",
       "stream": "stdout",
       "text": [
        " 1250 : 0.613338\n",
        "Minibatch accuracy: 84.4%\n",
        "Validation accuracy: 85.8%"
       ]
      },
      {
       "output_type": "stream",
       "stream": "stdout",
       "text": [
        "\n",
        "Minibatch loss at step"
       ]
      },
      {
       "output_type": "stream",
       "stream": "stdout",
       "text": [
        " 1300 : 0.593959\n",
        "Minibatch accuracy: 84.4%\n",
        "Validation accuracy: 85.7%"
       ]
      },
      {
       "output_type": "stream",
       "stream": "stdout",
       "text": [
        "\n",
        "Minibatch loss at step"
       ]
      },
      {
       "output_type": "stream",
       "stream": "stdout",
       "text": [
        " 1350 : 0.734462\n",
        "Minibatch accuracy: 79.7%\n",
        "Validation accuracy: 86.3%"
       ]
      },
      {
       "output_type": "stream",
       "stream": "stdout",
       "text": [
        "\n",
        "Minibatch loss at step"
       ]
      },
      {
       "output_type": "stream",
       "stream": "stdout",
       "text": [
        " 1400 : 0.661278\n",
        "Minibatch accuracy: 83.6%\n",
        "Validation accuracy: 86.7%"
       ]
      },
      {
       "output_type": "stream",
       "stream": "stdout",
       "text": [
        "\n",
        "Minibatch loss at step"
       ]
      },
      {
       "output_type": "stream",
       "stream": "stdout",
       "text": [
        " 1450 : 0.687552\n",
        "Minibatch accuracy: 78.9%\n",
        "Validation accuracy: 86.4%"
       ]
      },
      {
       "output_type": "stream",
       "stream": "stdout",
       "text": [
        "\n",
        "Minibatch loss at step"
       ]
      },
      {
       "output_type": "stream",
       "stream": "stdout",
       "text": [
        " 1500 : 0.732149\n",
        "Minibatch accuracy: 77.3%\n",
        "Validation accuracy: 86.3%"
       ]
      },
      {
       "output_type": "stream",
       "stream": "stdout",
       "text": [
        "\n",
        "Minibatch loss at step"
       ]
      },
      {
       "output_type": "stream",
       "stream": "stdout",
       "text": [
        " 1550 : 0.768271\n",
        "Minibatch accuracy: 77.3%\n",
        "Validation accuracy: 86.5%"
       ]
      },
      {
       "output_type": "stream",
       "stream": "stdout",
       "text": [
        "\n",
        "Minibatch loss at step"
       ]
      },
      {
       "output_type": "stream",
       "stream": "stdout",
       "text": [
        " 1600 : 0.670731\n",
        "Minibatch accuracy: 80.5%\n",
        "Validation accuracy: 86.8%"
       ]
      },
      {
       "output_type": "stream",
       "stream": "stdout",
       "text": [
        "\n",
        "Minibatch loss at step"
       ]
      },
      {
       "output_type": "stream",
       "stream": "stdout",
       "text": [
        " 1650 : 0.608395\n",
        "Minibatch accuracy: 85.9%\n",
        "Validation accuracy: 86.3%"
       ]
      },
      {
       "output_type": "stream",
       "stream": "stdout",
       "text": [
        "\n",
        "Minibatch loss at step"
       ]
      },
      {
       "output_type": "stream",
       "stream": "stdout",
       "text": [
        " 1700 : 0.649775\n",
        "Minibatch accuracy: 83.6%\n",
        "Validation accuracy: 86.8%"
       ]
      },
      {
       "output_type": "stream",
       "stream": "stdout",
       "text": [
        "\n",
        "Minibatch loss at step"
       ]
      },
      {
       "output_type": "stream",
       "stream": "stdout",
       "text": [
        " 1750 : 0.730227"
       ]
      },
      {
       "output_type": "stream",
       "stream": "stdout",
       "text": [
        "\n",
        "Minibatch accuracy: 81.2%\n",
        "Validation accuracy: 87.1%"
       ]
      },
      {
       "output_type": "stream",
       "stream": "stdout",
       "text": [
        "\n",
        "Minibatch loss at step"
       ]
      },
      {
       "output_type": "stream",
       "stream": "stdout",
       "text": [
        " 1800 : 0.608562\n",
        "Minibatch accuracy: 84.4%\n",
        "Validation accuracy: 86.6%"
       ]
      },
      {
       "output_type": "stream",
       "stream": "stdout",
       "text": [
        "\n",
        "Minibatch loss at step"
       ]
      },
      {
       "output_type": "stream",
       "stream": "stdout",
       "text": [
        " 1850 : 0.649906\n",
        "Minibatch accuracy: 81.2%\n",
        "Validation accuracy: 87.2%"
       ]
      },
      {
       "output_type": "stream",
       "stream": "stdout",
       "text": [
        "\n",
        "Minibatch loss at step"
       ]
      },
      {
       "output_type": "stream",
       "stream": "stdout",
       "text": [
        " 1900 : 0.53537\n",
        "Minibatch accuracy: 83.6%\n",
        "Validation accuracy: 87.2%"
       ]
      },
      {
       "output_type": "stream",
       "stream": "stdout",
       "text": [
        "\n",
        "Minibatch loss at step"
       ]
      },
      {
       "output_type": "stream",
       "stream": "stdout",
       "text": [
        " 1950 : 0.623863\n",
        "Minibatch accuracy: 83.6%\n",
        "Validation accuracy: 87.1%"
       ]
      },
      {
       "output_type": "stream",
       "stream": "stdout",
       "text": [
        "\n",
        "Minibatch loss at step"
       ]
      },
      {
       "output_type": "stream",
       "stream": "stdout",
       "text": [
        " 2000 : 0.543163\n",
        "Minibatch accuracy: 85.9%\n",
        "Validation accuracy: 87.4%"
       ]
      },
      {
       "output_type": "stream",
       "stream": "stdout",
       "text": [
        "\n",
        "Minibatch loss at step"
       ]
      },
      {
       "output_type": "stream",
       "stream": "stdout",
       "text": [
        " 2050 : 0.522107\n",
        "Minibatch accuracy: 86.7%\n",
        "Validation accuracy: 87.2%"
       ]
      },
      {
       "output_type": "stream",
       "stream": "stdout",
       "text": [
        "\n",
        "Minibatch loss at step"
       ]
      },
      {
       "output_type": "stream",
       "stream": "stdout",
       "text": [
        " 2100 : 0.676032\n",
        "Minibatch accuracy: 83.6%\n",
        "Validation accuracy: 87.4%"
       ]
      },
      {
       "output_type": "stream",
       "stream": "stdout",
       "text": [
        "\n",
        "Minibatch loss at step"
       ]
      },
      {
       "output_type": "stream",
       "stream": "stdout",
       "text": [
        " 2150 : 0.456252\n",
        "Minibatch accuracy: 88.3%\n",
        "Validation accuracy: 87.1%"
       ]
      },
      {
       "output_type": "stream",
       "stream": "stdout",
       "text": [
        "\n",
        "Minibatch loss at step"
       ]
      },
      {
       "output_type": "stream",
       "stream": "stdout",
       "text": [
        " 2200 : 0.557409\n",
        "Minibatch accuracy: 85.2%\n",
        "Validation accuracy: 87.5%"
       ]
      },
      {
       "output_type": "stream",
       "stream": "stdout",
       "text": [
        "\n",
        "Minibatch loss at step"
       ]
      },
      {
       "output_type": "stream",
       "stream": "stdout",
       "text": [
        " 2250 : 0.621343\n",
        "Minibatch accuracy: 81.2%\n",
        "Validation accuracy: 87.6%"
       ]
      },
      {
       "output_type": "stream",
       "stream": "stdout",
       "text": [
        "\n",
        "Minibatch loss at step"
       ]
      },
      {
       "output_type": "stream",
       "stream": "stdout",
       "text": [
        " 2300 : 0.581067\n",
        "Minibatch accuracy: 86.7%\n",
        "Validation accuracy: 87.4%"
       ]
      },
      {
       "output_type": "stream",
       "stream": "stdout",
       "text": [
        "\n",
        "Minibatch loss at step"
       ]
      },
      {
       "output_type": "stream",
       "stream": "stdout",
       "text": [
        " 2350 : 0.488269\n",
        "Minibatch accuracy: 87.5%\n",
        "Validation accuracy: 87.3%"
       ]
      },
      {
       "output_type": "stream",
       "stream": "stdout",
       "text": [
        "\n",
        "Minibatch loss at step"
       ]
      },
      {
       "output_type": "stream",
       "stream": "stdout",
       "text": [
        " 2400 : 0.914101\n",
        "Minibatch accuracy: 76.6%\n",
        "Validation accuracy: 87.4%"
       ]
      },
      {
       "output_type": "stream",
       "stream": "stdout",
       "text": [
        "\n",
        "Minibatch loss at step"
       ]
      },
      {
       "output_type": "stream",
       "stream": "stdout",
       "text": [
        " 2450 : 0.597332\n",
        "Minibatch accuracy: 82.8%\n",
        "Validation accuracy: 87.5%"
       ]
      },
      {
       "output_type": "stream",
       "stream": "stdout",
       "text": [
        "\n",
        "Minibatch loss at step"
       ]
      },
      {
       "output_type": "stream",
       "stream": "stdout",
       "text": [
        " 2500 : 0.429589\n",
        "Minibatch accuracy: 88.3%\n",
        "Validation accuracy: 87.7%"
       ]
      },
      {
       "output_type": "stream",
       "stream": "stdout",
       "text": [
        "\n",
        "Minibatch loss at step"
       ]
      },
      {
       "output_type": "stream",
       "stream": "stdout",
       "text": [
        " 2550 : 0.709572\n",
        "Minibatch accuracy: 80.5%\n",
        "Validation accuracy: 87.6%"
       ]
      },
      {
       "output_type": "stream",
       "stream": "stdout",
       "text": [
        "\n",
        "Minibatch loss at step"
       ]
      },
      {
       "output_type": "stream",
       "stream": "stdout",
       "text": [
        " 2600 : 0.562936\n",
        "Minibatch accuracy: 85.9%\n",
        "Validation accuracy: 87.7%"
       ]
      },
      {
       "output_type": "stream",
       "stream": "stdout",
       "text": [
        "\n",
        "Minibatch loss at step"
       ]
      },
      {
       "output_type": "stream",
       "stream": "stdout",
       "text": [
        " 2650 : 0.656472\n",
        "Minibatch accuracy: 85.2%\n",
        "Validation accuracy: 87.9%"
       ]
      },
      {
       "output_type": "stream",
       "stream": "stdout",
       "text": [
        "\n",
        "Minibatch loss at step"
       ]
      },
      {
       "output_type": "stream",
       "stream": "stdout",
       "text": [
        " 2700 : 0.555825\n",
        "Minibatch accuracy: 87.5%\n",
        "Validation accuracy: 87.9%"
       ]
      },
      {
       "output_type": "stream",
       "stream": "stdout",
       "text": [
        "\n",
        "Minibatch loss at step"
       ]
      },
      {
       "output_type": "stream",
       "stream": "stdout",
       "text": [
        " 2750 : 0.637642\n",
        "Minibatch accuracy: 83.6%\n",
        "Validation accuracy: 87.8%"
       ]
      },
      {
       "output_type": "stream",
       "stream": "stdout",
       "text": [
        "\n",
        "Minibatch loss at step"
       ]
      },
      {
       "output_type": "stream",
       "stream": "stdout",
       "text": [
        " 2800 : 0.465484\n",
        "Minibatch accuracy: 87.5%\n",
        "Validation accuracy: 87.6%"
       ]
      },
      {
       "output_type": "stream",
       "stream": "stdout",
       "text": [
        "\n",
        "Minibatch loss at step"
       ]
      },
      {
       "output_type": "stream",
       "stream": "stdout",
       "text": [
        " 2850 : 0.552028\n",
        "Minibatch accuracy: 84.4%\n",
        "Validation accuracy: 87.9%"
       ]
      },
      {
       "output_type": "stream",
       "stream": "stdout",
       "text": [
        "\n",
        "Minibatch loss at step"
       ]
      },
      {
       "output_type": "stream",
       "stream": "stdout",
       "text": [
        " 2900 : 0.526806\n",
        "Minibatch accuracy: 89.1%\n",
        "Validation accuracy: 87.8%"
       ]
      },
      {
       "output_type": "stream",
       "stream": "stdout",
       "text": [
        "\n",
        "Minibatch loss at step"
       ]
      },
      {
       "output_type": "stream",
       "stream": "stdout",
       "text": [
        " 2950 : 0.467936\n",
        "Minibatch accuracy: 89.8%\n",
        "Validation accuracy: 87.9%"
       ]
      },
      {
       "output_type": "stream",
       "stream": "stdout",
       "text": [
        "\n",
        "Minibatch loss at step"
       ]
      },
      {
       "output_type": "stream",
       "stream": "stdout",
       "text": [
        " 3000 : 0.510555\n",
        "Minibatch accuracy: 87.5%\n",
        "Validation accuracy: 88.1%"
       ]
      },
      {
       "output_type": "stream",
       "stream": "stdout",
       "text": [
        "\n",
        "Test accuracy: 94.0%"
       ]
      },
      {
       "output_type": "stream",
       "stream": "stdout",
       "text": [
        "\n"
       ]
      }
     ],
     "prompt_number": 8
    },
    {
     "cell_type": "markdown",
     "metadata": {
      "colab_type": "text",
      "id": "klf21gpbAgb-"
     },
     "source": [
      "---\n",
      "Problem 2\n",
      "---------\n",
      "\n",
      "Try to get the best performance you can using a convolutional net. Look for example at the classic [LeNet5](http://yann.lecun.com/exdb/lenet/) architecture, adding Dropout, and/or adding learning rate decay.\n",
      "\n",
      "---"
     ]
    },
    {
     "cell_type": "code",
     "collapsed": false,
     "input": [
      "import time\n",
      "import sys\n",
      "\n",
      "batch_size=64\n",
      "PIXEL_DEPTH = 255\n",
      "VALIDATION_SIZE = 5000  # Size of the validation set.\n",
      "SEED = 66478  # Set to None for random seed.\n",
      "NUM_EPOCHS = 10\n",
      "EVAL_BATCH_SIZE = 64\n",
      "EVAL_FREQUENCY = 100  # Number of steps between evaluations.\n",
      "\n",
      "def lenet(argv=None):  # pylint: disable=unused-argument\n",
      "  train_size = train_labels.shape[0]\n",
      "\n",
      "  # This is where training samples and labels are fed to the graph.\n",
      "  # These placeholder nodes will be fed a batch of training data at each\n",
      "  # training step using the {feed_dict} argument to the Run() call below.\n",
      "  train_data_node = tf.placeholder(\n",
      "      tf.float32,\n",
      "      shape=(batch_size, image_size, image_size, num_channels))\n",
      "  train_labels_node = tf.placeholder(tf.float32,\n",
      "                                     shape=(batch_size, num_labels))\n",
      "  eval_data = tf.placeholder(\n",
      "      tf.float32,\n",
      "      shape=(EVAL_BATCH_SIZE, image_size, image_size, num_channels))\n",
      "\n",
      "  # The variables below hold all the trainable weights. They are passed an\n",
      "  # initial value which will be assigned when when we call:\n",
      "  # {tf.initialize_all_variables().run()}\n",
      "  conv1_weights = tf.Variable(\n",
      "      tf.truncated_normal([5, 5, num_channels, 32],  # 5x5 filter, depth 32.\n",
      "                          stddev=0.1,\n",
      "                          seed=SEED))\n",
      "  conv1_biases = tf.Variable(tf.zeros([32]))\n",
      "  conv2_weights = tf.Variable(\n",
      "      tf.truncated_normal([5, 5, 32, 64],\n",
      "                          stddev=0.1,\n",
      "                          seed=SEED))\n",
      "  conv2_biases = tf.Variable(tf.constant(0.1, shape=[64]))\n",
      "  fc1_weights = tf.Variable(  # fully connected, depth 512.\n",
      "      tf.truncated_normal(\n",
      "          [image_size // 4 * image_size // 4 * 64, 512],\n",
      "          stddev=0.1,\n",
      "          seed=SEED))\n",
      "  fc1_biases = tf.Variable(tf.constant(0.1, shape=[512]))\n",
      "  fc2_weights = tf.Variable(\n",
      "      tf.truncated_normal([512, num_labels],\n",
      "                          stddev=0.1,\n",
      "                          seed=SEED))\n",
      "  fc2_biases = tf.Variable(tf.constant(0.1, shape=[num_labels]))\n",
      "\n",
      "  # We will replicate the model structure for the training subgraph, as well\n",
      "  # as the evaluation subgraphs, while sharing the trainable parameters.\n",
      "  def model(data, train=False):\n",
      "    \"\"\"The Model definition.\"\"\"\n",
      "    # 2D convolution, with 'SAME' padding (i.e. the output feature map has\n",
      "    # the same size as the input). Note that {strides} is a 4D array whose\n",
      "    # shape matches the data layout: [image index, y, x, depth].\n",
      "    conv = tf.nn.conv2d(data,\n",
      "                        conv1_weights,\n",
      "                        strides=[1, 1, 1, 1],\n",
      "                        padding='SAME')\n",
      "    # Bias and rectified linear non-linearity.\n",
      "    relu = tf.nn.relu(tf.nn.bias_add(conv, conv1_biases))\n",
      "    # Max pooling. The kernel size spec {ksize} also follows the layout of\n",
      "    # the data. Here we have a pooling window of 2, and a stride of 2.\n",
      "    pool = tf.nn.max_pool(relu,\n",
      "                          ksize=[1, 2, 2, 1],\n",
      "                          strides=[1, 2, 2, 1],\n",
      "                          padding='SAME')\n",
      "    conv = tf.nn.conv2d(pool,\n",
      "                        conv2_weights,\n",
      "                        strides=[1, 1, 1, 1],\n",
      "                        padding='SAME')\n",
      "    relu = tf.nn.relu(tf.nn.bias_add(conv, conv2_biases))\n",
      "    pool = tf.nn.max_pool(relu,\n",
      "                          ksize=[1, 2, 2, 1],\n",
      "                          strides=[1, 2, 2, 1],\n",
      "                          padding='SAME')\n",
      "    # Reshape the feature map cuboid into a 2D matrix to feed it to the\n",
      "    # fully connected layers.\n",
      "    pool_shape = pool.get_shape().as_list()\n",
      "    reshape = tf.reshape(\n",
      "        pool,\n",
      "        [pool_shape[0], pool_shape[1] * pool_shape[2] * pool_shape[3]])\n",
      "    # Fully connected layer. Note that the '+' operation automatically\n",
      "    # broadcasts the biases.\n",
      "    hidden = tf.nn.relu(tf.matmul(reshape, fc1_weights) + fc1_biases)\n",
      "    # Add a 50% dropout during training only. Dropout also scales\n",
      "    # activations such that no rescaling is needed at evaluation time.\n",
      "    if train:\n",
      "      hidden = tf.nn.dropout(hidden, 0.5, seed=SEED)\n",
      "    return tf.matmul(hidden, fc2_weights) + fc2_biases\n",
      "\n",
      "  # Training computation: logits + cross-entropy loss.\n",
      "  logits = model(train_data_node, True)\n",
      "  loss = tf.reduce_mean(tf.nn.softmax_cross_entropy_with_logits(\n",
      "      logits, train_labels_node))\n",
      "\n",
      "  # L2 regularization for the fully connected parameters.\n",
      "  regularizers = (tf.nn.l2_loss(fc1_weights) + tf.nn.l2_loss(fc1_biases) +\n",
      "                  tf.nn.l2_loss(fc2_weights) + tf.nn.l2_loss(fc2_biases))\n",
      "  # Add the regularization term to the loss.\n",
      "  loss += 5e-4 * regularizers\n",
      "\n",
      "  # Optimizer: set up a variable that's incremented once per batch and\n",
      "  # controls the learning rate decay.\n",
      "  batch = tf.Variable(0)\n",
      "  # Decay once per epoch, using an exponential schedule starting at 0.01.\n",
      "  learning_rate = tf.train.exponential_decay(\n",
      "      0.01,                # Base learning rate.\n",
      "      batch * batch_size,  # Current index into the dataset.\n",
      "      train_size,          # Decay step.\n",
      "      0.95,                # Decay rate.\n",
      "      staircase=True)\n",
      "  # Use simple momentum for the optimization.\n",
      "  optimizer = tf.train.MomentumOptimizer(learning_rate,\n",
      "                                         0.9).minimize(loss,\n",
      "                                                       global_step=batch)\n",
      "\n",
      "  # Predictions for the current training minibatch.\n",
      "  train_prediction = tf.nn.softmax(logits)\n",
      "\n",
      "  # Predictions for the test and validation, which we'll compute less often.\n",
      "  eval_prediction = tf.nn.softmax(model(eval_data))\n",
      "\n",
      "  # Small utility function to evaluate a dataset by feeding batches of data to\n",
      "  # {eval_data} and pulling the results from {eval_predictions}.\n",
      "  # Saves memory and enables this to run on smaller GPUs.\n",
      "  def eval_in_batches(data, sess):\n",
      "    \"\"\"Get all predictions for a dataset by running it in small batches.\"\"\"\n",
      "    size = data.shape[0]\n",
      "    if size < EVAL_BATCH_SIZE:\n",
      "      raise ValueError(\"batch size for evals larger than dataset: %d\" % size)\n",
      "    predictions = np.ndarray(shape=(size, num_labels), dtype=np.float32)\n",
      "    for begin in xrange(0, size, EVAL_BATCH_SIZE):\n",
      "      end = begin + EVAL_BATCH_SIZE\n",
      "      if end <= size:\n",
      "        predictions[begin:end, :] = sess.run(\n",
      "            eval_prediction,\n",
      "            feed_dict={eval_data: data[begin:end, ...]})\n",
      "      else:\n",
      "        batch_predictions = sess.run(\n",
      "            eval_prediction,\n",
      "            feed_dict={eval_data: data[-EVAL_BATCH_SIZE:, ...]})\n",
      "        predictions[begin:, :] = batch_predictions[begin - size:, :]\n",
      "    return predictions\n",
      "\n",
      "  # Create a local session to run the training.\n",
      "  start_time = time.time()\n",
      "  with tf.Session() as sess:\n",
      "    # Run all the initializers to prepare the trainable parameters.\n",
      "    tf.initialize_all_variables().run()\n",
      "    print('Initialized!')\n",
      "    # Loop through training steps.\n",
      "    for step in xrange(int(NUM_EPOCHS * train_size) // batch_size):\n",
      "      # Compute the offset of the current minibatch in the data.\n",
      "      # Note that we could use better randomization across epochs.\n",
      "      offset = (step * batch_size) % (train_size - batch_size)\n",
      "      batch_data = train_dataset[offset:(offset + batch_size), ...]\n",
      "      batch_labels = train_labels[offset:(offset + batch_size)]\n",
      "      # This dictionary maps the batch data (as a numpy array) to the\n",
      "      # node in the graph is should be fed to.\n",
      "      feed_dict = {train_data_node: batch_data,\n",
      "                   train_labels_node: batch_labels}\n",
      "      # Run the graph and fetch some of the nodes.\n",
      "      _, l, lr, predictions = sess.run(\n",
      "          [optimizer, loss, learning_rate, train_prediction],\n",
      "          feed_dict=feed_dict)\n",
      "      if step % EVAL_FREQUENCY == 0:\n",
      "        elapsed_time = time.time() - start_time\n",
      "        start_time = time.time()\n",
      "        print('Step %d (epoch %.2f), %.1f ms' %\n",
      "              (step, float(step) * batch_size / train_size,\n",
      "               1000 * elapsed_time / EVAL_FREQUENCY))\n",
      "        print('Minibatch loss: %.3f, learning rate: %.6f' % (l, lr))\n",
      "        print('Minibatch accuracy: %.1f%%' % accuracy(predictions, batch_labels))\n",
      "        print('Validation accuracy: %.1f%%' % accuracy(\n",
      "            eval_in_batches(valid_dataset, sess), valid_labels))\n",
      "        sys.stdout.flush()\n",
      "    # Finally print the result!\n",
      "    test_error = accuracy(eval_in_batches(test_dataset, sess), test_labels)\n",
      "    print('Test accuracy: %.1f%%' % test_error)\n",
      "    \n",
      "lenet()"
     ],
     "language": "python",
     "metadata": {},
     "outputs": [
      {
       "output_type": "stream",
       "stream": "stdout",
       "text": [
        "Initialized!\n",
        "Step 0 (epoch 0.00), 6.7 ms"
       ]
      },
      {
       "output_type": "stream",
       "stream": "stdout",
       "text": [
        "\n",
        "Minibatch loss: 10.624, learning rate: 0.010000\n",
        "Minibatch accuracy: 9.4%\n",
        "Validation accuracy: 15.6%"
       ]
      },
      {
       "output_type": "stream",
       "stream": "stdout",
       "text": [
        "\n"
       ]
      },
      {
       "output_type": "stream",
       "stream": "stdout",
       "text": [
        "Step 100 (epoch 0.03), 150.3 ms\n",
        "Minibatch loss: 3.932, learning rate: 0.010000\n",
        "Minibatch accuracy: 73.4%\n",
        "Validation accuracy: 80.6%"
       ]
      },
      {
       "output_type": "stream",
       "stream": "stdout",
       "text": [
        "\n"
       ]
      },
      {
       "output_type": "stream",
       "stream": "stdout",
       "text": [
        "Step 200 (epoch 0.06), 149.8 ms\n",
        "Minibatch loss: 3.865, learning rate: 0.010000\n",
        "Minibatch accuracy: 73.4%\n",
        "Validation accuracy: 83.8%"
       ]
      },
      {
       "output_type": "stream",
       "stream": "stdout",
       "text": [
        "\n"
       ]
      },
      {
       "output_type": "stream",
       "stream": "stdout",
       "text": [
        "Step 300 (epoch 0.10), 150.2 ms\n",
        "Minibatch loss: 3.527, learning rate: 0.010000\n",
        "Minibatch accuracy: 81.2%\n",
        "Validation accuracy: 84.6%"
       ]
      },
      {
       "output_type": "stream",
       "stream": "stdout",
       "text": [
        "\n"
       ]
      },
      {
       "output_type": "stream",
       "stream": "stdout",
       "text": [
        "Step 400 (epoch 0.13), 150.4 ms\n",
        "Minibatch loss: 3.605, learning rate: 0.010000\n",
        "Minibatch accuracy: 82.8%\n",
        "Validation accuracy: 85.6%"
       ]
      },
      {
       "output_type": "stream",
       "stream": "stdout",
       "text": [
        "\n"
       ]
      },
      {
       "output_type": "stream",
       "stream": "stdout",
       "text": [
        "Step 500 (epoch 0.16), 149.4 ms\n",
        "Minibatch loss: 3.400, learning rate: 0.010000\n",
        "Minibatch accuracy: 87.5%\n",
        "Validation accuracy: 85.9%"
       ]
      },
      {
       "output_type": "stream",
       "stream": "stdout",
       "text": [
        "\n"
       ]
      },
      {
       "output_type": "stream",
       "stream": "stdout",
       "text": [
        "Step 600 (epoch 0.19), 149.7 ms\n",
        "Minibatch loss: 3.516, learning rate: 0.010000\n",
        "Minibatch accuracy: 85.9%\n",
        "Validation accuracy: 86.6%"
       ]
      },
      {
       "output_type": "stream",
       "stream": "stdout",
       "text": [
        "\n"
       ]
      },
      {
       "output_type": "stream",
       "stream": "stdout",
       "text": [
        "Step 700 (epoch 0.22), 149.1 ms\n",
        "Minibatch loss: 3.450, learning rate: 0.010000\n",
        "Minibatch accuracy: 82.8%\n",
        "Validation accuracy: 86.4%"
       ]
      },
      {
       "output_type": "stream",
       "stream": "stdout",
       "text": [
        "\n"
       ]
      },
      {
       "output_type": "stream",
       "stream": "stdout",
       "text": [
        "Step 800 (epoch 0.26), 150.7 ms\n",
        "Minibatch loss: 3.362, learning rate: 0.010000\n",
        "Minibatch accuracy: 90.6%\n",
        "Validation accuracy: 86.5%"
       ]
      },
      {
       "output_type": "stream",
       "stream": "stdout",
       "text": [
        "\n"
       ]
      },
      {
       "output_type": "stream",
       "stream": "stdout",
       "text": [
        "Step 900 (epoch 0.29), 149.5 ms\n",
        "Minibatch loss: 3.248, learning rate: 0.010000\n",
        "Minibatch accuracy: 89.1%\n",
        "Validation accuracy: 87.1%"
       ]
      },
      {
       "output_type": "stream",
       "stream": "stdout",
       "text": [
        "\n"
       ]
      },
      {
       "output_type": "stream",
       "stream": "stdout",
       "text": [
        "Step 1000 (epoch 0.32), 150.6 ms\n",
        "Minibatch loss: 3.249, learning rate: 0.010000\n",
        "Minibatch accuracy: 84.4%\n",
        "Validation accuracy: 87.5%"
       ]
      },
      {
       "output_type": "stream",
       "stream": "stdout",
       "text": [
        "\n"
       ]
      },
      {
       "output_type": "stream",
       "stream": "stdout",
       "text": [
        "Step 1100 (epoch 0.35), 151.0 ms\n",
        "Minibatch loss: 3.180, learning rate: 0.010000\n",
        "Minibatch accuracy: 85.9%\n",
        "Validation accuracy: 87.8%"
       ]
      },
      {
       "output_type": "stream",
       "stream": "stdout",
       "text": [
        "\n"
       ]
      },
      {
       "output_type": "stream",
       "stream": "stdout",
       "text": [
        "Step 1200 (epoch 0.38), 149.7 ms\n",
        "Minibatch loss: 3.204, learning rate: 0.010000\n",
        "Minibatch accuracy: 85.9%\n",
        "Validation accuracy: 87.8%"
       ]
      },
      {
       "output_type": "stream",
       "stream": "stdout",
       "text": [
        "\n"
       ]
      },
      {
       "output_type": "stream",
       "stream": "stdout",
       "text": [
        "Step 1300 (epoch 0.42), 147.8 ms\n",
        "Minibatch loss: 3.286, learning rate: 0.010000\n",
        "Minibatch accuracy: 79.7%\n",
        "Validation accuracy: 88.0%"
       ]
      },
      {
       "output_type": "stream",
       "stream": "stdout",
       "text": [
        "\n"
       ]
      },
      {
       "output_type": "stream",
       "stream": "stdout",
       "text": [
        "Step 1400 (epoch 0.45), 149.5 ms\n",
        "Minibatch loss: 3.202, learning rate: 0.010000\n",
        "Minibatch accuracy: 87.5%\n",
        "Validation accuracy: 88.1%"
       ]
      },
      {
       "output_type": "stream",
       "stream": "stdout",
       "text": [
        "\n"
       ]
      },
      {
       "output_type": "stream",
       "stream": "stdout",
       "text": [
        "Step 1500 (epoch 0.48), 149.7 ms\n",
        "Minibatch loss: 3.185, learning rate: 0.010000\n",
        "Minibatch accuracy: 84.4%\n",
        "Validation accuracy: 88.2%"
       ]
      },
      {
       "output_type": "stream",
       "stream": "stdout",
       "text": [
        "\n"
       ]
      },
      {
       "output_type": "stream",
       "stream": "stdout",
       "text": [
        "Step 1600 (epoch 0.51), 148.8 ms\n",
        "Minibatch loss: 3.076, learning rate: 0.010000\n",
        "Minibatch accuracy: 89.1%\n",
        "Validation accuracy: 88.5%"
       ]
      },
      {
       "output_type": "stream",
       "stream": "stdout",
       "text": [
        "\n"
       ]
      },
      {
       "output_type": "stream",
       "stream": "stdout",
       "text": [
        "Step 1700 (epoch 0.54), 148.2 ms\n",
        "Minibatch loss: 2.933, learning rate: 0.010000\n",
        "Minibatch accuracy: 89.1%\n",
        "Validation accuracy: 88.4%"
       ]
      },
      {
       "output_type": "stream",
       "stream": "stdout",
       "text": [
        "\n"
       ]
      },
      {
       "output_type": "stream",
       "stream": "stdout",
       "text": [
        "Step 1800 (epoch 0.58), 148.9 ms\n",
        "Minibatch loss: 2.987, learning rate: 0.010000\n",
        "Minibatch accuracy: 85.9%\n",
        "Validation accuracy: 88.7%"
       ]
      },
      {
       "output_type": "stream",
       "stream": "stdout",
       "text": [
        "\n"
       ]
      },
      {
       "output_type": "stream",
       "stream": "stdout",
       "text": [
        "Step 1900 (epoch 0.61), 151.4 ms\n",
        "Minibatch loss: 2.872, learning rate: 0.010000\n",
        "Minibatch accuracy: 92.2%\n",
        "Validation accuracy: 88.6%"
       ]
      },
      {
       "output_type": "stream",
       "stream": "stdout",
       "text": [
        "\n"
       ]
      },
      {
       "output_type": "stream",
       "stream": "stdout",
       "text": [
        "Step 2000 (epoch 0.64), 153.4 ms\n",
        "Minibatch loss: 3.072, learning rate: 0.010000\n",
        "Minibatch accuracy: 82.8%\n",
        "Validation accuracy: 88.8%"
       ]
      },
      {
       "output_type": "stream",
       "stream": "stdout",
       "text": [
        "\n"
       ]
      },
      {
       "output_type": "stream",
       "stream": "stdout",
       "text": [
        "Step 2100 (epoch 0.67), 149.0 ms\n",
        "Minibatch loss: 2.815, learning rate: 0.010000\n",
        "Minibatch accuracy: 90.6%\n",
        "Validation accuracy: 88.9%"
       ]
      },
      {
       "output_type": "stream",
       "stream": "stdout",
       "text": [
        "\n"
       ]
      },
      {
       "output_type": "stream",
       "stream": "stdout",
       "text": [
        "Step 2200 (epoch 0.70), 149.0 ms\n",
        "Minibatch loss: 3.152, learning rate: 0.010000\n",
        "Minibatch accuracy: 81.2%\n",
        "Validation accuracy: 89.0%"
       ]
      },
      {
       "output_type": "stream",
       "stream": "stdout",
       "text": [
        "\n"
       ]
      },
      {
       "output_type": "stream",
       "stream": "stdout",
       "text": [
        "Step 2300 (epoch 0.74), 148.6 ms\n",
        "Minibatch loss: 3.047, learning rate: 0.010000\n",
        "Minibatch accuracy: 85.9%\n",
        "Validation accuracy: 88.9%"
       ]
      },
      {
       "output_type": "stream",
       "stream": "stdout",
       "text": [
        "\n"
       ]
      },
      {
       "output_type": "stream",
       "stream": "stdout",
       "text": [
        "Step 2400 (epoch 0.77), 148.4 ms\n",
        "Minibatch loss: 2.873, learning rate: 0.010000\n",
        "Minibatch accuracy: 87.5%\n",
        "Validation accuracy: 89.3%"
       ]
      },
      {
       "output_type": "stream",
       "stream": "stdout",
       "text": [
        "\n"
       ]
      },
      {
       "output_type": "stream",
       "stream": "stdout",
       "text": [
        "Step 2500 (epoch 0.80), 148.3 ms\n",
        "Minibatch loss: 2.792, learning rate: 0.010000\n",
        "Minibatch accuracy: 92.2%\n",
        "Validation accuracy: 89.1%"
       ]
      },
      {
       "output_type": "stream",
       "stream": "stdout",
       "text": [
        "\n"
       ]
      },
      {
       "output_type": "stream",
       "stream": "stdout",
       "text": [
        "Step 2600 (epoch 0.83), 148.4 ms\n",
        "Minibatch loss: 2.726, learning rate: 0.010000\n",
        "Minibatch accuracy: 90.6%\n",
        "Validation accuracy: 89.2%"
       ]
      },
      {
       "output_type": "stream",
       "stream": "stdout",
       "text": [
        "\n"
       ]
      },
      {
       "output_type": "stream",
       "stream": "stdout",
       "text": [
        "Step 2700 (epoch 0.86), 147.6 ms\n",
        "Minibatch loss: 2.775, learning rate: 0.010000\n",
        "Minibatch accuracy: 90.6%\n",
        "Validation accuracy: 89.2%"
       ]
      },
      {
       "output_type": "stream",
       "stream": "stdout",
       "text": [
        "\n"
       ]
      },
      {
       "output_type": "stream",
       "stream": "stdout",
       "text": [
        "Step 2800 (epoch 0.90), 148.6 ms\n",
        "Minibatch loss: 2.957, learning rate: 0.010000\n",
        "Minibatch accuracy: 85.9%\n",
        "Validation accuracy: 89.3%"
       ]
      },
      {
       "output_type": "stream",
       "stream": "stdout",
       "text": [
        "\n"
       ]
      },
      {
       "output_type": "stream",
       "stream": "stdout",
       "text": [
        "Step 2900 (epoch 0.93), 147.9 ms\n",
        "Minibatch loss: 2.877, learning rate: 0.010000\n",
        "Minibatch accuracy: 85.9%\n",
        "Validation accuracy: 89.3%"
       ]
      },
      {
       "output_type": "stream",
       "stream": "stdout",
       "text": [
        "\n"
       ]
      },
      {
       "output_type": "stream",
       "stream": "stdout",
       "text": [
        "Step 3000 (epoch 0.96), 148.6 ms\n",
        "Minibatch loss: 2.878, learning rate: 0.010000\n",
        "Minibatch accuracy: 85.9%\n",
        "Validation accuracy: 88.8%"
       ]
      },
      {
       "output_type": "stream",
       "stream": "stdout",
       "text": [
        "\n"
       ]
      },
      {
       "output_type": "stream",
       "stream": "stdout",
       "text": [
        "Step 3100 (epoch 0.99), 147.9 ms\n",
        "Minibatch loss: 2.738, learning rate: 0.010000\n",
        "Minibatch accuracy: 85.9%\n",
        "Validation accuracy: 89.5%"
       ]
      },
      {
       "output_type": "stream",
       "stream": "stdout",
       "text": [
        "\n"
       ]
      },
      {
       "output_type": "stream",
       "stream": "stdout",
       "text": [
        "Step 3200 (epoch 1.02), 148.9 ms\n",
        "Minibatch loss: 2.697, learning rate: 0.009500\n",
        "Minibatch accuracy: 87.5%\n",
        "Validation accuracy: 89.5%"
       ]
      },
      {
       "output_type": "stream",
       "stream": "stdout",
       "text": [
        "\n"
       ]
      },
      {
       "output_type": "stream",
       "stream": "stdout",
       "text": [
        "Step 3300 (epoch 1.06), 147.5 ms\n",
        "Minibatch loss: 2.441, learning rate: 0.009500\n",
        "Minibatch accuracy: 95.3%\n",
        "Validation accuracy: 89.6%"
       ]
      },
      {
       "output_type": "stream",
       "stream": "stdout",
       "text": [
        "\n"
       ]
      },
      {
       "output_type": "stream",
       "stream": "stdout",
       "text": [
        "Step 3400 (epoch 1.09), 148.2 ms\n",
        "Minibatch loss: 2.480, learning rate: 0.009500\n",
        "Minibatch accuracy: 90.6%\n",
        "Validation accuracy: 89.7%"
       ]
      },
      {
       "output_type": "stream",
       "stream": "stdout",
       "text": [
        "\n"
       ]
      },
      {
       "output_type": "stream",
       "stream": "stdout",
       "text": [
        "Step 3500 (epoch 1.12), 147.6 ms\n",
        "Minibatch loss: 2.442, learning rate: 0.009500\n",
        "Minibatch accuracy: 93.8%\n",
        "Validation accuracy: 89.9%"
       ]
      },
      {
       "output_type": "stream",
       "stream": "stdout",
       "text": [
        "\n"
       ]
      },
      {
       "output_type": "stream",
       "stream": "stdout",
       "text": [
        "Step 3600 (epoch 1.15), 148.1 ms\n",
        "Minibatch loss: 2.464, learning rate: 0.009500\n",
        "Minibatch accuracy: 93.8%\n",
        "Validation accuracy: 89.8%"
       ]
      },
      {
       "output_type": "stream",
       "stream": "stdout",
       "text": [
        "\n"
       ]
      },
      {
       "output_type": "stream",
       "stream": "stdout",
       "text": [
        "Step 3700 (epoch 1.18), 147.6 ms\n",
        "Minibatch loss: 2.362, learning rate: 0.009500\n",
        "Minibatch accuracy: 93.8%\n",
        "Validation accuracy: 90.1%"
       ]
      },
      {
       "output_type": "stream",
       "stream": "stdout",
       "text": [
        "\n"
       ]
      },
      {
       "output_type": "stream",
       "stream": "stdout",
       "text": [
        "Step 3800 (epoch 1.22), 147.4 ms\n",
        "Minibatch loss: 2.503, learning rate: 0.009500\n",
        "Minibatch accuracy: 87.5%\n",
        "Validation accuracy: 89.7%"
       ]
      },
      {
       "output_type": "stream",
       "stream": "stdout",
       "text": [
        "\n"
       ]
      },
      {
       "output_type": "stream",
       "stream": "stdout",
       "text": [
        "Step 3900 (epoch 1.25), 147.8 ms\n",
        "Minibatch loss: 2.574, learning rate: 0.009500\n",
        "Minibatch accuracy: 84.4%\n",
        "Validation accuracy: 89.9%"
       ]
      },
      {
       "output_type": "stream",
       "stream": "stdout",
       "text": [
        "\n"
       ]
      },
      {
       "output_type": "stream",
       "stream": "stdout",
       "text": [
        "Step 4000 (epoch 1.28), 147.7 ms\n",
        "Minibatch loss: 2.667, learning rate: 0.009500\n",
        "Minibatch accuracy: 87.5%\n",
        "Validation accuracy: 90.0%"
       ]
      },
      {
       "output_type": "stream",
       "stream": "stdout",
       "text": [
        "\n"
       ]
      },
      {
       "output_type": "stream",
       "stream": "stdout",
       "text": [
        "Step 4100 (epoch 1.31), 148.3 ms\n",
        "Minibatch loss: 2.533, learning rate: 0.009500\n",
        "Minibatch accuracy: 89.1%\n",
        "Validation accuracy: 90.0%"
       ]
      },
      {
       "output_type": "stream",
       "stream": "stdout",
       "text": [
        "\n"
       ]
      },
      {
       "output_type": "stream",
       "stream": "stdout",
       "text": [
        "Step 4200 (epoch 1.34), 152.0 ms\n",
        "Minibatch loss: 2.344, learning rate: 0.009500\n",
        "Minibatch accuracy: 92.2%\n",
        "Validation accuracy: 89.5%"
       ]
      },
      {
       "output_type": "stream",
       "stream": "stdout",
       "text": [
        "\n"
       ]
      },
      {
       "output_type": "stream",
       "stream": "stdout",
       "text": [
        "Step 4300 (epoch 1.38), 147.4 ms\n",
        "Minibatch loss: 2.292, learning rate: 0.009500\n",
        "Minibatch accuracy: 92.2%\n",
        "Validation accuracy: 90.0%"
       ]
      },
      {
       "output_type": "stream",
       "stream": "stdout",
       "text": [
        "\n"
       ]
      },
      {
       "output_type": "stream",
       "stream": "stdout",
       "text": [
        "Step 4400 (epoch 1.41), 147.4 ms\n",
        "Minibatch loss: 2.194, learning rate: 0.009500\n",
        "Minibatch accuracy: 95.3%\n",
        "Validation accuracy: 89.8%"
       ]
      },
      {
       "output_type": "stream",
       "stream": "stdout",
       "text": [
        "\n"
       ]
      },
      {
       "output_type": "stream",
       "stream": "stdout",
       "text": [
        "Step 4500 (epoch 1.44), 148.3 ms\n",
        "Minibatch loss: 2.681, learning rate: 0.009500\n",
        "Minibatch accuracy: 78.1%\n",
        "Validation accuracy: 90.1%"
       ]
      },
      {
       "output_type": "stream",
       "stream": "stdout",
       "text": [
        "\n"
       ]
      },
      {
       "output_type": "stream",
       "stream": "stdout",
       "text": [
        "Step 4600 (epoch 1.47), 147.8 ms\n",
        "Minibatch loss: 2.464, learning rate: 0.009500\n",
        "Minibatch accuracy: 87.5%\n",
        "Validation accuracy: 89.9%"
       ]
      },
      {
       "output_type": "stream",
       "stream": "stdout",
       "text": [
        "\n"
       ]
      },
      {
       "output_type": "stream",
       "stream": "stdout",
       "text": [
        "Step 4700 (epoch 1.50), 147.7 ms\n",
        "Minibatch loss: 2.362, learning rate: 0.009500\n",
        "Minibatch accuracy: 85.9%\n",
        "Validation accuracy: 90.2%"
       ]
      },
      {
       "output_type": "stream",
       "stream": "stdout",
       "text": [
        "\n"
       ]
      },
      {
       "output_type": "stream",
       "stream": "stdout",
       "text": [
        "Step 4800 (epoch 1.54), 147.9 ms\n",
        "Minibatch loss: 2.367, learning rate: 0.009500\n",
        "Minibatch accuracy: 87.5%\n",
        "Validation accuracy: 90.3%"
       ]
      },
      {
       "output_type": "stream",
       "stream": "stdout",
       "text": [
        "\n"
       ]
      },
      {
       "output_type": "stream",
       "stream": "stdout",
       "text": [
        "Step 4900 (epoch 1.57), 148.6 ms\n",
        "Minibatch loss: 2.253, learning rate: 0.009500\n",
        "Minibatch accuracy: 90.6%\n",
        "Validation accuracy: 90.1%"
       ]
      },
      {
       "output_type": "stream",
       "stream": "stdout",
       "text": [
        "\n"
       ]
      },
      {
       "output_type": "stream",
       "stream": "stdout",
       "text": [
        "Step 5000 (epoch 1.60), 147.6 ms\n",
        "Minibatch loss: 2.544, learning rate: 0.009500\n",
        "Minibatch accuracy: 81.2%\n",
        "Validation accuracy: 90.0%"
       ]
      },
      {
       "output_type": "stream",
       "stream": "stdout",
       "text": [
        "\n"
       ]
      },
      {
       "output_type": "stream",
       "stream": "stdout",
       "text": [
        "Step 5100 (epoch 1.63), 148.2 ms\n",
        "Minibatch loss: 2.405, learning rate: 0.009500\n",
        "Minibatch accuracy: 85.9%\n",
        "Validation accuracy: 90.4%"
       ]
      },
      {
       "output_type": "stream",
       "stream": "stdout",
       "text": [
        "\n"
       ]
      },
      {
       "output_type": "stream",
       "stream": "stdout",
       "text": [
        "Step 5200 (epoch 1.66), 147.7 ms\n",
        "Minibatch loss: 2.192, learning rate: 0.009500\n",
        "Minibatch accuracy: 87.5%\n",
        "Validation accuracy: 90.1%"
       ]
      },
      {
       "output_type": "stream",
       "stream": "stdout",
       "text": [
        "\n"
       ]
      },
      {
       "output_type": "stream",
       "stream": "stdout",
       "text": [
        "Step 5300 (epoch 1.70), 149.2 ms\n",
        "Minibatch loss: 2.125, learning rate: 0.009500\n",
        "Minibatch accuracy: 92.2%\n",
        "Validation accuracy: 90.1%"
       ]
      },
      {
       "output_type": "stream",
       "stream": "stdout",
       "text": [
        "\n"
       ]
      },
      {
       "output_type": "stream",
       "stream": "stdout",
       "text": [
        "Step 5400 (epoch 1.73), 148.1 ms\n",
        "Minibatch loss: 2.272, learning rate: 0.009500\n",
        "Minibatch accuracy: 89.1%\n",
        "Validation accuracy: 90.5%"
       ]
      },
      {
       "output_type": "stream",
       "stream": "stdout",
       "text": [
        "\n"
       ]
      },
      {
       "output_type": "stream",
       "stream": "stdout",
       "text": [
        "Step 5500 (epoch 1.76), 148.2 ms\n",
        "Minibatch loss: 2.499, learning rate: 0.009500\n",
        "Minibatch accuracy: 82.8%\n",
        "Validation accuracy: 90.6%"
       ]
      },
      {
       "output_type": "stream",
       "stream": "stdout",
       "text": [
        "\n"
       ]
      },
      {
       "output_type": "stream",
       "stream": "stdout",
       "text": [
        "Step 5600 (epoch 1.79), 148.2 ms\n",
        "Minibatch loss: 2.181, learning rate: 0.009500\n",
        "Minibatch accuracy: 89.1%\n",
        "Validation accuracy: 90.3%"
       ]
      },
      {
       "output_type": "stream",
       "stream": "stdout",
       "text": [
        "\n"
       ]
      },
      {
       "output_type": "stream",
       "stream": "stdout",
       "text": [
        "Step 5700 (epoch 1.82), 149.1 ms\n",
        "Minibatch loss: 2.104, learning rate: 0.009500\n",
        "Minibatch accuracy: 90.6%\n",
        "Validation accuracy: 90.4%"
       ]
      },
      {
       "output_type": "stream",
       "stream": "stdout",
       "text": [
        "\n"
       ]
      },
      {
       "output_type": "stream",
       "stream": "stdout",
       "text": [
        "Step 5800 (epoch 1.86), 148.7 ms\n",
        "Minibatch loss: 1.978, learning rate: 0.009500\n",
        "Minibatch accuracy: 95.3%\n",
        "Validation accuracy: 90.5%"
       ]
      },
      {
       "output_type": "stream",
       "stream": "stdout",
       "text": [
        "\n"
       ]
      },
      {
       "output_type": "stream",
       "stream": "stdout",
       "text": [
        "Step 5900 (epoch 1.89), 148.4 ms\n",
        "Minibatch loss: 2.422, learning rate: 0.009500\n",
        "Minibatch accuracy: 87.5%\n",
        "Validation accuracy: 90.5%"
       ]
      },
      {
       "output_type": "stream",
       "stream": "stdout",
       "text": [
        "\n"
       ]
      },
      {
       "output_type": "stream",
       "stream": "stdout",
       "text": [
        "Step 6000 (epoch 1.92), 148.5 ms\n",
        "Minibatch loss: 2.005, learning rate: 0.009500\n",
        "Minibatch accuracy: 92.2%\n",
        "Validation accuracy: 90.4%"
       ]
      },
      {
       "output_type": "stream",
       "stream": "stdout",
       "text": [
        "\n"
       ]
      },
      {
       "output_type": "stream",
       "stream": "stdout",
       "text": [
        "Step 6100 (epoch 1.95), 149.2 ms\n",
        "Minibatch loss: 2.060, learning rate: 0.009500\n",
        "Minibatch accuracy: 92.2%\n",
        "Validation accuracy: 90.3%"
       ]
      },
      {
       "output_type": "stream",
       "stream": "stdout",
       "text": [
        "\n"
       ]
      },
      {
       "output_type": "stream",
       "stream": "stdout",
       "text": [
        "Step 6200 (epoch 1.98), 148.0 ms\n",
        "Minibatch loss: 2.029, learning rate: 0.009500\n",
        "Minibatch accuracy: 95.3%\n",
        "Validation accuracy: 90.6%"
       ]
      },
      {
       "output_type": "stream",
       "stream": "stdout",
       "text": [
        "\n"
       ]
      },
      {
       "output_type": "stream",
       "stream": "stdout",
       "text": [
        "Step 6300 (epoch 2.02), 148.7 ms\n",
        "Minibatch loss: 1.895, learning rate: 0.009025\n",
        "Minibatch accuracy: 95.3%\n",
        "Validation accuracy: 90.6%"
       ]
      },
      {
       "output_type": "stream",
       "stream": "stdout",
       "text": [
        "\n"
       ]
      },
      {
       "output_type": "stream",
       "stream": "stdout",
       "text": [
        "Step 6400 (epoch 2.05), 148.2 ms\n",
        "Minibatch loss: 2.016, learning rate: 0.009025\n",
        "Minibatch accuracy: 85.9%\n",
        "Validation accuracy: 90.7%"
       ]
      },
      {
       "output_type": "stream",
       "stream": "stdout",
       "text": [
        "\n"
       ]
      },
      {
       "output_type": "stream",
       "stream": "stdout",
       "text": [
        "Step 6500 (epoch 2.08), 149.8 ms\n",
        "Minibatch loss: 1.897, learning rate: 0.009025\n",
        "Minibatch accuracy: 93.8%\n",
        "Validation accuracy: 90.8%"
       ]
      },
      {
       "output_type": "stream",
       "stream": "stdout",
       "text": [
        "\n"
       ]
      },
      {
       "output_type": "stream",
       "stream": "stdout",
       "text": [
        "Step 6600 (epoch 2.11), 148.8 ms\n",
        "Minibatch loss: 2.153, learning rate: 0.009025\n",
        "Minibatch accuracy: 87.5%\n",
        "Validation accuracy: 90.6%"
       ]
      },
      {
       "output_type": "stream",
       "stream": "stdout",
       "text": [
        "\n"
       ]
      },
      {
       "output_type": "stream",
       "stream": "stdout",
       "text": [
        "Step 6700 (epoch 2.14), 149.2 ms\n",
        "Minibatch loss: 1.937, learning rate: 0.009025\n",
        "Minibatch accuracy: 89.1%\n",
        "Validation accuracy: 90.7%"
       ]
      },
      {
       "output_type": "stream",
       "stream": "stdout",
       "text": [
        "\n"
       ]
      },
      {
       "output_type": "stream",
       "stream": "stdout",
       "text": [
        "Step 6800 (epoch 2.18), 147.9 ms\n",
        "Minibatch loss: 2.044, learning rate: 0.009025\n",
        "Minibatch accuracy: 85.9%\n",
        "Validation accuracy: 90.4%"
       ]
      },
      {
       "output_type": "stream",
       "stream": "stdout",
       "text": [
        "\n"
       ]
      },
      {
       "output_type": "stream",
       "stream": "stdout",
       "text": [
        "Step 6900 (epoch 2.21), 149.3 ms\n",
        "Minibatch loss: 1.840, learning rate: 0.009025\n",
        "Minibatch accuracy: 92.2%\n",
        "Validation accuracy: 90.8%"
       ]
      },
      {
       "output_type": "stream",
       "stream": "stdout",
       "text": [
        "\n"
       ]
      },
      {
       "output_type": "stream",
       "stream": "stdout",
       "text": [
        "Step 7000 (epoch 2.24), 148.4 ms\n",
        "Minibatch loss: 1.999, learning rate: 0.009025\n",
        "Minibatch accuracy: 85.9%\n",
        "Validation accuracy: 90.8%"
       ]
      },
      {
       "output_type": "stream",
       "stream": "stdout",
       "text": [
        "\n"
       ]
      },
      {
       "output_type": "stream",
       "stream": "stdout",
       "text": [
        "Step 7100 (epoch 2.27), 148.4 ms\n",
        "Minibatch loss: 1.812, learning rate: 0.009025\n",
        "Minibatch accuracy: 92.2%\n",
        "Validation accuracy: 91.0%"
       ]
      },
      {
       "output_type": "stream",
       "stream": "stdout",
       "text": [
        "\n"
       ]
      },
      {
       "output_type": "stream",
       "stream": "stdout",
       "text": [
        "Step 7200 (epoch 2.30), 148.4 ms\n",
        "Minibatch loss: 1.842, learning rate: 0.009025\n",
        "Minibatch accuracy: 92.2%\n",
        "Validation accuracy: 90.8%"
       ]
      },
      {
       "output_type": "stream",
       "stream": "stdout",
       "text": [
        "\n"
       ]
      },
      {
       "output_type": "stream",
       "stream": "stdout",
       "text": [
        "Step 7300 (epoch 2.34), 149.1 ms\n",
        "Minibatch loss: 1.984, learning rate: 0.009025\n",
        "Minibatch accuracy: 85.9%\n",
        "Validation accuracy: 90.8%"
       ]
      },
      {
       "output_type": "stream",
       "stream": "stdout",
       "text": [
        "\n"
       ]
      },
      {
       "output_type": "stream",
       "stream": "stdout",
       "text": [
        "Step 7400 (epoch 2.37), 148.4 ms\n",
        "Minibatch loss: 1.785, learning rate: 0.009025\n",
        "Minibatch accuracy: 92.2%\n",
        "Validation accuracy: 90.7%"
       ]
      },
      {
       "output_type": "stream",
       "stream": "stdout",
       "text": [
        "\n"
       ]
      },
      {
       "output_type": "stream",
       "stream": "stdout",
       "text": [
        "Step 7500 (epoch 2.40), 148.5 ms\n",
        "Minibatch loss: 1.895, learning rate: 0.009025\n",
        "Minibatch accuracy: 90.6%\n",
        "Validation accuracy: 91.0%"
       ]
      },
      {
       "output_type": "stream",
       "stream": "stdout",
       "text": [
        "\n"
       ]
      },
      {
       "output_type": "stream",
       "stream": "stdout",
       "text": [
        "Step 7600 (epoch 2.43), 148.4 ms\n",
        "Minibatch loss: 1.810, learning rate: 0.009025\n",
        "Minibatch accuracy: 92.2%\n",
        "Validation accuracy: 91.1%"
       ]
      },
      {
       "output_type": "stream",
       "stream": "stdout",
       "text": [
        "\n"
       ]
      },
      {
       "output_type": "stream",
       "stream": "stdout",
       "text": [
        "Step 7700 (epoch 2.46), 149.3 ms\n",
        "Minibatch loss: 2.059, learning rate: 0.009025\n",
        "Minibatch accuracy: 82.8%\n",
        "Validation accuracy: 90.8%"
       ]
      },
      {
       "output_type": "stream",
       "stream": "stdout",
       "text": [
        "\n"
       ]
      },
      {
       "output_type": "stream",
       "stream": "stdout",
       "text": [
        "Step 7800 (epoch 2.50), 148.5 ms\n",
        "Minibatch loss: 1.782, learning rate: 0.009025\n",
        "Minibatch accuracy: 89.1%\n",
        "Validation accuracy: 90.8%"
       ]
      },
      {
       "output_type": "stream",
       "stream": "stdout",
       "text": [
        "\n"
       ]
      },
      {
       "output_type": "stream",
       "stream": "stdout",
       "text": [
        "Step 7900 (epoch 2.53), 149.5 ms\n",
        "Minibatch loss: 1.793, learning rate: 0.009025\n",
        "Minibatch accuracy: 89.1%\n",
        "Validation accuracy: 90.8%"
       ]
      },
      {
       "output_type": "stream",
       "stream": "stdout",
       "text": [
        "\n"
       ]
      },
      {
       "output_type": "stream",
       "stream": "stdout",
       "text": [
        "Step 8000 (epoch 2.56), 148.4 ms\n",
        "Minibatch loss: 1.775, learning rate: 0.009025\n",
        "Minibatch accuracy: 92.2%\n",
        "Validation accuracy: 90.8%"
       ]
      },
      {
       "output_type": "stream",
       "stream": "stdout",
       "text": [
        "\n"
       ]
      },
      {
       "output_type": "stream",
       "stream": "stdout",
       "text": [
        "Step 8100 (epoch 2.59), 149.4 ms\n",
        "Minibatch loss: 1.631, learning rate: 0.009025\n",
        "Minibatch accuracy: 95.3%\n",
        "Validation accuracy: 90.8%"
       ]
      },
      {
       "output_type": "stream",
       "stream": "stdout",
       "text": [
        "\n"
       ]
      },
      {
       "output_type": "stream",
       "stream": "stdout",
       "text": [
        "Step 8200 (epoch 2.62), 149.1 ms\n",
        "Minibatch loss: 1.594, learning rate: 0.009025\n",
        "Minibatch accuracy: 95.3%\n",
        "Validation accuracy: 91.0%"
       ]
      },
      {
       "output_type": "stream",
       "stream": "stdout",
       "text": [
        "\n"
       ]
      },
      {
       "output_type": "stream",
       "stream": "stdout",
       "text": [
        "Step 8300 (epoch 2.66), 148.8 ms\n",
        "Minibatch loss: 1.823, learning rate: 0.009025\n",
        "Minibatch accuracy: 90.6%\n",
        "Validation accuracy: 91.1%"
       ]
      },
      {
       "output_type": "stream",
       "stream": "stdout",
       "text": [
        "\n"
       ]
      },
      {
       "output_type": "stream",
       "stream": "stdout",
       "text": [
        "Step 8400 (epoch 2.69), 148.6 ms\n",
        "Minibatch loss: 1.827, learning rate: 0.009025\n",
        "Minibatch accuracy: 87.5%\n",
        "Validation accuracy: 91.1%"
       ]
      },
      {
       "output_type": "stream",
       "stream": "stdout",
       "text": [
        "\n"
       ]
      },
      {
       "output_type": "stream",
       "stream": "stdout",
       "text": [
        "Step 8500 (epoch 2.72), 148.9 ms\n",
        "Minibatch loss: 1.771, learning rate: 0.009025\n",
        "Minibatch accuracy: 85.9%\n",
        "Validation accuracy: 91.2%"
       ]
      },
      {
       "output_type": "stream",
       "stream": "stdout",
       "text": [
        "\n"
       ]
      },
      {
       "output_type": "stream",
       "stream": "stdout",
       "text": [
        "Step 8600 (epoch 2.75), 148.4 ms\n",
        "Minibatch loss: 1.689, learning rate: 0.009025\n",
        "Minibatch accuracy: 90.6%\n",
        "Validation accuracy: 91.2%"
       ]
      },
      {
       "output_type": "stream",
       "stream": "stdout",
       "text": [
        "\n"
       ]
      },
      {
       "output_type": "stream",
       "stream": "stdout",
       "text": [
        "Step 8700 (epoch 2.78), 148.6 ms\n",
        "Minibatch loss: 1.632, learning rate: 0.009025\n",
        "Minibatch accuracy: 93.8%\n",
        "Validation accuracy: 91.1%"
       ]
      },
      {
       "output_type": "stream",
       "stream": "stdout",
       "text": [
        "\n"
       ]
      },
      {
       "output_type": "stream",
       "stream": "stdout",
       "text": [
        "Step 8800 (epoch 2.82), 148.0 ms\n",
        "Minibatch loss: 1.645, learning rate: 0.009025\n",
        "Minibatch accuracy: 92.2%\n",
        "Validation accuracy: 91.3%"
       ]
      },
      {
       "output_type": "stream",
       "stream": "stdout",
       "text": [
        "\n"
       ]
      },
      {
       "output_type": "stream",
       "stream": "stdout",
       "text": [
        "Step 8900 (epoch 2.85), 149.0 ms\n",
        "Minibatch loss: 1.694, learning rate: 0.009025\n",
        "Minibatch accuracy: 87.5%\n",
        "Validation accuracy: 91.1%"
       ]
      },
      {
       "output_type": "stream",
       "stream": "stdout",
       "text": [
        "\n"
       ]
      },
      {
       "output_type": "stream",
       "stream": "stdout",
       "text": [
        "Step 9000 (epoch 2.88), 147.9 ms\n",
        "Minibatch loss: 1.644, learning rate: 0.009025\n",
        "Minibatch accuracy: 92.2%\n",
        "Validation accuracy: 90.9%"
       ]
      },
      {
       "output_type": "stream",
       "stream": "stdout",
       "text": [
        "\n"
       ]
      },
      {
       "output_type": "stream",
       "stream": "stdout",
       "text": [
        "Step 9100 (epoch 2.91), 148.6 ms\n",
        "Minibatch loss: 1.609, learning rate: 0.009025\n",
        "Minibatch accuracy: 92.2%\n",
        "Validation accuracy: 91.2%"
       ]
      },
      {
       "output_type": "stream",
       "stream": "stdout",
       "text": [
        "\n"
       ]
      },
      {
       "output_type": "stream",
       "stream": "stdout",
       "text": [
        "Step 9200 (epoch 2.94), 148.1 ms\n",
        "Minibatch loss: 1.582, learning rate: 0.009025\n",
        "Minibatch accuracy: 90.6%\n",
        "Validation accuracy: 91.2%"
       ]
      },
      {
       "output_type": "stream",
       "stream": "stdout",
       "text": [
        "\n"
       ]
      },
      {
       "output_type": "stream",
       "stream": "stdout",
       "text": [
        "Step 9300 (epoch 2.98), 148.7 ms\n",
        "Minibatch loss: 1.561, learning rate: 0.009025\n",
        "Minibatch accuracy: 90.6%\n",
        "Validation accuracy: 91.1%"
       ]
      },
      {
       "output_type": "stream",
       "stream": "stdout",
       "text": [
        "\n"
       ]
      },
      {
       "output_type": "stream",
       "stream": "stdout",
       "text": [
        "Step 9400 (epoch 3.01), 148.2 ms\n",
        "Minibatch loss: 1.792, learning rate: 0.008574\n",
        "Minibatch accuracy: 85.9%\n",
        "Validation accuracy: 91.3%"
       ]
      },
      {
       "output_type": "stream",
       "stream": "stdout",
       "text": [
        "\n"
       ]
      },
      {
       "output_type": "stream",
       "stream": "stdout",
       "text": [
        "Step 9500 (epoch 3.04), 148.5 ms\n",
        "Minibatch loss: 1.534, learning rate: 0.008574\n",
        "Minibatch accuracy: 93.8%\n",
        "Validation accuracy: 91.3%"
       ]
      },
      {
       "output_type": "stream",
       "stream": "stdout",
       "text": [
        "\n"
       ]
      },
      {
       "output_type": "stream",
       "stream": "stdout",
       "text": [
        "Step 9600 (epoch 3.07), 148.5 ms\n",
        "Minibatch loss: 1.717, learning rate: 0.008574\n",
        "Minibatch accuracy: 85.9%\n",
        "Validation accuracy: 91.3%"
       ]
      },
      {
       "output_type": "stream",
       "stream": "stdout",
       "text": [
        "\n"
       ]
      },
      {
       "output_type": "stream",
       "stream": "stdout",
       "text": [
        "Step 9700 (epoch 3.10), 149.0 ms\n",
        "Minibatch loss: 1.500, learning rate: 0.008574\n",
        "Minibatch accuracy: 92.2%\n",
        "Validation accuracy: 91.3%"
       ]
      },
      {
       "output_type": "stream",
       "stream": "stdout",
       "text": [
        "\n"
       ]
      },
      {
       "output_type": "stream",
       "stream": "stdout",
       "text": [
        "Step 9800 (epoch 3.14), 148.1 ms\n",
        "Minibatch loss: 1.621, learning rate: 0.008574\n",
        "Minibatch accuracy: 84.4%\n",
        "Validation accuracy: 91.4%"
       ]
      },
      {
       "output_type": "stream",
       "stream": "stdout",
       "text": [
        "\n"
       ]
      },
      {
       "output_type": "stream",
       "stream": "stdout",
       "text": [
        "Step 9900 (epoch 3.17), 148.4 ms\n",
        "Minibatch loss: 1.454, learning rate: 0.008574\n",
        "Minibatch accuracy: 93.8%\n",
        "Validation accuracy: 91.2%"
       ]
      },
      {
       "output_type": "stream",
       "stream": "stdout",
       "text": [
        "\n"
       ]
      },
      {
       "output_type": "stream",
       "stream": "stdout",
       "text": [
        "Step 10000 (epoch 3.20), 147.9 ms\n",
        "Minibatch loss: 1.544, learning rate: 0.008574\n",
        "Minibatch accuracy: 90.6%\n",
        "Validation accuracy: 91.6%"
       ]
      },
      {
       "output_type": "stream",
       "stream": "stdout",
       "text": [
        "\n"
       ]
      },
      {
       "output_type": "stream",
       "stream": "stdout",
       "text": [
        "Step 10100 (epoch 3.23), 148.5 ms\n",
        "Minibatch loss: 1.406, learning rate: 0.008574\n",
        "Minibatch accuracy: 95.3%\n",
        "Validation accuracy: 91.5%"
       ]
      },
      {
       "output_type": "stream",
       "stream": "stdout",
       "text": [
        "\n"
       ]
      },
      {
       "output_type": "stream",
       "stream": "stdout",
       "text": [
        "Step 10200 (epoch 3.26), 148.7 ms\n",
        "Minibatch loss: 1.396, learning rate: 0.008574\n",
        "Minibatch accuracy: 95.3%\n",
        "Validation accuracy: 91.5%"
       ]
      },
      {
       "output_type": "stream",
       "stream": "stdout",
       "text": [
        "\n"
       ]
      },
      {
       "output_type": "stream",
       "stream": "stdout",
       "text": [
        "Step 10300 (epoch 3.30), 149.0 ms\n",
        "Minibatch loss: 1.550, learning rate: 0.008574\n",
        "Minibatch accuracy: 85.9%\n",
        "Validation accuracy: 91.3%"
       ]
      },
      {
       "output_type": "stream",
       "stream": "stdout",
       "text": [
        "\n"
       ]
      },
      {
       "output_type": "stream",
       "stream": "stdout",
       "text": [
        "Step 10400 (epoch 3.33), 148.6 ms\n",
        "Minibatch loss: 1.484, learning rate: 0.008574\n",
        "Minibatch accuracy: 92.2%\n",
        "Validation accuracy: 91.5%"
       ]
      },
      {
       "output_type": "stream",
       "stream": "stdout",
       "text": [
        "\n"
       ]
      },
      {
       "output_type": "stream",
       "stream": "stdout",
       "text": [
        "Step 10500 (epoch 3.36), 148.8 ms\n",
        "Minibatch loss: 1.602, learning rate: 0.008574\n",
        "Minibatch accuracy: 89.1%\n",
        "Validation accuracy: 91.2%"
       ]
      },
      {
       "output_type": "stream",
       "stream": "stdout",
       "text": [
        "\n"
       ]
      },
      {
       "output_type": "stream",
       "stream": "stdout",
       "text": [
        "Step 10600 (epoch 3.39), 148.0 ms\n",
        "Minibatch loss: 1.391, learning rate: 0.008574\n",
        "Minibatch accuracy: 92.2%\n",
        "Validation accuracy: 91.5%"
       ]
      },
      {
       "output_type": "stream",
       "stream": "stdout",
       "text": [
        "\n"
       ]
      },
      {
       "output_type": "stream",
       "stream": "stdout",
       "text": [
        "Step 10700 (epoch 3.42), 148.2 ms\n",
        "Minibatch loss: 1.547, learning rate: 0.008574\n",
        "Minibatch accuracy: 90.6%\n",
        "Validation accuracy: 91.6%"
       ]
      },
      {
       "output_type": "stream",
       "stream": "stdout",
       "text": [
        "\n"
       ]
      },
      {
       "output_type": "stream",
       "stream": "stdout",
       "text": [
        "Step 10800 (epoch 3.46), 147.6 ms\n",
        "Minibatch loss: 1.478, learning rate: 0.008574\n",
        "Minibatch accuracy: 89.1%\n",
        "Validation accuracy: 91.5%"
       ]
      },
      {
       "output_type": "stream",
       "stream": "stdout",
       "text": [
        "\n"
       ]
      },
      {
       "output_type": "stream",
       "stream": "stdout",
       "text": [
        "Step 10900 (epoch 3.49), 148.2 ms\n",
        "Minibatch loss: 1.382, learning rate: 0.008574\n",
        "Minibatch accuracy: 95.3%\n",
        "Validation accuracy: 91.5%"
       ]
      },
      {
       "output_type": "stream",
       "stream": "stdout",
       "text": [
        "\n"
       ]
      },
      {
       "output_type": "stream",
       "stream": "stdout",
       "text": [
        "Step 11000 (epoch 3.52), 148.0 ms\n",
        "Minibatch loss: 1.499, learning rate: 0.008574\n",
        "Minibatch accuracy: 90.6%\n",
        "Validation accuracy: 91.7%"
       ]
      },
      {
       "output_type": "stream",
       "stream": "stdout",
       "text": [
        "\n"
       ]
      },
      {
       "output_type": "stream",
       "stream": "stdout",
       "text": [
        "Step 11100 (epoch 3.55), 148.5 ms\n",
        "Minibatch loss: 1.470, learning rate: 0.008574\n",
        "Minibatch accuracy: 90.6%\n",
        "Validation accuracy: 91.6%"
       ]
      },
      {
       "output_type": "stream",
       "stream": "stdout",
       "text": [
        "\n"
       ]
      },
      {
       "output_type": "stream",
       "stream": "stdout",
       "text": [
        "Step 11200 (epoch 3.58), 147.6 ms\n",
        "Minibatch loss: 1.384, learning rate: 0.008574\n",
        "Minibatch accuracy: 93.8%\n",
        "Validation accuracy: 91.5%"
       ]
      },
      {
       "output_type": "stream",
       "stream": "stdout",
       "text": [
        "\n"
       ]
      },
      {
       "output_type": "stream",
       "stream": "stdout",
       "text": [
        "Step 11300 (epoch 3.62), 148.7 ms\n",
        "Minibatch loss: 1.293, learning rate: 0.008574\n",
        "Minibatch accuracy: 92.2%\n",
        "Validation accuracy: 91.9%"
       ]
      },
      {
       "output_type": "stream",
       "stream": "stdout",
       "text": [
        "\n"
       ]
      },
      {
       "output_type": "stream",
       "stream": "stdout",
       "text": [
        "Step 11400 (epoch 3.65), 148.2 ms\n",
        "Minibatch loss: 1.554, learning rate: 0.008574\n",
        "Minibatch accuracy: 85.9%\n",
        "Validation accuracy: 91.6%"
       ]
      },
      {
       "output_type": "stream",
       "stream": "stdout",
       "text": [
        "\n"
       ]
      },
      {
       "output_type": "stream",
       "stream": "stdout",
       "text": [
        "Step 11500 (epoch 3.68), 148.6 ms\n",
        "Minibatch loss: 1.376, learning rate: 0.008574\n",
        "Minibatch accuracy: 90.6%\n",
        "Validation accuracy: 91.5%"
       ]
      },
      {
       "output_type": "stream",
       "stream": "stdout",
       "text": [
        "\n"
       ]
      },
      {
       "output_type": "stream",
       "stream": "stdout",
       "text": [
        "Step 11600 (epoch 3.71), 147.5 ms\n",
        "Minibatch loss: 1.398, learning rate: 0.008574\n",
        "Minibatch accuracy: 90.6%\n",
        "Validation accuracy: 91.6%"
       ]
      },
      {
       "output_type": "stream",
       "stream": "stdout",
       "text": [
        "\n"
       ]
      },
      {
       "output_type": "stream",
       "stream": "stdout",
       "text": [
        "Step 11700 (epoch 3.74), 148.9 ms\n",
        "Minibatch loss: 1.278, learning rate: 0.008574\n",
        "Minibatch accuracy: 92.2%\n",
        "Validation accuracy: 91.7%"
       ]
      },
      {
       "output_type": "stream",
       "stream": "stdout",
       "text": [
        "\n"
       ]
      },
      {
       "output_type": "stream",
       "stream": "stdout",
       "text": [
        "Step 11800 (epoch 3.78), 147.9 ms\n",
        "Minibatch loss: 1.257, learning rate: 0.008574\n",
        "Minibatch accuracy: 93.8%\n",
        "Validation accuracy: 91.6%"
       ]
      },
      {
       "output_type": "stream",
       "stream": "stdout",
       "text": [
        "\n"
       ]
      },
      {
       "output_type": "stream",
       "stream": "stdout",
       "text": [
        "Step 11900 (epoch 3.81), 148.3 ms\n",
        "Minibatch loss: 1.334, learning rate: 0.008574\n",
        "Minibatch accuracy: 92.2%\n",
        "Validation accuracy: 91.8%"
       ]
      },
      {
       "output_type": "stream",
       "stream": "stdout",
       "text": [
        "\n"
       ]
      },
      {
       "output_type": "stream",
       "stream": "stdout",
       "text": [
        "Step 12000 (epoch 3.84), 149.5 ms\n",
        "Minibatch loss: 1.215, learning rate: 0.008574\n",
        "Minibatch accuracy: 95.3%\n",
        "Validation accuracy: 91.8%"
       ]
      },
      {
       "output_type": "stream",
       "stream": "stdout",
       "text": [
        "\n"
       ]
      },
      {
       "output_type": "stream",
       "stream": "stdout",
       "text": [
        "Step 12100 (epoch 3.87), 149.0 ms\n",
        "Minibatch loss: 1.519, learning rate: 0.008574\n",
        "Minibatch accuracy: 89.1%\n",
        "Validation accuracy: 91.6%"
       ]
      },
      {
       "output_type": "stream",
       "stream": "stdout",
       "text": [
        "\n"
       ]
      },
      {
       "output_type": "stream",
       "stream": "stdout",
       "text": [
        "Step 12200 (epoch 3.90), 147.8 ms\n",
        "Minibatch loss: 1.285, learning rate: 0.008574\n",
        "Minibatch accuracy: 92.2%\n",
        "Validation accuracy: 91.8%"
       ]
      },
      {
       "output_type": "stream",
       "stream": "stdout",
       "text": [
        "\n"
       ]
      },
      {
       "output_type": "stream",
       "stream": "stdout",
       "text": [
        "Step 12300 (epoch 3.94), 148.1 ms\n",
        "Minibatch loss: 1.308, learning rate: 0.008574\n",
        "Minibatch accuracy: 89.1%\n",
        "Validation accuracy: 91.7%"
       ]
      },
      {
       "output_type": "stream",
       "stream": "stdout",
       "text": [
        "\n"
       ]
      },
      {
       "output_type": "stream",
       "stream": "stdout",
       "text": [
        "Step 12400 (epoch 3.97), 148.4 ms\n",
        "Minibatch loss: 1.374, learning rate: 0.008574\n",
        "Minibatch accuracy: 90.6%\n",
        "Validation accuracy: 91.5%"
       ]
      },
      {
       "output_type": "stream",
       "stream": "stdout",
       "text": [
        "\n"
       ]
      },
      {
       "output_type": "stream",
       "stream": "stdout",
       "text": [
        "Step 12500 (epoch 4.00), 148.9 ms\n",
        "Minibatch loss: 1.486, learning rate: 0.008145\n",
        "Minibatch accuracy: 85.9%\n",
        "Validation accuracy: 91.7%"
       ]
      },
      {
       "output_type": "stream",
       "stream": "stdout",
       "text": [
        "\n"
       ]
      },
      {
       "output_type": "stream",
       "stream": "stdout",
       "text": [
        "Step 12600 (epoch 4.03), 149.1 ms\n",
        "Minibatch loss: 1.239, learning rate: 0.008145\n",
        "Minibatch accuracy: 92.2%\n",
        "Validation accuracy: 91.4%"
       ]
      },
      {
       "output_type": "stream",
       "stream": "stdout",
       "text": [
        "\n"
       ]
      },
      {
       "output_type": "stream",
       "stream": "stdout",
       "text": [
        "Step 12700 (epoch 4.06), 148.9 ms\n",
        "Minibatch loss: 1.104, learning rate: 0.008145\n",
        "Minibatch accuracy: 96.9%\n",
        "Validation accuracy: 91.6%"
       ]
      },
      {
       "output_type": "stream",
       "stream": "stdout",
       "text": [
        "\n"
       ]
      },
      {
       "output_type": "stream",
       "stream": "stdout",
       "text": [
        "Step 12800 (epoch 4.10), 148.0 ms\n",
        "Minibatch loss: 1.093, learning rate: 0.008145\n",
        "Minibatch accuracy: 96.9%\n",
        "Validation accuracy: 91.7%"
       ]
      },
      {
       "output_type": "stream",
       "stream": "stdout",
       "text": [
        "\n"
       ]
      },
      {
       "output_type": "stream",
       "stream": "stdout",
       "text": [
        "Step 12900 (epoch 4.13), 147.9 ms\n",
        "Minibatch loss: 1.212, learning rate: 0.008145\n",
        "Minibatch accuracy: 90.6%\n",
        "Validation accuracy: 91.9%"
       ]
      },
      {
       "output_type": "stream",
       "stream": "stdout",
       "text": [
        "\n"
       ]
      },
      {
       "output_type": "stream",
       "stream": "stdout",
       "text": [
        "Step 13000 (epoch 4.16), 148.7 ms\n",
        "Minibatch loss: 1.220, learning rate: 0.008145\n",
        "Minibatch accuracy: 92.2%\n",
        "Validation accuracy: 91.7%"
       ]
      },
      {
       "output_type": "stream",
       "stream": "stdout",
       "text": [
        "\n"
       ]
      },
      {
       "output_type": "stream",
       "stream": "stdout",
       "text": [
        "Step 13100 (epoch 4.19), 148.2 ms\n",
        "Minibatch loss: 1.305, learning rate: 0.008145\n",
        "Minibatch accuracy: 89.1%\n",
        "Validation accuracy: 91.6%"
       ]
      },
      {
       "output_type": "stream",
       "stream": "stdout",
       "text": [
        "\n"
       ]
      },
      {
       "output_type": "stream",
       "stream": "stdout",
       "text": [
        "Step 13200 (epoch 4.22), 148.3 ms\n",
        "Minibatch loss: 1.347, learning rate: 0.008145\n",
        "Minibatch accuracy: 85.9%\n",
        "Validation accuracy: 91.6%"
       ]
      },
      {
       "output_type": "stream",
       "stream": "stdout",
       "text": [
        "\n"
       ]
      },
      {
       "output_type": "stream",
       "stream": "stdout",
       "text": [
        "Step 13300 (epoch 4.26), 148.4 ms\n",
        "Minibatch loss: 1.344, learning rate: 0.008145\n",
        "Minibatch accuracy: 90.6%\n",
        "Validation accuracy: 91.7%"
       ]
      },
      {
       "output_type": "stream",
       "stream": "stdout",
       "text": [
        "\n"
       ]
      },
      {
       "output_type": "stream",
       "stream": "stdout",
       "text": [
        "Step 13400 (epoch 4.29), 149.0 ms\n",
        "Minibatch loss: 1.259, learning rate: 0.008145\n",
        "Minibatch accuracy: 90.6%\n",
        "Validation accuracy: 91.7%"
       ]
      },
      {
       "output_type": "stream",
       "stream": "stdout",
       "text": [
        "\n"
       ]
      },
      {
       "output_type": "stream",
       "stream": "stdout",
       "text": [
        "Step 13500 (epoch 4.32), 148.7 ms\n",
        "Minibatch loss: 1.093, learning rate: 0.008145\n",
        "Minibatch accuracy: 95.3%\n",
        "Validation accuracy: 91.8%"
       ]
      },
      {
       "output_type": "stream",
       "stream": "stdout",
       "text": [
        "\n"
       ]
      },
      {
       "output_type": "stream",
       "stream": "stdout",
       "text": [
        "Step 13600 (epoch 4.35), 148.6 ms\n",
        "Minibatch loss: 1.185, learning rate: 0.008145\n",
        "Minibatch accuracy: 89.1%\n",
        "Validation accuracy: 91.7%"
       ]
      },
      {
       "output_type": "stream",
       "stream": "stdout",
       "text": [
        "\n"
       ]
      },
      {
       "output_type": "stream",
       "stream": "stdout",
       "text": [
        "Step 13700 (epoch 4.38), 149.5 ms\n",
        "Minibatch loss: 1.125, learning rate: 0.008145\n",
        "Minibatch accuracy: 93.8%\n",
        "Validation accuracy: 91.6%"
       ]
      },
      {
       "output_type": "stream",
       "stream": "stdout",
       "text": [
        "\n"
       ]
      },
      {
       "output_type": "stream",
       "stream": "stdout",
       "text": [
        "Step 13800 (epoch 4.42), 150.2 ms\n",
        "Minibatch loss: 1.335, learning rate: 0.008145\n",
        "Minibatch accuracy: 85.9%\n",
        "Validation accuracy: 91.7%"
       ]
      },
      {
       "output_type": "stream",
       "stream": "stdout",
       "text": [
        "\n"
       ]
      },
      {
       "output_type": "stream",
       "stream": "stdout",
       "text": [
        "Step 13900 (epoch 4.45), 148.8 ms\n",
        "Minibatch loss: 1.129, learning rate: 0.008145\n",
        "Minibatch accuracy: 89.1%\n",
        "Validation accuracy: 91.7%"
       ]
      },
      {
       "output_type": "stream",
       "stream": "stdout",
       "text": [
        "\n"
       ]
      },
      {
       "output_type": "stream",
       "stream": "stdout",
       "text": [
        "Step 14000 (epoch 4.48), 148.4 ms\n",
        "Minibatch loss: 1.220, learning rate: 0.008145\n",
        "Minibatch accuracy: 87.5%\n",
        "Validation accuracy: 91.8%"
       ]
      },
      {
       "output_type": "stream",
       "stream": "stdout",
       "text": [
        "\n"
       ]
      },
      {
       "output_type": "stream",
       "stream": "stdout",
       "text": [
        "Step 14100 (epoch 4.51), 149.0 ms\n",
        "Minibatch loss: 1.010, learning rate: 0.008145\n",
        "Minibatch accuracy: 95.3%\n",
        "Validation accuracy: 91.8%"
       ]
      },
      {
       "output_type": "stream",
       "stream": "stdout",
       "text": [
        "\n"
       ]
      },
      {
       "output_type": "stream",
       "stream": "stdout",
       "text": [
        "Step 14200 (epoch 4.54), 149.7 ms\n",
        "Minibatch loss: 1.149, learning rate: 0.008145\n",
        "Minibatch accuracy: 92.2%\n",
        "Validation accuracy: 91.9%"
       ]
      },
      {
       "output_type": "stream",
       "stream": "stdout",
       "text": [
        "\n"
       ]
      },
      {
       "output_type": "stream",
       "stream": "stdout",
       "text": [
        "Step 14300 (epoch 4.58), 148.1 ms\n",
        "Minibatch loss: 1.032, learning rate: 0.008145\n",
        "Minibatch accuracy: 92.2%\n",
        "Validation accuracy: 91.9%"
       ]
      },
      {
       "output_type": "stream",
       "stream": "stdout",
       "text": [
        "\n"
       ]
      },
      {
       "output_type": "stream",
       "stream": "stdout",
       "text": [
        "Step 14400 (epoch 4.61), 147.8 ms\n",
        "Minibatch loss: 1.119, learning rate: 0.008145\n",
        "Minibatch accuracy: 90.6%\n",
        "Validation accuracy: 91.8%"
       ]
      },
      {
       "output_type": "stream",
       "stream": "stdout",
       "text": [
        "\n"
       ]
      },
      {
       "output_type": "stream",
       "stream": "stdout",
       "text": [
        "Step 14500 (epoch 4.64), 149.0 ms\n",
        "Minibatch loss: 1.039, learning rate: 0.008145\n",
        "Minibatch accuracy: 95.3%\n",
        "Validation accuracy: 91.7%"
       ]
      },
      {
       "output_type": "stream",
       "stream": "stdout",
       "text": [
        "\n"
       ]
      },
      {
       "output_type": "stream",
       "stream": "stdout",
       "text": [
        "Step 14600 (epoch 4.67), 149.9 ms\n",
        "Minibatch loss: 1.120, learning rate: 0.008145\n",
        "Minibatch accuracy: 93.8%\n",
        "Validation accuracy: 91.9%"
       ]
      },
      {
       "output_type": "stream",
       "stream": "stdout",
       "text": [
        "\n"
       ]
      },
      {
       "output_type": "stream",
       "stream": "stdout",
       "text": [
        "Step 14700 (epoch 4.70), 149.4 ms\n",
        "Minibatch loss: 1.071, learning rate: 0.008145\n",
        "Minibatch accuracy: 92.2%\n",
        "Validation accuracy: 92.0%"
       ]
      },
      {
       "output_type": "stream",
       "stream": "stdout",
       "text": [
        "\n"
       ]
      },
      {
       "output_type": "stream",
       "stream": "stdout",
       "text": [
        "Step 14800 (epoch 4.74), 149.1 ms\n",
        "Minibatch loss: 1.003, learning rate: 0.008145\n",
        "Minibatch accuracy: 95.3%\n",
        "Validation accuracy: 92.0%"
       ]
      },
      {
       "output_type": "stream",
       "stream": "stdout",
       "text": [
        "\n"
       ]
      },
      {
       "output_type": "stream",
       "stream": "stdout",
       "text": [
        "Step 14900 (epoch 4.77), 148.9 ms\n",
        "Minibatch loss: 1.015, learning rate: 0.008145\n",
        "Minibatch accuracy: 96.9%\n",
        "Validation accuracy: 91.6%"
       ]
      },
      {
       "output_type": "stream",
       "stream": "stdout",
       "text": [
        "\n"
       ]
      },
      {
       "output_type": "stream",
       "stream": "stdout",
       "text": [
        "Step 15000 (epoch 4.80), 149.3 ms\n",
        "Minibatch loss: 1.121, learning rate: 0.008145\n",
        "Minibatch accuracy: 89.1%\n",
        "Validation accuracy: 92.0%"
       ]
      },
      {
       "output_type": "stream",
       "stream": "stdout",
       "text": [
        "\n"
       ]
      },
      {
       "output_type": "stream",
       "stream": "stdout",
       "text": [
        "Step 15100 (epoch 4.83), 148.5 ms\n",
        "Minibatch loss: 1.111, learning rate: 0.008145\n",
        "Minibatch accuracy: 89.1%\n",
        "Validation accuracy: 91.8%"
       ]
      },
      {
       "output_type": "stream",
       "stream": "stdout",
       "text": [
        "\n"
       ]
      },
      {
       "output_type": "stream",
       "stream": "stdout",
       "text": [
        "Step 15200 (epoch 4.86), 148.2 ms\n",
        "Minibatch loss: 1.022, learning rate: 0.008145\n",
        "Minibatch accuracy: 93.8%\n",
        "Validation accuracy: 91.8%"
       ]
      },
      {
       "output_type": "stream",
       "stream": "stdout",
       "text": [
        "\n"
       ]
      },
      {
       "output_type": "stream",
       "stream": "stdout",
       "text": [
        "Step 15300 (epoch 4.90), 147.9 ms\n",
        "Minibatch loss: 0.933, learning rate: 0.008145\n",
        "Minibatch accuracy: 98.4%\n",
        "Validation accuracy: 91.9%"
       ]
      },
      {
       "output_type": "stream",
       "stream": "stdout",
       "text": [
        "\n"
       ]
      },
      {
       "output_type": "stream",
       "stream": "stdout",
       "text": [
        "Step 15400 (epoch 4.93), 148.8 ms\n",
        "Minibatch loss: 1.262, learning rate: 0.008145\n",
        "Minibatch accuracy: 84.4%\n",
        "Validation accuracy: 91.8%"
       ]
      },
      {
       "output_type": "stream",
       "stream": "stdout",
       "text": [
        "\n"
       ]
      },
      {
       "output_type": "stream",
       "stream": "stdout",
       "text": [
        "Step 15500 (epoch 4.96), 148.2 ms\n",
        "Minibatch loss: 1.103, learning rate: 0.008145\n",
        "Minibatch accuracy: 89.1%\n",
        "Validation accuracy: 91.8%"
       ]
      },
      {
       "output_type": "stream",
       "stream": "stdout",
       "text": [
        "\n"
       ]
      },
      {
       "output_type": "stream",
       "stream": "stdout",
       "text": [
        "Step 15600 (epoch 4.99), 148.9 ms\n",
        "Minibatch loss: 1.062, learning rate: 0.008145\n",
        "Minibatch accuracy: 90.6%\n",
        "Validation accuracy: 91.7%"
       ]
      },
      {
       "output_type": "stream",
       "stream": "stdout",
       "text": [
        "\n"
       ]
      },
      {
       "output_type": "stream",
       "stream": "stdout",
       "text": [
        "Step 15700 (epoch 5.02), 147.9 ms\n",
        "Minibatch loss: 1.029, learning rate: 0.007738\n",
        "Minibatch accuracy: 92.2%\n",
        "Validation accuracy: 92.0%"
       ]
      },
      {
       "output_type": "stream",
       "stream": "stdout",
       "text": [
        "\n"
       ]
      },
      {
       "output_type": "stream",
       "stream": "stdout",
       "text": [
        "Step 15800 (epoch 5.06), 149.3 ms\n",
        "Minibatch loss: 1.044, learning rate: 0.007738\n",
        "Minibatch accuracy: 90.6%\n",
        "Validation accuracy: 91.9%"
       ]
      },
      {
       "output_type": "stream",
       "stream": "stdout",
       "text": [
        "\n"
       ]
      },
      {
       "output_type": "stream",
       "stream": "stdout",
       "text": [
        "Step 15900 (epoch 5.09), 148.3 ms\n",
        "Minibatch loss: 1.178, learning rate: 0.007738\n",
        "Minibatch accuracy: 90.6%\n",
        "Validation accuracy: 91.8%"
       ]
      },
      {
       "output_type": "stream",
       "stream": "stdout",
       "text": [
        "\n"
       ]
      },
      {
       "output_type": "stream",
       "stream": "stdout",
       "text": [
        "Step 16000 (epoch 5.12), 148.6 ms\n",
        "Minibatch loss: 0.997, learning rate: 0.007738\n",
        "Minibatch accuracy: 95.3%\n",
        "Validation accuracy: 92.2%"
       ]
      },
      {
       "output_type": "stream",
       "stream": "stdout",
       "text": [
        "\n"
       ]
      },
      {
       "output_type": "stream",
       "stream": "stdout",
       "text": [
        "Step 16100 (epoch 5.15), 148.1 ms\n",
        "Minibatch loss: 0.953, learning rate: 0.007738\n",
        "Minibatch accuracy: 93.8%\n",
        "Validation accuracy: 92.1%"
       ]
      },
      {
       "output_type": "stream",
       "stream": "stdout",
       "text": [
        "\n"
       ]
      },
      {
       "output_type": "stream",
       "stream": "stdout",
       "text": [
        "Step 16200 (epoch 5.18), 149.1 ms\n",
        "Minibatch loss: 0.907, learning rate: 0.007738\n",
        "Minibatch accuracy: 95.3%\n",
        "Validation accuracy: 92.1%"
       ]
      },
      {
       "output_type": "stream",
       "stream": "stdout",
       "text": [
        "\n"
       ]
      },
      {
       "output_type": "stream",
       "stream": "stdout",
       "text": [
        "Step 16300 (epoch 5.22), 148.2 ms\n",
        "Minibatch loss: 0.920, learning rate: 0.007738\n",
        "Minibatch accuracy: 93.8%\n",
        "Validation accuracy: 91.9%"
       ]
      },
      {
       "output_type": "stream",
       "stream": "stdout",
       "text": [
        "\n"
       ]
      },
      {
       "output_type": "stream",
       "stream": "stdout",
       "text": [
        "Step 16400 (epoch 5.25), 149.1 ms\n",
        "Minibatch loss: 0.976, learning rate: 0.007738\n",
        "Minibatch accuracy: 93.8%\n",
        "Validation accuracy: 92.0%"
       ]
      },
      {
       "output_type": "stream",
       "stream": "stdout",
       "text": [
        "\n"
       ]
      },
      {
       "output_type": "stream",
       "stream": "stdout",
       "text": [
        "Step 16500 (epoch 5.28), 148.7 ms\n",
        "Minibatch loss: 0.812, learning rate: 0.007738\n",
        "Minibatch accuracy: 98.4%\n",
        "Validation accuracy: 92.0%"
       ]
      },
      {
       "output_type": "stream",
       "stream": "stdout",
       "text": [
        "\n"
       ]
      },
      {
       "output_type": "stream",
       "stream": "stdout",
       "text": [
        "Step 16600 (epoch 5.31), 149.7 ms\n",
        "Minibatch loss: 0.992, learning rate: 0.007738\n",
        "Minibatch accuracy: 92.2%\n",
        "Validation accuracy: 91.9%"
       ]
      },
      {
       "output_type": "stream",
       "stream": "stdout",
       "text": [
        "\n"
       ]
      },
      {
       "output_type": "stream",
       "stream": "stdout",
       "text": [
        "Step 16700 (epoch 5.34), 148.5 ms\n",
        "Minibatch loss: 1.090, learning rate: 0.007738\n",
        "Minibatch accuracy: 89.1%\n",
        "Validation accuracy: 91.8%"
       ]
      },
      {
       "output_type": "stream",
       "stream": "stdout",
       "text": [
        "\n"
       ]
      },
      {
       "output_type": "stream",
       "stream": "stdout",
       "text": [
        "Step 16800 (epoch 5.38), 148.6 ms\n",
        "Minibatch loss: 0.847, learning rate: 0.007738\n",
        "Minibatch accuracy: 95.3%\n",
        "Validation accuracy: 92.0%"
       ]
      },
      {
       "output_type": "stream",
       "stream": "stdout",
       "text": [
        "\n"
       ]
      },
      {
       "output_type": "stream",
       "stream": "stdout",
       "text": [
        "Step 16900 (epoch 5.41), 148.8 ms\n",
        "Minibatch loss: 0.924, learning rate: 0.007738\n",
        "Minibatch accuracy: 95.3%\n",
        "Validation accuracy: 92.2%"
       ]
      },
      {
       "output_type": "stream",
       "stream": "stdout",
       "text": [
        "\n"
       ]
      },
      {
       "output_type": "stream",
       "stream": "stdout",
       "text": [
        "Step 17000 (epoch 5.44), 148.8 ms\n",
        "Minibatch loss: 0.887, learning rate: 0.007738\n",
        "Minibatch accuracy: 95.3%\n",
        "Validation accuracy: 91.8%"
       ]
      },
      {
       "output_type": "stream",
       "stream": "stdout",
       "text": [
        "\n"
       ]
      },
      {
       "output_type": "stream",
       "stream": "stdout",
       "text": [
        "Step 17100 (epoch 5.47), 148.5 ms\n",
        "Minibatch loss: 1.001, learning rate: 0.007738\n",
        "Minibatch accuracy: 90.6%\n",
        "Validation accuracy: 91.8%"
       ]
      },
      {
       "output_type": "stream",
       "stream": "stdout",
       "text": [
        "\n"
       ]
      },
      {
       "output_type": "stream",
       "stream": "stdout",
       "text": [
        "Step 17200 (epoch 5.50), 148.2 ms\n",
        "Minibatch loss: 0.940, learning rate: 0.007738\n",
        "Minibatch accuracy: 93.8%\n",
        "Validation accuracy: 91.8%"
       ]
      },
      {
       "output_type": "stream",
       "stream": "stdout",
       "text": [
        "\n"
       ]
      },
      {
       "output_type": "stream",
       "stream": "stdout",
       "text": [
        "Step 17300 (epoch 5.54), 148.5 ms\n",
        "Minibatch loss: 0.992, learning rate: 0.007738\n",
        "Minibatch accuracy: 89.1%\n",
        "Validation accuracy: 91.9%"
       ]
      },
      {
       "output_type": "stream",
       "stream": "stdout",
       "text": [
        "\n"
       ]
      },
      {
       "output_type": "stream",
       "stream": "stdout",
       "text": [
        "Step 17400 (epoch 5.57), 149.1 ms\n",
        "Minibatch loss: 1.160, learning rate: 0.007738\n",
        "Minibatch accuracy: 89.1%\n",
        "Validation accuracy: 92.0%"
       ]
      },
      {
       "output_type": "stream",
       "stream": "stdout",
       "text": [
        "\n"
       ]
      },
      {
       "output_type": "stream",
       "stream": "stdout",
       "text": [
        "Step 17500 (epoch 5.60), 148.3 ms\n",
        "Minibatch loss: 1.118, learning rate: 0.007738\n",
        "Minibatch accuracy: 89.1%\n",
        "Validation accuracy: 91.9%"
       ]
      },
      {
       "output_type": "stream",
       "stream": "stdout",
       "text": [
        "\n"
       ]
      },
      {
       "output_type": "stream",
       "stream": "stdout",
       "text": [
        "Step 17600 (epoch 5.63), 148.4 ms\n",
        "Minibatch loss: 0.926, learning rate: 0.007738\n",
        "Minibatch accuracy: 93.8%\n",
        "Validation accuracy: 92.1%"
       ]
      },
      {
       "output_type": "stream",
       "stream": "stdout",
       "text": [
        "\n"
       ]
      },
      {
       "output_type": "stream",
       "stream": "stdout",
       "text": [
        "Step 17700 (epoch 5.66), 147.7 ms\n",
        "Minibatch loss: 0.849, learning rate: 0.007738\n",
        "Minibatch accuracy: 93.8%\n",
        "Validation accuracy: 92.0%"
       ]
      },
      {
       "output_type": "stream",
       "stream": "stdout",
       "text": [
        "\n"
       ]
      },
      {
       "output_type": "stream",
       "stream": "stdout",
       "text": [
        "Step 17800 (epoch 5.70), 149.3 ms\n",
        "Minibatch loss: 1.002, learning rate: 0.007738\n",
        "Minibatch accuracy: 87.5%\n",
        "Validation accuracy: 91.9%"
       ]
      },
      {
       "output_type": "stream",
       "stream": "stdout",
       "text": [
        "\n"
       ]
      },
      {
       "output_type": "stream",
       "stream": "stdout",
       "text": [
        "Step 17900 (epoch 5.73), 147.9 ms\n",
        "Minibatch loss: 0.898, learning rate: 0.007738\n",
        "Minibatch accuracy: 95.3%\n",
        "Validation accuracy: 92.2%"
       ]
      },
      {
       "output_type": "stream",
       "stream": "stdout",
       "text": [
        "\n"
       ]
      },
      {
       "output_type": "stream",
       "stream": "stdout",
       "text": [
        "Step 18000 (epoch 5.76), 148.2 ms\n",
        "Minibatch loss: 1.016, learning rate: 0.007738\n",
        "Minibatch accuracy: 84.4%\n",
        "Validation accuracy: 92.0%"
       ]
      },
      {
       "output_type": "stream",
       "stream": "stdout",
       "text": [
        "\n"
       ]
      },
      {
       "output_type": "stream",
       "stream": "stdout",
       "text": [
        "Step 18100 (epoch 5.79), 147.6 ms\n",
        "Minibatch loss: 1.065, learning rate: 0.007738\n",
        "Minibatch accuracy: 85.9%\n",
        "Validation accuracy: 91.9%"
       ]
      },
      {
       "output_type": "stream",
       "stream": "stdout",
       "text": [
        "\n"
       ]
      },
      {
       "output_type": "stream",
       "stream": "stdout",
       "text": [
        "Step 18200 (epoch 5.82), 149.4 ms\n",
        "Minibatch loss: 0.822, learning rate: 0.007738\n",
        "Minibatch accuracy: 95.3%\n",
        "Validation accuracy: 92.2%"
       ]
      },
      {
       "output_type": "stream",
       "stream": "stdout",
       "text": [
        "\n"
       ]
      },
      {
       "output_type": "stream",
       "stream": "stdout",
       "text": [
        "Step 18300 (epoch 5.86), 148.2 ms\n",
        "Minibatch loss: 1.018, learning rate: 0.007738\n",
        "Minibatch accuracy: 87.5%\n",
        "Validation accuracy: 92.1%"
       ]
      },
      {
       "output_type": "stream",
       "stream": "stdout",
       "text": [
        "\n"
       ]
      },
      {
       "output_type": "stream",
       "stream": "stdout",
       "text": [
        "Step 18400 (epoch 5.89), 149.1 ms\n",
        "Minibatch loss: 1.046, learning rate: 0.007738\n",
        "Minibatch accuracy: 87.5%\n",
        "Validation accuracy: 92.1%"
       ]
      },
      {
       "output_type": "stream",
       "stream": "stdout",
       "text": [
        "\n"
       ]
      },
      {
       "output_type": "stream",
       "stream": "stdout",
       "text": [
        "Step 18500 (epoch 5.92), 149.0 ms\n",
        "Minibatch loss: 0.802, learning rate: 0.007738\n",
        "Minibatch accuracy: 95.3%\n",
        "Validation accuracy: 92.0%"
       ]
      },
      {
       "output_type": "stream",
       "stream": "stdout",
       "text": [
        "\n"
       ]
      },
      {
       "output_type": "stream",
       "stream": "stdout",
       "text": [
        "Step 18600 (epoch 5.95), 149.5 ms\n",
        "Minibatch loss: 0.837, learning rate: 0.007738\n",
        "Minibatch accuracy: 92.2%\n",
        "Validation accuracy: 92.1%"
       ]
      },
      {
       "output_type": "stream",
       "stream": "stdout",
       "text": [
        "\n"
       ]
      },
      {
       "output_type": "stream",
       "stream": "stdout",
       "text": [
        "Step 18700 (epoch 5.98), 148.7 ms\n",
        "Minibatch loss: 1.046, learning rate: 0.007738\n",
        "Minibatch accuracy: 87.5%\n",
        "Validation accuracy: 92.2%"
       ]
      },
      {
       "output_type": "stream",
       "stream": "stdout",
       "text": [
        "\n"
       ]
      },
      {
       "output_type": "stream",
       "stream": "stdout",
       "text": [
        "Step 18800 (epoch 6.02), 148.7 ms\n",
        "Minibatch loss: 1.025, learning rate: 0.007351\n",
        "Minibatch accuracy: 87.5%\n",
        "Validation accuracy: 92.1%"
       ]
      },
      {
       "output_type": "stream",
       "stream": "stdout",
       "text": [
        "\n"
       ]
      },
      {
       "output_type": "stream",
       "stream": "stdout",
       "text": [
        "Step 18900 (epoch 6.05), 148.1 ms\n",
        "Minibatch loss: 0.836, learning rate: 0.007351\n",
        "Minibatch accuracy: 90.6%\n",
        "Validation accuracy: 92.2%"
       ]
      },
      {
       "output_type": "stream",
       "stream": "stdout",
       "text": [
        "\n"
       ]
      },
      {
       "output_type": "stream",
       "stream": "stdout",
       "text": [
        "Step 19000 (epoch 6.08), 149.0 ms\n",
        "Minibatch loss: 0.792, learning rate: 0.007351\n",
        "Minibatch accuracy: 95.3%\n",
        "Validation accuracy: 92.2%"
       ]
      },
      {
       "output_type": "stream",
       "stream": "stdout",
       "text": [
        "\n"
       ]
      },
      {
       "output_type": "stream",
       "stream": "stdout",
       "text": [
        "Step 19100 (epoch 6.11), 148.3 ms\n",
        "Minibatch loss: 0.768, learning rate: 0.007351\n",
        "Minibatch accuracy: 95.3%\n",
        "Validation accuracy: 92.1%"
       ]
      },
      {
       "output_type": "stream",
       "stream": "stdout",
       "text": [
        "\n"
       ]
      },
      {
       "output_type": "stream",
       "stream": "stdout",
       "text": [
        "Step 19200 (epoch 6.14), 149.0 ms\n",
        "Minibatch loss: 1.045, learning rate: 0.007351\n",
        "Minibatch accuracy: 87.5%\n",
        "Validation accuracy: 92.3%"
       ]
      },
      {
       "output_type": "stream",
       "stream": "stdout",
       "text": [
        "\n"
       ]
      },
      {
       "output_type": "stream",
       "stream": "stdout",
       "text": [
        "Step 19300 (epoch 6.18), 148.3 ms\n",
        "Minibatch loss: 0.799, learning rate: 0.007351\n",
        "Minibatch accuracy: 93.8%\n",
        "Validation accuracy: 92.1%"
       ]
      },
      {
       "output_type": "stream",
       "stream": "stdout",
       "text": [
        "\n"
       ]
      },
      {
       "output_type": "stream",
       "stream": "stdout",
       "text": [
        "Step 19400 (epoch 6.21), 149.6 ms\n",
        "Minibatch loss: 0.809, learning rate: 0.007351\n",
        "Minibatch accuracy: 93.8%\n",
        "Validation accuracy: 92.2%"
       ]
      },
      {
       "output_type": "stream",
       "stream": "stdout",
       "text": [
        "\n"
       ]
      },
      {
       "output_type": "stream",
       "stream": "stdout",
       "text": [
        "Step 19500 (epoch 6.24), 148.5 ms\n",
        "Minibatch loss: 0.743, learning rate: 0.007351\n",
        "Minibatch accuracy: 93.8%\n",
        "Validation accuracy: 92.2%"
       ]
      },
      {
       "output_type": "stream",
       "stream": "stdout",
       "text": [
        "\n"
       ]
      },
      {
       "output_type": "stream",
       "stream": "stdout",
       "text": [
        "Step 19600 (epoch 6.27), 148.4 ms\n",
        "Minibatch loss: 0.884, learning rate: 0.007351\n",
        "Minibatch accuracy: 92.2%\n",
        "Validation accuracy: 92.2%"
       ]
      },
      {
       "output_type": "stream",
       "stream": "stdout",
       "text": [
        "\n"
       ]
      },
      {
       "output_type": "stream",
       "stream": "stdout",
       "text": [
        "Step 19700 (epoch 6.30), 149.1 ms\n",
        "Minibatch loss: 0.976, learning rate: 0.007351\n",
        "Minibatch accuracy: 87.5%\n",
        "Validation accuracy: 92.4%"
       ]
      },
      {
       "output_type": "stream",
       "stream": "stdout",
       "text": [
        "\n"
       ]
      },
      {
       "output_type": "stream",
       "stream": "stdout",
       "text": [
        "Step 19800 (epoch 6.34), 149.1 ms\n",
        "Minibatch loss: 0.639, learning rate: 0.007351\n",
        "Minibatch accuracy: 98.4%\n",
        "Validation accuracy: 92.3%"
       ]
      },
      {
       "output_type": "stream",
       "stream": "stdout",
       "text": [
        "\n"
       ]
      },
      {
       "output_type": "stream",
       "stream": "stdout",
       "text": [
        "Step 19900 (epoch 6.37), 149.1 ms\n",
        "Minibatch loss: 0.860, learning rate: 0.007351\n",
        "Minibatch accuracy: 90.6%\n",
        "Validation accuracy: 92.1%"
       ]
      },
      {
       "output_type": "stream",
       "stream": "stdout",
       "text": [
        "\n"
       ]
      },
      {
       "output_type": "stream",
       "stream": "stdout",
       "text": [
        "Step 20000 (epoch 6.40), 148.6 ms\n",
        "Minibatch loss: 0.713, learning rate: 0.007351\n",
        "Minibatch accuracy: 95.3%\n",
        "Validation accuracy: 92.2%"
       ]
      },
      {
       "output_type": "stream",
       "stream": "stdout",
       "text": [
        "\n"
       ]
      },
      {
       "output_type": "stream",
       "stream": "stdout",
       "text": [
        "Step 20100 (epoch 6.43), 149.2 ms\n",
        "Minibatch loss: 0.779, learning rate: 0.007351\n",
        "Minibatch accuracy: 92.2%\n",
        "Validation accuracy: 92.2%"
       ]
      },
      {
       "output_type": "stream",
       "stream": "stdout",
       "text": [
        "\n"
       ]
      },
      {
       "output_type": "stream",
       "stream": "stdout",
       "text": [
        "Step 20200 (epoch 6.46), 149.2 ms\n",
        "Minibatch loss: 0.720, learning rate: 0.007351\n",
        "Minibatch accuracy: 93.8%\n",
        "Validation accuracy: 92.2%"
       ]
      },
      {
       "output_type": "stream",
       "stream": "stdout",
       "text": [
        "\n"
       ]
      },
      {
       "output_type": "stream",
       "stream": "stdout",
       "text": [
        "Step 20300 (epoch 6.50), 149.1 ms\n",
        "Minibatch loss: 1.192, learning rate: 0.007351\n",
        "Minibatch accuracy: 85.9%\n",
        "Validation accuracy: 92.1%"
       ]
      },
      {
       "output_type": "stream",
       "stream": "stdout",
       "text": [
        "\n"
       ]
      },
      {
       "output_type": "stream",
       "stream": "stdout",
       "text": [
        "Step 20400 (epoch 6.53), 149.2 ms\n",
        "Minibatch loss: 0.864, learning rate: 0.007351\n",
        "Minibatch accuracy: 92.2%\n",
        "Validation accuracy: 92.1%"
       ]
      },
      {
       "output_type": "stream",
       "stream": "stdout",
       "text": [
        "\n"
       ]
      },
      {
       "output_type": "stream",
       "stream": "stdout",
       "text": [
        "Step 20500 (epoch 6.56), 148.8 ms\n",
        "Minibatch loss: 0.958, learning rate: 0.007351\n",
        "Minibatch accuracy: 92.2%\n",
        "Validation accuracy: 92.2%"
       ]
      },
      {
       "output_type": "stream",
       "stream": "stdout",
       "text": [
        "\n"
       ]
      },
      {
       "output_type": "stream",
       "stream": "stdout",
       "text": [
        "Step 20600 (epoch 6.59), 149.3 ms\n",
        "Minibatch loss: 0.969, learning rate: 0.007351\n",
        "Minibatch accuracy: 89.1%\n",
        "Validation accuracy: 92.1%"
       ]
      },
      {
       "output_type": "stream",
       "stream": "stdout",
       "text": [
        "\n"
       ]
      },
      {
       "output_type": "stream",
       "stream": "stdout",
       "text": [
        "Step 20700 (epoch 6.62), 148.5 ms\n",
        "Minibatch loss: 0.678, learning rate: 0.007351\n",
        "Minibatch accuracy: 95.3%\n",
        "Validation accuracy: 92.0%"
       ]
      },
      {
       "output_type": "stream",
       "stream": "stdout",
       "text": [
        "\n"
       ]
      },
      {
       "output_type": "stream",
       "stream": "stdout",
       "text": [
        "Step 20800 (epoch 6.66), 148.8 ms\n",
        "Minibatch loss: 1.050, learning rate: 0.007351\n",
        "Minibatch accuracy: 82.8%\n",
        "Validation accuracy: 92.2%"
       ]
      },
      {
       "output_type": "stream",
       "stream": "stdout",
       "text": [
        "\n"
       ]
      },
      {
       "output_type": "stream",
       "stream": "stdout",
       "text": [
        "Step 20900 (epoch 6.69), 148.5 ms\n",
        "Minibatch loss: 0.629, learning rate: 0.007351\n",
        "Minibatch accuracy: 96.9%\n",
        "Validation accuracy: 92.2%"
       ]
      },
      {
       "output_type": "stream",
       "stream": "stdout",
       "text": [
        "\n"
       ]
      },
      {
       "output_type": "stream",
       "stream": "stdout",
       "text": [
        "Step 21000 (epoch 6.72), 149.3 ms\n",
        "Minibatch loss: 0.798, learning rate: 0.007351\n",
        "Minibatch accuracy: 89.1%\n",
        "Validation accuracy: 92.3%"
       ]
      },
      {
       "output_type": "stream",
       "stream": "stdout",
       "text": [
        "\n"
       ]
      },
      {
       "output_type": "stream",
       "stream": "stdout",
       "text": [
        "Step 21100 (epoch 6.75), 147.9 ms\n",
        "Minibatch loss: 0.751, learning rate: 0.007351\n",
        "Minibatch accuracy: 90.6%\n",
        "Validation accuracy: 92.3%"
       ]
      },
      {
       "output_type": "stream",
       "stream": "stdout",
       "text": [
        "\n"
       ]
      },
      {
       "output_type": "stream",
       "stream": "stdout",
       "text": [
        "Step 21200 (epoch 6.78), 148.3 ms\n",
        "Minibatch loss: 0.717, learning rate: 0.007351\n",
        "Minibatch accuracy: 93.8%\n",
        "Validation accuracy: 92.4%"
       ]
      },
      {
       "output_type": "stream",
       "stream": "stdout",
       "text": [
        "\n"
       ]
      },
      {
       "output_type": "stream",
       "stream": "stdout",
       "text": [
        "Step 21300 (epoch 6.82), 148.3 ms\n",
        "Minibatch loss: 0.897, learning rate: 0.007351\n",
        "Minibatch accuracy: 92.2%\n",
        "Validation accuracy: 92.4%"
       ]
      },
      {
       "output_type": "stream",
       "stream": "stdout",
       "text": [
        "\n"
       ]
      },
      {
       "output_type": "stream",
       "stream": "stdout",
       "text": [
        "Step 21400 (epoch 6.85), 149.3 ms\n",
        "Minibatch loss: 0.884, learning rate: 0.007351\n",
        "Minibatch accuracy: 90.6%\n",
        "Validation accuracy: 92.3%"
       ]
      },
      {
       "output_type": "stream",
       "stream": "stdout",
       "text": [
        "\n"
       ]
      },
      {
       "output_type": "stream",
       "stream": "stdout",
       "text": [
        "Step 21500 (epoch 6.88), 148.1 ms\n",
        "Minibatch loss: 0.706, learning rate: 0.007351\n",
        "Minibatch accuracy: 92.2%\n",
        "Validation accuracy: 92.5%"
       ]
      },
      {
       "output_type": "stream",
       "stream": "stdout",
       "text": [
        "\n"
       ]
      },
      {
       "output_type": "stream",
       "stream": "stdout",
       "text": [
        "Step 21600 (epoch 6.91), 148.7 ms\n",
        "Minibatch loss: 0.715, learning rate: 0.007351\n",
        "Minibatch accuracy: 93.8%\n",
        "Validation accuracy: 92.2%"
       ]
      },
      {
       "output_type": "stream",
       "stream": "stdout",
       "text": [
        "\n"
       ]
      },
      {
       "output_type": "stream",
       "stream": "stdout",
       "text": [
        "Step 21700 (epoch 6.94), 148.6 ms\n",
        "Minibatch loss: 0.656, learning rate: 0.007351\n",
        "Minibatch accuracy: 95.3%\n",
        "Validation accuracy: 92.2%"
       ]
      },
      {
       "output_type": "stream",
       "stream": "stdout",
       "text": [
        "\n"
       ]
      },
      {
       "output_type": "stream",
       "stream": "stdout",
       "text": [
        "Step 21800 (epoch 6.98), 149.5 ms\n",
        "Minibatch loss: 0.742, learning rate: 0.007351\n",
        "Minibatch accuracy: 93.8%\n",
        "Validation accuracy: 92.2%"
       ]
      },
      {
       "output_type": "stream",
       "stream": "stdout",
       "text": [
        "\n"
       ]
      },
      {
       "output_type": "stream",
       "stream": "stdout",
       "text": [
        "Step 21900 (epoch 7.01), 148.6 ms\n",
        "Minibatch loss: 1.015, learning rate: 0.006983\n",
        "Minibatch accuracy: 84.4%\n",
        "Validation accuracy: 92.2%"
       ]
      },
      {
       "output_type": "stream",
       "stream": "stdout",
       "text": [
        "\n"
       ]
      },
      {
       "output_type": "stream",
       "stream": "stdout",
       "text": [
        "Step 22000 (epoch 7.04), 148.9 ms\n",
        "Minibatch loss: 0.728, learning rate: 0.006983\n",
        "Minibatch accuracy: 95.3%\n",
        "Validation accuracy: 92.2%"
       ]
      },
      {
       "output_type": "stream",
       "stream": "stdout",
       "text": [
        "\n"
       ]
      },
      {
       "output_type": "stream",
       "stream": "stdout",
       "text": [
        "Step 22100 (epoch 7.07), 148.6 ms\n",
        "Minibatch loss: 0.671, learning rate: 0.006983\n",
        "Minibatch accuracy: 93.8%\n",
        "Validation accuracy: 92.3%"
       ]
      },
      {
       "output_type": "stream",
       "stream": "stdout",
       "text": [
        "\n"
       ]
      },
      {
       "output_type": "stream",
       "stream": "stdout",
       "text": [
        "Step 22200 (epoch 7.10), 149.1 ms\n",
        "Minibatch loss: 0.723, learning rate: 0.006983\n",
        "Minibatch accuracy: 93.8%\n",
        "Validation accuracy: 92.2%"
       ]
      },
      {
       "output_type": "stream",
       "stream": "stdout",
       "text": [
        "\n"
       ]
      },
      {
       "output_type": "stream",
       "stream": "stdout",
       "text": [
        "Step 22300 (epoch 7.14), 148.4 ms\n",
        "Minibatch loss: 0.701, learning rate: 0.006983\n",
        "Minibatch accuracy: 92.2%\n",
        "Validation accuracy: 92.3%"
       ]
      },
      {
       "output_type": "stream",
       "stream": "stdout",
       "text": [
        "\n"
       ]
      },
      {
       "output_type": "stream",
       "stream": "stdout",
       "text": [
        "Step 22400 (epoch 7.17), 148.6 ms\n",
        "Minibatch loss: 0.704, learning rate: 0.006983\n",
        "Minibatch accuracy: 95.3%\n",
        "Validation accuracy: 92.2%"
       ]
      },
      {
       "output_type": "stream",
       "stream": "stdout",
       "text": [
        "\n"
       ]
      },
      {
       "output_type": "stream",
       "stream": "stdout",
       "text": [
        "Step 22500 (epoch 7.20), 148.2 ms\n",
        "Minibatch loss: 0.589, learning rate: 0.006983\n",
        "Minibatch accuracy: 96.9%\n",
        "Validation accuracy: 92.4%"
       ]
      },
      {
       "output_type": "stream",
       "stream": "stdout",
       "text": [
        "\n"
       ]
      },
      {
       "output_type": "stream",
       "stream": "stdout",
       "text": [
        "Step 22600 (epoch 7.23), 149.6 ms\n",
        "Minibatch loss: 0.777, learning rate: 0.006983\n",
        "Minibatch accuracy: 92.2%\n",
        "Validation accuracy: 92.4%"
       ]
      },
      {
       "output_type": "stream",
       "stream": "stdout",
       "text": [
        "\n"
       ]
      },
      {
       "output_type": "stream",
       "stream": "stdout",
       "text": [
        "Step 22700 (epoch 7.26), 148.6 ms\n",
        "Minibatch loss: 0.745, learning rate: 0.006983\n",
        "Minibatch accuracy: 92.2%\n",
        "Validation accuracy: 92.3%"
       ]
      },
      {
       "output_type": "stream",
       "stream": "stdout",
       "text": [
        "\n"
       ]
      },
      {
       "output_type": "stream",
       "stream": "stdout",
       "text": [
        "Step 22800 (epoch 7.30), 148.6 ms\n",
        "Minibatch loss: 0.895, learning rate: 0.006983\n",
        "Minibatch accuracy: 85.9%\n",
        "Validation accuracy: 92.2%"
       ]
      },
      {
       "output_type": "stream",
       "stream": "stdout",
       "text": [
        "\n"
       ]
      },
      {
       "output_type": "stream",
       "stream": "stdout",
       "text": [
        "Step 22900 (epoch 7.33), 148.4 ms\n",
        "Minibatch loss: 0.668, learning rate: 0.006983\n",
        "Minibatch accuracy: 95.3%\n",
        "Validation accuracy: 92.5%"
       ]
      },
      {
       "output_type": "stream",
       "stream": "stdout",
       "text": [
        "\n"
       ]
      },
      {
       "output_type": "stream",
       "stream": "stdout",
       "text": [
        "Step 23000 (epoch 7.36), 149.4 ms\n",
        "Minibatch loss: 0.811, learning rate: 0.006983\n",
        "Minibatch accuracy: 89.1%\n",
        "Validation accuracy: 92.3%"
       ]
      },
      {
       "output_type": "stream",
       "stream": "stdout",
       "text": [
        "\n"
       ]
      },
      {
       "output_type": "stream",
       "stream": "stdout",
       "text": [
        "Step 23100 (epoch 7.39), 148.8 ms\n",
        "Minibatch loss: 0.783, learning rate: 0.006983\n",
        "Minibatch accuracy: 89.1%\n",
        "Validation accuracy: 92.5%"
       ]
      },
      {
       "output_type": "stream",
       "stream": "stdout",
       "text": [
        "\n"
       ]
      },
      {
       "output_type": "stream",
       "stream": "stdout",
       "text": [
        "Step 23200 (epoch 7.42), 148.4 ms\n",
        "Minibatch loss: 0.581, learning rate: 0.006983\n",
        "Minibatch accuracy: 95.3%\n",
        "Validation accuracy: 92.3%"
       ]
      },
      {
       "output_type": "stream",
       "stream": "stdout",
       "text": [
        "\n"
       ]
      },
      {
       "output_type": "stream",
       "stream": "stdout",
       "text": [
        "Step 23300 (epoch 7.46), 148.9 ms\n",
        "Minibatch loss: 0.585, learning rate: 0.006983\n",
        "Minibatch accuracy: 95.3%\n",
        "Validation accuracy: 92.3%"
       ]
      },
      {
       "output_type": "stream",
       "stream": "stdout",
       "text": [
        "\n"
       ]
      },
      {
       "output_type": "stream",
       "stream": "stdout",
       "text": [
        "Step 23400 (epoch 7.49), 149.4 ms\n",
        "Minibatch loss: 0.712, learning rate: 0.006983\n",
        "Minibatch accuracy: 92.2%\n",
        "Validation accuracy: 92.2%"
       ]
      },
      {
       "output_type": "stream",
       "stream": "stdout",
       "text": [
        "\n"
       ]
      },
      {
       "output_type": "stream",
       "stream": "stdout",
       "text": [
        "Step 23500 (epoch 7.52), 148.5 ms\n",
        "Minibatch loss: 0.516, learning rate: 0.006983\n",
        "Minibatch accuracy: 100.0%\n",
        "Validation accuracy: 92.5%"
       ]
      },
      {
       "output_type": "stream",
       "stream": "stdout",
       "text": [
        "\n"
       ]
      },
      {
       "output_type": "stream",
       "stream": "stdout",
       "text": [
        "Step 23600 (epoch 7.55), 148.6 ms\n",
        "Minibatch loss: 0.843, learning rate: 0.006983\n",
        "Minibatch accuracy: 85.9%\n",
        "Validation accuracy: 92.5%"
       ]
      },
      {
       "output_type": "stream",
       "stream": "stdout",
       "text": [
        "\n"
       ]
      },
      {
       "output_type": "stream",
       "stream": "stdout",
       "text": [
        "Step 23700 (epoch 7.58), 148.5 ms\n",
        "Minibatch loss: 0.692, learning rate: 0.006983\n",
        "Minibatch accuracy: 92.2%\n",
        "Validation accuracy: 92.5%"
       ]
      },
      {
       "output_type": "stream",
       "stream": "stdout",
       "text": [
        "\n"
       ]
      },
      {
       "output_type": "stream",
       "stream": "stdout",
       "text": [
        "Step 23800 (epoch 7.62), 148.7 ms\n",
        "Minibatch loss: 0.770, learning rate: 0.006983\n",
        "Minibatch accuracy: 93.8%\n",
        "Validation accuracy: 92.5%"
       ]
      },
      {
       "output_type": "stream",
       "stream": "stdout",
       "text": [
        "\n"
       ]
      },
      {
       "output_type": "stream",
       "stream": "stdout",
       "text": [
        "Step 23900 (epoch 7.65), 149.6 ms\n",
        "Minibatch loss: 0.574, learning rate: 0.006983\n",
        "Minibatch accuracy: 98.4%\n",
        "Validation accuracy: 92.4%"
       ]
      },
      {
       "output_type": "stream",
       "stream": "stdout",
       "text": [
        "\n"
       ]
      },
      {
       "output_type": "stream",
       "stream": "stdout",
       "text": [
        "Step 24000 (epoch 7.68), 148.9 ms\n",
        "Minibatch loss: 0.658, learning rate: 0.006983\n",
        "Minibatch accuracy: 93.8%\n",
        "Validation accuracy: 92.4%"
       ]
      },
      {
       "output_type": "stream",
       "stream": "stdout",
       "text": [
        "\n"
       ]
      },
      {
       "output_type": "stream",
       "stream": "stdout",
       "text": [
        "Step 24100 (epoch 7.71), 148.3 ms\n",
        "Minibatch loss: 0.686, learning rate: 0.006983\n",
        "Minibatch accuracy: 93.8%\n",
        "Validation accuracy: 92.6%"
       ]
      },
      {
       "output_type": "stream",
       "stream": "stdout",
       "text": [
        "\n"
       ]
      },
      {
       "output_type": "stream",
       "stream": "stdout",
       "text": [
        "Step 24200 (epoch 7.74), 148.2 ms\n",
        "Minibatch loss: 0.734, learning rate: 0.006983\n",
        "Minibatch accuracy: 90.6%\n",
        "Validation accuracy: 92.4%"
       ]
      },
      {
       "output_type": "stream",
       "stream": "stdout",
       "text": [
        "\n"
       ]
      },
      {
       "output_type": "stream",
       "stream": "stdout",
       "text": [
        "Step 24300 (epoch 7.78), 150.4 ms\n",
        "Minibatch loss: 0.639, learning rate: 0.006983\n",
        "Minibatch accuracy: 92.2%\n",
        "Validation accuracy: 92.3%"
       ]
      },
      {
       "output_type": "stream",
       "stream": "stdout",
       "text": [
        "\n"
       ]
      },
      {
       "output_type": "stream",
       "stream": "stdout",
       "text": [
        "Step 24400 (epoch 7.81), 149.5 ms\n",
        "Minibatch loss: 0.642, learning rate: 0.006983\n",
        "Minibatch accuracy: 90.6%\n",
        "Validation accuracy: 92.4%"
       ]
      },
      {
       "output_type": "stream",
       "stream": "stdout",
       "text": [
        "\n"
       ]
      },
      {
       "output_type": "stream",
       "stream": "stdout",
       "text": [
        "Step 24500 (epoch 7.84), 149.2 ms\n",
        "Minibatch loss: 0.668, learning rate: 0.006983\n",
        "Minibatch accuracy: 93.8%\n",
        "Validation accuracy: 92.5%"
       ]
      },
      {
       "output_type": "stream",
       "stream": "stdout",
       "text": [
        "\n"
       ]
      },
      {
       "output_type": "stream",
       "stream": "stdout",
       "text": [
        "Step 24600 (epoch 7.87), 149.5 ms\n",
        "Minibatch loss: 0.629, learning rate: 0.006983\n",
        "Minibatch accuracy: 92.2%\n",
        "Validation accuracy: 92.4%"
       ]
      },
      {
       "output_type": "stream",
       "stream": "stdout",
       "text": [
        "\n"
       ]
      },
      {
       "output_type": "stream",
       "stream": "stdout",
       "text": [
        "Step 24700 (epoch 7.90), 149.3 ms\n",
        "Minibatch loss: 0.831, learning rate: 0.006983\n",
        "Minibatch accuracy: 87.5%\n",
        "Validation accuracy: 92.5%"
       ]
      },
      {
       "output_type": "stream",
       "stream": "stdout",
       "text": [
        "\n"
       ]
      },
      {
       "output_type": "stream",
       "stream": "stdout",
       "text": [
        "Step 24800 (epoch 7.94), 149.4 ms\n",
        "Minibatch loss: 0.633, learning rate: 0.006983\n",
        "Minibatch accuracy: 93.8%\n",
        "Validation accuracy: 92.5%"
       ]
      },
      {
       "output_type": "stream",
       "stream": "stdout",
       "text": [
        "\n"
       ]
      },
      {
       "output_type": "stream",
       "stream": "stdout",
       "text": [
        "Step 24900 (epoch 7.97), 149.2 ms\n",
        "Minibatch loss: 0.629, learning rate: 0.006983\n",
        "Minibatch accuracy: 95.3%\n",
        "Validation accuracy: 92.4%"
       ]
      },
      {
       "output_type": "stream",
       "stream": "stdout",
       "text": [
        "\n"
       ]
      },
      {
       "output_type": "stream",
       "stream": "stdout",
       "text": [
        "Step 25000 (epoch 8.00), 149.0 ms\n",
        "Minibatch loss: 0.593, learning rate: 0.006634\n",
        "Minibatch accuracy: 93.8%\n",
        "Validation accuracy: 92.5%"
       ]
      },
      {
       "output_type": "stream",
       "stream": "stdout",
       "text": [
        "\n"
       ]
      },
      {
       "output_type": "stream",
       "stream": "stdout",
       "text": [
        "Step 25100 (epoch 8.03), 149.9 ms\n",
        "Minibatch loss: 0.680, learning rate: 0.006634\n",
        "Minibatch accuracy: 92.2%\n",
        "Validation accuracy: 92.6%"
       ]
      },
      {
       "output_type": "stream",
       "stream": "stdout",
       "text": [
        "\n"
       ]
      },
      {
       "output_type": "stream",
       "stream": "stdout",
       "text": [
        "Step 25200 (epoch 8.06), 149.2 ms\n",
        "Minibatch loss: 0.593, learning rate: 0.006634\n",
        "Minibatch accuracy: 95.3%\n",
        "Validation accuracy: 92.4%"
       ]
      },
      {
       "output_type": "stream",
       "stream": "stdout",
       "text": [
        "\n"
       ]
      },
      {
       "output_type": "stream",
       "stream": "stdout",
       "text": [
        "Step 25300 (epoch 8.10), 149.7 ms\n",
        "Minibatch loss: 0.631, learning rate: 0.006634\n",
        "Minibatch accuracy: 95.3%\n",
        "Validation accuracy: 92.5%"
       ]
      },
      {
       "output_type": "stream",
       "stream": "stdout",
       "text": [
        "\n"
       ]
      },
      {
       "output_type": "stream",
       "stream": "stdout",
       "text": [
        "Step 25400 (epoch 8.13), 148.9 ms\n",
        "Minibatch loss: 0.572, learning rate: 0.006634\n",
        "Minibatch accuracy: 95.3%\n",
        "Validation accuracy: 92.5%"
       ]
      },
      {
       "output_type": "stream",
       "stream": "stdout",
       "text": [
        "\n"
       ]
      },
      {
       "output_type": "stream",
       "stream": "stdout",
       "text": [
        "Step 25500 (epoch 8.16), 149.7 ms\n",
        "Minibatch loss: 0.734, learning rate: 0.006634\n",
        "Minibatch accuracy: 89.1%\n",
        "Validation accuracy: 92.4%"
       ]
      },
      {
       "output_type": "stream",
       "stream": "stdout",
       "text": [
        "\n"
       ]
      },
      {
       "output_type": "stream",
       "stream": "stdout",
       "text": [
        "Step 25600 (epoch 8.19), 149.0 ms\n",
        "Minibatch loss: 0.463, learning rate: 0.006634\n",
        "Minibatch accuracy: 100.0%\n",
        "Validation accuracy: 92.5%"
       ]
      },
      {
       "output_type": "stream",
       "stream": "stdout",
       "text": [
        "\n"
       ]
      },
      {
       "output_type": "stream",
       "stream": "stdout",
       "text": [
        "Step 25700 (epoch 8.22), 148.9 ms\n",
        "Minibatch loss: 0.550, learning rate: 0.006634\n",
        "Minibatch accuracy: 95.3%\n",
        "Validation accuracy: 92.6%"
       ]
      },
      {
       "output_type": "stream",
       "stream": "stdout",
       "text": [
        "\n"
       ]
      },
      {
       "output_type": "stream",
       "stream": "stdout",
       "text": [
        "Step 25800 (epoch 8.26), 148.9 ms\n",
        "Minibatch loss: 0.654, learning rate: 0.006634\n",
        "Minibatch accuracy: 93.8%\n",
        "Validation accuracy: 92.5%"
       ]
      },
      {
       "output_type": "stream",
       "stream": "stdout",
       "text": [
        "\n"
       ]
      },
      {
       "output_type": "stream",
       "stream": "stdout",
       "text": [
        "Step 25900 (epoch 8.29), 149.2 ms\n",
        "Minibatch loss: 0.675, learning rate: 0.006634\n",
        "Minibatch accuracy: 90.6%\n",
        "Validation accuracy: 92.6%"
       ]
      },
      {
       "output_type": "stream",
       "stream": "stdout",
       "text": [
        "\n"
       ]
      },
      {
       "output_type": "stream",
       "stream": "stdout",
       "text": [
        "Step 26000 (epoch 8.32), 150.3 ms\n",
        "Minibatch loss: 0.519, learning rate: 0.006634\n",
        "Minibatch accuracy: 96.9%\n",
        "Validation accuracy: 92.5%"
       ]
      },
      {
       "output_type": "stream",
       "stream": "stdout",
       "text": [
        "\n"
       ]
      },
      {
       "output_type": "stream",
       "stream": "stdout",
       "text": [
        "Step 26100 (epoch 8.35), 149.8 ms\n",
        "Minibatch loss: 0.563, learning rate: 0.006634\n",
        "Minibatch accuracy: 93.8%\n",
        "Validation accuracy: 92.6%"
       ]
      },
      {
       "output_type": "stream",
       "stream": "stdout",
       "text": [
        "\n"
       ]
      },
      {
       "output_type": "stream",
       "stream": "stdout",
       "text": [
        "Step 26200 (epoch 8.38), 149.9 ms\n",
        "Minibatch loss: 0.677, learning rate: 0.006634\n",
        "Minibatch accuracy: 89.1%\n",
        "Validation accuracy: 92.7%"
       ]
      },
      {
       "output_type": "stream",
       "stream": "stdout",
       "text": [
        "\n"
       ]
      },
      {
       "output_type": "stream",
       "stream": "stdout",
       "text": [
        "Step 26300 (epoch 8.42), 150.6 ms\n",
        "Minibatch loss: 0.686, learning rate: 0.006634\n",
        "Minibatch accuracy: 89.1%\n",
        "Validation accuracy: 92.6%"
       ]
      },
      {
       "output_type": "stream",
       "stream": "stdout",
       "text": [
        "\n"
       ]
      },
      {
       "output_type": "stream",
       "stream": "stdout",
       "text": [
        "Step 26400 (epoch 8.45), 149.9 ms\n",
        "Minibatch loss: 0.612, learning rate: 0.006634\n",
        "Minibatch accuracy: 90.6%\n",
        "Validation accuracy: 92.5%"
       ]
      },
      {
       "output_type": "stream",
       "stream": "stdout",
       "text": [
        "\n"
       ]
      },
      {
       "output_type": "stream",
       "stream": "stdout",
       "text": [
        "Step 26500 (epoch 8.48), 149.0 ms\n",
        "Minibatch loss: 0.605, learning rate: 0.006634\n",
        "Minibatch accuracy: 92.2%\n",
        "Validation accuracy: 92.7%"
       ]
      },
      {
       "output_type": "stream",
       "stream": "stdout",
       "text": [
        "\n"
       ]
      },
      {
       "output_type": "stream",
       "stream": "stdout",
       "text": [
        "Step 26600 (epoch 8.51), 149.9 ms\n",
        "Minibatch loss: 0.545, learning rate: 0.006634\n",
        "Minibatch accuracy: 93.8%\n",
        "Validation accuracy: 92.6%"
       ]
      },
      {
       "output_type": "stream",
       "stream": "stdout",
       "text": [
        "\n"
       ]
      },
      {
       "output_type": "stream",
       "stream": "stdout",
       "text": [
        "Step 26700 (epoch 8.54), 149.7 ms\n",
        "Minibatch loss: 0.645, learning rate: 0.006634\n",
        "Minibatch accuracy: 89.1%\n",
        "Validation accuracy: 92.6%"
       ]
      },
      {
       "output_type": "stream",
       "stream": "stdout",
       "text": [
        "\n"
       ]
      },
      {
       "output_type": "stream",
       "stream": "stdout",
       "text": [
        "Step 26800 (epoch 8.58), 149.0 ms\n",
        "Minibatch loss: 0.551, learning rate: 0.006634\n",
        "Minibatch accuracy: 93.8%\n",
        "Validation accuracy: 92.6%"
       ]
      },
      {
       "output_type": "stream",
       "stream": "stdout",
       "text": [
        "\n"
       ]
      },
      {
       "output_type": "stream",
       "stream": "stdout",
       "text": [
        "Step 26900 (epoch 8.61), 149.0 ms\n",
        "Minibatch loss: 0.704, learning rate: 0.006634\n",
        "Minibatch accuracy: 90.6%\n",
        "Validation accuracy: 92.5%"
       ]
      },
      {
       "output_type": "stream",
       "stream": "stdout",
       "text": [
        "\n"
       ]
      },
      {
       "output_type": "stream",
       "stream": "stdout",
       "text": [
        "Step 27000 (epoch 8.64), 149.4 ms\n",
        "Minibatch loss: 0.623, learning rate: 0.006634\n",
        "Minibatch accuracy: 89.1%\n",
        "Validation accuracy: 92.7%"
       ]
      },
      {
       "output_type": "stream",
       "stream": "stdout",
       "text": [
        "\n"
       ]
      },
      {
       "output_type": "stream",
       "stream": "stdout",
       "text": [
        "Step 27100 (epoch 8.67), 150.7 ms\n",
        "Minibatch loss: 0.568, learning rate: 0.006634\n",
        "Minibatch accuracy: 92.2%\n",
        "Validation accuracy: 92.7%"
       ]
      },
      {
       "output_type": "stream",
       "stream": "stdout",
       "text": [
        "\n"
       ]
      },
      {
       "output_type": "stream",
       "stream": "stdout",
       "text": [
        "Step 27200 (epoch 8.70), 149.7 ms\n",
        "Minibatch loss: 0.587, learning rate: 0.006634\n",
        "Minibatch accuracy: 89.1%\n",
        "Validation accuracy: 92.5%"
       ]
      },
      {
       "output_type": "stream",
       "stream": "stdout",
       "text": [
        "\n"
       ]
      },
      {
       "output_type": "stream",
       "stream": "stdout",
       "text": [
        "Step 27300 (epoch 8.74), 149.4 ms\n",
        "Minibatch loss: 0.682, learning rate: 0.006634\n",
        "Minibatch accuracy: 92.2%\n",
        "Validation accuracy: 92.6%"
       ]
      },
      {
       "output_type": "stream",
       "stream": "stdout",
       "text": [
        "\n"
       ]
      },
      {
       "output_type": "stream",
       "stream": "stdout",
       "text": [
        "Step 27400 (epoch 8.77), 149.5 ms\n",
        "Minibatch loss: 0.568, learning rate: 0.006634\n",
        "Minibatch accuracy: 93.8%\n",
        "Validation accuracy: 92.7%"
       ]
      },
      {
       "output_type": "stream",
       "stream": "stdout",
       "text": [
        "\n"
       ]
      },
      {
       "output_type": "stream",
       "stream": "stdout",
       "text": [
        "Step 27500 (epoch 8.80), 149.6 ms\n",
        "Minibatch loss: 0.473, learning rate: 0.006634\n",
        "Minibatch accuracy: 96.9%\n",
        "Validation accuracy: 92.7%"
       ]
      },
      {
       "output_type": "stream",
       "stream": "stdout",
       "text": [
        "\n"
       ]
      },
      {
       "output_type": "stream",
       "stream": "stdout",
       "text": [
        "Step 27600 (epoch 8.83), 149.8 ms\n",
        "Minibatch loss: 0.615, learning rate: 0.006634\n",
        "Minibatch accuracy: 93.8%\n",
        "Validation accuracy: 92.8%"
       ]
      },
      {
       "output_type": "stream",
       "stream": "stdout",
       "text": [
        "\n"
       ]
      },
      {
       "output_type": "stream",
       "stream": "stdout",
       "text": [
        "Step 27700 (epoch 8.86), 149.7 ms\n",
        "Minibatch loss: 0.637, learning rate: 0.006634\n",
        "Minibatch accuracy: 92.2%\n",
        "Validation accuracy: 92.6%"
       ]
      },
      {
       "output_type": "stream",
       "stream": "stdout",
       "text": [
        "\n"
       ]
      },
      {
       "output_type": "stream",
       "stream": "stdout",
       "text": [
        "Step 27800 (epoch 8.90), 149.6 ms\n",
        "Minibatch loss: 0.613, learning rate: 0.006634\n",
        "Minibatch accuracy: 92.2%\n",
        "Validation accuracy: 92.6%"
       ]
      },
      {
       "output_type": "stream",
       "stream": "stdout",
       "text": [
        "\n"
       ]
      },
      {
       "output_type": "stream",
       "stream": "stdout",
       "text": [
        "Step 27900 (epoch 8.93), 150.6 ms\n",
        "Minibatch loss: 0.549, learning rate: 0.006634\n",
        "Minibatch accuracy: 93.8%\n",
        "Validation accuracy: 92.4%"
       ]
      },
      {
       "output_type": "stream",
       "stream": "stdout",
       "text": [
        "\n"
       ]
      },
      {
       "output_type": "stream",
       "stream": "stdout",
       "text": [
        "Step 28000 (epoch 8.96), 150.3 ms\n",
        "Minibatch loss: 0.650, learning rate: 0.006634\n",
        "Minibatch accuracy: 89.1%\n",
        "Validation accuracy: 92.4%"
       ]
      },
      {
       "output_type": "stream",
       "stream": "stdout",
       "text": [
        "\n"
       ]
      },
      {
       "output_type": "stream",
       "stream": "stdout",
       "text": [
        "Step 28100 (epoch 8.99), 150.0 ms\n",
        "Minibatch loss: 0.699, learning rate: 0.006634\n",
        "Minibatch accuracy: 92.2%\n",
        "Validation accuracy: 92.7%"
       ]
      },
      {
       "output_type": "stream",
       "stream": "stdout",
       "text": [
        "\n"
       ]
      },
      {
       "output_type": "stream",
       "stream": "stdout",
       "text": [
        "Step 28200 (epoch 9.02), 149.8 ms\n",
        "Minibatch loss: 0.527, learning rate: 0.006302\n",
        "Minibatch accuracy: 95.3%\n",
        "Validation accuracy: 92.6%"
       ]
      },
      {
       "output_type": "stream",
       "stream": "stdout",
       "text": [
        "\n"
       ]
      },
      {
       "output_type": "stream",
       "stream": "stdout",
       "text": [
        "Step 28300 (epoch 9.06), 151.8 ms\n",
        "Minibatch loss: 0.481, learning rate: 0.006302\n",
        "Minibatch accuracy: 96.9%\n",
        "Validation accuracy: 92.6%"
       ]
      },
      {
       "output_type": "stream",
       "stream": "stdout",
       "text": [
        "\n"
       ]
      },
      {
       "output_type": "stream",
       "stream": "stdout",
       "text": [
        "Step 28400 (epoch 9.09), 150.4 ms\n",
        "Minibatch loss: 0.487, learning rate: 0.006302\n",
        "Minibatch accuracy: 96.9%\n",
        "Validation accuracy: 92.7%"
       ]
      },
      {
       "output_type": "stream",
       "stream": "stdout",
       "text": [
        "\n"
       ]
      },
      {
       "output_type": "stream",
       "stream": "stdout",
       "text": [
        "Step 28500 (epoch 9.12), 150.4 ms\n",
        "Minibatch loss: 0.712, learning rate: 0.006302\n",
        "Minibatch accuracy: 85.9%\n",
        "Validation accuracy: 92.7%"
       ]
      },
      {
       "output_type": "stream",
       "stream": "stdout",
       "text": [
        "\n"
       ]
      },
      {
       "output_type": "stream",
       "stream": "stdout",
       "text": [
        "Step 28600 (epoch 9.15), 150.7 ms\n",
        "Minibatch loss: 0.584, learning rate: 0.006302\n",
        "Minibatch accuracy: 95.3%\n",
        "Validation accuracy: 92.6%"
       ]
      },
      {
       "output_type": "stream",
       "stream": "stdout",
       "text": [
        "\n"
       ]
      },
      {
       "output_type": "stream",
       "stream": "stdout",
       "text": [
        "Step 28700 (epoch 9.18), 151.3 ms\n",
        "Minibatch loss: 0.544, learning rate: 0.006302\n",
        "Minibatch accuracy: 93.8%\n",
        "Validation accuracy: 92.5%"
       ]
      },
      {
       "output_type": "stream",
       "stream": "stdout",
       "text": [
        "\n"
       ]
      },
      {
       "output_type": "stream",
       "stream": "stdout",
       "text": [
        "Step 28800 (epoch 9.22), 149.7 ms\n",
        "Minibatch loss: 0.471, learning rate: 0.006302\n",
        "Minibatch accuracy: 92.2%\n",
        "Validation accuracy: 92.5%"
       ]
      },
      {
       "output_type": "stream",
       "stream": "stdout",
       "text": [
        "\n"
       ]
      },
      {
       "output_type": "stream",
       "stream": "stdout",
       "text": [
        "Step 28900 (epoch 9.25), 149.7 ms\n",
        "Minibatch loss: 0.653, learning rate: 0.006302\n",
        "Minibatch accuracy: 90.6%\n",
        "Validation accuracy: 92.5%"
       ]
      },
      {
       "output_type": "stream",
       "stream": "stdout",
       "text": [
        "\n"
       ]
      },
      {
       "output_type": "stream",
       "stream": "stdout",
       "text": [
        "Step 29000 (epoch 9.28), 151.0 ms\n",
        "Minibatch loss: 0.563, learning rate: 0.006302\n",
        "Minibatch accuracy: 92.2%\n",
        "Validation accuracy: 92.6%"
       ]
      },
      {
       "output_type": "stream",
       "stream": "stdout",
       "text": [
        "\n"
       ]
      },
      {
       "output_type": "stream",
       "stream": "stdout",
       "text": [
        "Step 29100 (epoch 9.31), 151.0 ms\n",
        "Minibatch loss: 0.557, learning rate: 0.006302\n",
        "Minibatch accuracy: 87.5%\n",
        "Validation accuracy: 92.5%"
       ]
      },
      {
       "output_type": "stream",
       "stream": "stdout",
       "text": [
        "\n"
       ]
      },
      {
       "output_type": "stream",
       "stream": "stdout",
       "text": [
        "Step 29200 (epoch 9.34), 150.2 ms\n",
        "Minibatch loss: 0.550, learning rate: 0.006302\n",
        "Minibatch accuracy: 95.3%\n",
        "Validation accuracy: 92.4%"
       ]
      },
      {
       "output_type": "stream",
       "stream": "stdout",
       "text": [
        "\n"
       ]
      },
      {
       "output_type": "stream",
       "stream": "stdout",
       "text": [
        "Step 29300 (epoch 9.38), 149.5 ms\n",
        "Minibatch loss: 0.491, learning rate: 0.006302\n",
        "Minibatch accuracy: 93.8%\n",
        "Validation accuracy: 92.6%"
       ]
      },
      {
       "output_type": "stream",
       "stream": "stdout",
       "text": [
        "\n"
       ]
      },
      {
       "output_type": "stream",
       "stream": "stdout",
       "text": [
        "Step 29400 (epoch 9.41), 150.1 ms\n",
        "Minibatch loss: 0.550, learning rate: 0.006302\n",
        "Minibatch accuracy: 93.8%\n",
        "Validation accuracy: 92.6%"
       ]
      },
      {
       "output_type": "stream",
       "stream": "stdout",
       "text": [
        "\n"
       ]
      },
      {
       "output_type": "stream",
       "stream": "stdout",
       "text": [
        "Step 29500 (epoch 9.44), 150.9 ms\n",
        "Minibatch loss: 0.640, learning rate: 0.006302\n",
        "Minibatch accuracy: 93.8%\n",
        "Validation accuracy: 92.7%"
       ]
      },
      {
       "output_type": "stream",
       "stream": "stdout",
       "text": [
        "\n"
       ]
      },
      {
       "output_type": "stream",
       "stream": "stdout",
       "text": [
        "Step 29600 (epoch 9.47), 150.0 ms\n",
        "Minibatch loss: 0.396, learning rate: 0.006302\n",
        "Minibatch accuracy: 96.9%\n",
        "Validation accuracy: 92.6%"
       ]
      },
      {
       "output_type": "stream",
       "stream": "stdout",
       "text": [
        "\n"
       ]
      },
      {
       "output_type": "stream",
       "stream": "stdout",
       "text": [
        "Step 29700 (epoch 9.50), 149.3 ms\n",
        "Minibatch loss: 0.590, learning rate: 0.006302\n",
        "Minibatch accuracy: 93.8%\n",
        "Validation accuracy: 92.6%"
       ]
      },
      {
       "output_type": "stream",
       "stream": "stdout",
       "text": [
        "\n"
       ]
      },
      {
       "output_type": "stream",
       "stream": "stdout",
       "text": [
        "Step 29800 (epoch 9.54), 149.2 ms\n",
        "Minibatch loss: 0.411, learning rate: 0.006302\n",
        "Minibatch accuracy: 98.4%\n",
        "Validation accuracy: 92.8%"
       ]
      },
      {
       "output_type": "stream",
       "stream": "stdout",
       "text": [
        "\n"
       ]
      },
      {
       "output_type": "stream",
       "stream": "stdout",
       "text": [
        "Step 29900 (epoch 9.57), 151.2 ms\n",
        "Minibatch loss: 0.530, learning rate: 0.006302\n",
        "Minibatch accuracy: 95.3%\n",
        "Validation accuracy: 92.7%"
       ]
      },
      {
       "output_type": "stream",
       "stream": "stdout",
       "text": [
        "\n"
       ]
      },
      {
       "output_type": "stream",
       "stream": "stdout",
       "text": [
        "Step 30000 (epoch 9.60), 149.9 ms\n",
        "Minibatch loss: 0.603, learning rate: 0.006302\n",
        "Minibatch accuracy: 92.2%\n",
        "Validation accuracy: 92.7%"
       ]
      },
      {
       "output_type": "stream",
       "stream": "stdout",
       "text": [
        "\n"
       ]
      },
      {
       "output_type": "stream",
       "stream": "stdout",
       "text": [
        "Step 30100 (epoch 9.63), 149.1 ms\n",
        "Minibatch loss: 0.698, learning rate: 0.006302\n",
        "Minibatch accuracy: 85.9%\n",
        "Validation accuracy: 92.8%"
       ]
      },
      {
       "output_type": "stream",
       "stream": "stdout",
       "text": [
        "\n"
       ]
      },
      {
       "output_type": "stream",
       "stream": "stdout",
       "text": [
        "Step 30200 (epoch 9.66), 149.4 ms\n",
        "Minibatch loss: 0.540, learning rate: 0.006302\n",
        "Minibatch accuracy: 93.8%\n",
        "Validation accuracy: 92.7%"
       ]
      },
      {
       "output_type": "stream",
       "stream": "stdout",
       "text": [
        "\n"
       ]
      },
      {
       "output_type": "stream",
       "stream": "stdout",
       "text": [
        "Step 30300 (epoch 9.70), 150.3 ms\n",
        "Minibatch loss: 0.494, learning rate: 0.006302\n",
        "Minibatch accuracy: 93.8%\n",
        "Validation accuracy: 92.6%"
       ]
      },
      {
       "output_type": "stream",
       "stream": "stdout",
       "text": [
        "\n"
       ]
      },
      {
       "output_type": "stream",
       "stream": "stdout",
       "text": [
        "Step 30400 (epoch 9.73), 150.0 ms\n",
        "Minibatch loss: 0.640, learning rate: 0.006302\n",
        "Minibatch accuracy: 87.5%\n",
        "Validation accuracy: 92.8%"
       ]
      },
      {
       "output_type": "stream",
       "stream": "stdout",
       "text": [
        "\n"
       ]
      },
      {
       "output_type": "stream",
       "stream": "stdout",
       "text": [
        "Step 30500 (epoch 9.76), 149.6 ms\n",
        "Minibatch loss: 0.406, learning rate: 0.006302\n",
        "Minibatch accuracy: 96.9%\n",
        "Validation accuracy: 92.8%"
       ]
      },
      {
       "output_type": "stream",
       "stream": "stdout",
       "text": [
        "\n"
       ]
      },
      {
       "output_type": "stream",
       "stream": "stdout",
       "text": [
        "Step 30600 (epoch 9.79), 150.8 ms\n",
        "Minibatch loss: 0.472, learning rate: 0.006302\n",
        "Minibatch accuracy: 95.3%\n",
        "Validation accuracy: 92.5%"
       ]
      },
      {
       "output_type": "stream",
       "stream": "stdout",
       "text": [
        "\n"
       ]
      },
      {
       "output_type": "stream",
       "stream": "stdout",
       "text": [
        "Step 30700 (epoch 9.82), 151.5 ms\n",
        "Minibatch loss: 0.640, learning rate: 0.006302\n",
        "Minibatch accuracy: 90.6%\n",
        "Validation accuracy: 92.7%"
       ]
      },
      {
       "output_type": "stream",
       "stream": "stdout",
       "text": [
        "\n"
       ]
      },
      {
       "output_type": "stream",
       "stream": "stdout",
       "text": [
        "Step 30800 (epoch 9.86), 150.8 ms\n",
        "Minibatch loss: 0.532, learning rate: 0.006302\n",
        "Minibatch accuracy: 93.8%\n",
        "Validation accuracy: 92.5%"
       ]
      },
      {
       "output_type": "stream",
       "stream": "stdout",
       "text": [
        "\n"
       ]
      },
      {
       "output_type": "stream",
       "stream": "stdout",
       "text": [
        "Step 30900 (epoch 9.89), 150.1 ms\n",
        "Minibatch loss: 0.366, learning rate: 0.006302\n",
        "Minibatch accuracy: 98.4%\n",
        "Validation accuracy: 92.8%"
       ]
      },
      {
       "output_type": "stream",
       "stream": "stdout",
       "text": [
        "\n"
       ]
      },
      {
       "output_type": "stream",
       "stream": "stdout",
       "text": [
        "Step 31000 (epoch 9.92), 150.4 ms\n",
        "Minibatch loss: 0.622, learning rate: 0.006302\n",
        "Minibatch accuracy: 87.5%\n",
        "Validation accuracy: 92.7%"
       ]
      },
      {
       "output_type": "stream",
       "stream": "stdout",
       "text": [
        "\n"
       ]
      },
      {
       "output_type": "stream",
       "stream": "stdout",
       "text": [
        "Step 31100 (epoch 9.95), 151.2 ms\n",
        "Minibatch loss: 0.501, learning rate: 0.006302\n",
        "Minibatch accuracy: 93.8%\n",
        "Validation accuracy: 92.7%"
       ]
      },
      {
       "output_type": "stream",
       "stream": "stdout",
       "text": [
        "\n"
       ]
      },
      {
       "output_type": "stream",
       "stream": "stdout",
       "text": [
        "Step 31200 (epoch 9.98), 151.0 ms\n",
        "Minibatch loss: 0.588, learning rate: 0.006302\n",
        "Minibatch accuracy: 89.1%\n",
        "Validation accuracy: 92.8%"
       ]
      },
      {
       "output_type": "stream",
       "stream": "stdout",
       "text": [
        "\n"
       ]
      },
      {
       "output_type": "stream",
       "stream": "stdout",
       "text": [
        "Test accuracy: 97.1%\n"
       ]
      }
     ],
     "prompt_number": 17
    }
   ],
   "metadata": {}
  }
 ]
}