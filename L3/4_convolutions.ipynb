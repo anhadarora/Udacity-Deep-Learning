{
 "metadata": {
  "colabVersion": "0.3.2",
  "colab_default_view": {},
  "colab_views": {},
  "name": "",
  "signature": "sha256:42564c4a7536506e6f7e8b6e58fc5c3adb21dec5d2bac0c1afe1cbb54e7de3cd"
 },
 "nbformat": 3,
 "nbformat_minor": 0,
 "worksheets": [
  {
   "cells": [
    {
     "cell_type": "markdown",
     "metadata": {
      "colab_type": "text",
      "id": "4embtkV0pNxM"
     },
     "source": [
      "Deep Learning\n",
      "=============\n",
      "\n",
      "Assignment 4\n",
      "------------\n",
      "\n",
      "Previously in `2_fullyconnected.ipynb` and `3_regularization.ipynb`, we trained fully connected networks to classify [notMNIST](http://yaroslavvb.blogspot.com/2011/09/notmnist-dataset.html) characters.\n",
      "\n",
      "The goal of this assignment is make the neural network convolutional."
     ]
    },
    {
     "cell_type": "code",
     "collapsed": false,
     "input": [
      "# These are all the modules we'll be using later. Make sure you can import them\n",
      "# before proceeding further.\n",
      "import cPickle as pickle\n",
      "import numpy as np\n",
      "import tensorflow as tf"
     ],
     "language": "python",
     "metadata": {
      "cellView": "both",
      "colab": {
       "autoexec": {
        "startup": false,
        "wait_interval": 0
       }
      },
      "colab_type": "code",
      "id": "tm2CQN_Cpwj0"
     },
     "outputs": [],
     "prompt_number": 2
    },
    {
     "cell_type": "code",
     "collapsed": false,
     "input": [
      "pickle_file = 'notMNIST.pickle'\n",
      "\n",
      "with open(pickle_file, 'rb') as f:\n",
      "  save = pickle.load(f)\n",
      "  train_dataset = save['train_dataset']\n",
      "  train_labels = save['train_labels']\n",
      "  valid_dataset = save['valid_dataset']\n",
      "  valid_labels = save['valid_labels']\n",
      "  test_dataset = save['test_dataset']\n",
      "  test_labels = save['test_labels']\n",
      "  del save  # hint to help gc free up memory\n",
      "  print 'Training set', train_dataset.shape, train_labels.shape\n",
      "  print 'Validation set', valid_dataset.shape, valid_labels.shape\n",
      "  print 'Test set', test_dataset.shape, test_labels.shape"
     ],
     "language": "python",
     "metadata": {
      "cellView": "both",
      "colab": {
       "autoexec": {
        "startup": false,
        "wait_interval": 0
       },
       "output_extras": [
        {
         "item_id": 1
        }
       ]
      },
      "colab_type": "code",
      "executionInfo": {
       "elapsed": 11948,
       "status": "ok",
       "timestamp": 1446658914837,
       "user": {
        "color": "",
        "displayName": "",
        "isAnonymous": false,
        "isMe": true,
        "permissionId": "",
        "photoUrl": "",
        "sessionId": "0",
        "userId": ""
       },
       "user_tz": 480
      },
      "id": "y3-cj1bpmuxc",
      "outputId": "016b1a51-0290-4b08-efdb-8c95ffc3cd01"
     },
     "outputs": [
      {
       "output_type": "stream",
       "stream": "stdout",
       "text": [
        "Training set (200000, 28, 28) (200000,)\n",
        "Validation set (10000, 28, 28) (10000,)\n",
        "Test set (18724, 28, 28) (18724,)\n"
       ]
      }
     ],
     "prompt_number": 3
    },
    {
     "cell_type": "markdown",
     "metadata": {
      "colab_type": "text",
      "id": "L7aHrm6nGDMB"
     },
     "source": [
      "Reformat into a TensorFlow-friendly shape:\n",
      "- convolutions need the image data formatted as a cube (width by height by #channels)\n",
      "- labels as float 1-hot encodings."
     ]
    },
    {
     "cell_type": "code",
     "collapsed": false,
     "input": [
      "image_size = 28\n",
      "num_labels = 10\n",
      "num_channels = 1 # grayscale\n",
      "\n",
      "import numpy as np\n",
      "\n",
      "def reformat(dataset, labels):\n",
      "  dataset = dataset.reshape(\n",
      "    (-1, image_size, image_size, num_channels)).astype(np.float32)\n",
      "  labels = (np.arange(num_labels) == labels[:,None]).astype(np.float32)\n",
      "  return dataset, labels\n",
      "train_dataset, train_labels = reformat(train_dataset, train_labels)\n",
      "valid_dataset, valid_labels = reformat(valid_dataset, valid_labels)\n",
      "test_dataset, test_labels = reformat(test_dataset, test_labels)\n",
      "print 'Training set', train_dataset.shape, train_labels.shape\n",
      "print 'Validation set', valid_dataset.shape, valid_labels.shape\n",
      "print 'Test set', test_dataset.shape, test_labels.shape"
     ],
     "language": "python",
     "metadata": {
      "cellView": "both",
      "colab": {
       "autoexec": {
        "startup": false,
        "wait_interval": 0
       },
       "output_extras": [
        {
         "item_id": 1
        }
       ]
      },
      "colab_type": "code",
      "executionInfo": {
       "elapsed": 11952,
       "status": "ok",
       "timestamp": 1446658914857,
       "user": {
        "color": "",
        "displayName": "",
        "isAnonymous": false,
        "isMe": true,
        "permissionId": "",
        "photoUrl": "",
        "sessionId": "0",
        "userId": ""
       },
       "user_tz": 480
      },
      "id": "IRSyYiIIGIzS",
      "outputId": "650a208c-8359-4852-f4f5-8bf10e80ef6c"
     },
     "outputs": [
      {
       "output_type": "stream",
       "stream": "stdout",
       "text": [
        "Training set (200000, 28, 28, 1) (200000, 10)\n",
        "Validation set (10000, 28, 28, 1) (10000, 10)\n",
        "Test set (18724, 28, 28, 1) (18724, 10)\n"
       ]
      }
     ],
     "prompt_number": 4
    },
    {
     "cell_type": "code",
     "collapsed": false,
     "input": [
      "def accuracy(predictions, labels):\n",
      "  return (100.0 * np.sum(np.argmax(predictions, 1) == np.argmax(labels, 1))\n",
      "          / predictions.shape[0])"
     ],
     "language": "python",
     "metadata": {
      "cellView": "both",
      "colab": {
       "autoexec": {
        "startup": false,
        "wait_interval": 0
       }
      },
      "colab_type": "code",
      "id": "AgQDIREv02p1"
     },
     "outputs": [],
     "prompt_number": 5
    },
    {
     "cell_type": "markdown",
     "metadata": {
      "colab_type": "text",
      "id": "5rhgjmROXu2O"
     },
     "source": [
      "Let's build a small network with two convolutional layers, followed by one fully connected layer. Convolutional networks are more expensive computationally, so we'll limit its depth and number of fully connected nodes."
     ]
    },
    {
     "cell_type": "code",
     "collapsed": false,
     "input": [
      "batch_size = 16\n",
      "patch_size = 5\n",
      "depth = 16\n",
      "num_hidden = 64\n",
      "\n",
      "graph = tf.Graph()\n",
      "\n",
      "with graph.as_default():\n",
      "\n",
      "  # Input data.\n",
      "  tf_train_dataset = tf.placeholder(\n",
      "    tf.float32, shape=(batch_size, image_size, image_size, num_channels))\n",
      "  tf_train_labels = tf.placeholder(tf.float32, shape=(batch_size, num_labels))\n",
      "  tf_valid_dataset = tf.constant(valid_dataset)\n",
      "  tf_test_dataset = tf.constant(test_dataset)\n",
      "  \n",
      "  # Variables.\n",
      "  layer1_weights = tf.Variable(tf.truncated_normal(\n",
      "      [patch_size, patch_size, num_channels, depth], stddev=0.1))\n",
      "  layer1_biases = tf.Variable(tf.zeros([depth]))\n",
      "  layer2_weights = tf.Variable(tf.truncated_normal(\n",
      "      [patch_size, patch_size, depth, depth], stddev=0.1))\n",
      "  layer2_biases = tf.Variable(tf.constant(1.0, shape=[depth]))\n",
      "  layer3_weights = tf.Variable(tf.truncated_normal(\n",
      "      [image_size / 4 * image_size / 4 * depth, num_hidden], stddev=0.1))\n",
      "  layer3_biases = tf.Variable(tf.constant(1.0, shape=[num_hidden]))\n",
      "  layer4_weights = tf.Variable(tf.truncated_normal(\n",
      "      [num_hidden, num_labels], stddev=0.1))\n",
      "  layer4_biases = tf.Variable(tf.constant(1.0, shape=[num_labels]))\n",
      "  \n",
      "  # Model.\n",
      "  def model(data):\n",
      "    conv = tf.nn.conv2d(data, layer1_weights, [1, 2, 2, 1], padding='SAME')\n",
      "    hidden = tf.nn.relu(conv + layer1_biases)\n",
      "    conv = tf.nn.conv2d(hidden, layer2_weights, [1, 2, 2, 1], padding='SAME')\n",
      "    hidden = tf.nn.relu(conv + layer2_biases)\n",
      "    shape = hidden.get_shape().as_list()\n",
      "    reshape = tf.reshape(hidden, [shape[0], shape[1] * shape[2] * shape[3]])\n",
      "    hidden = tf.nn.relu(tf.matmul(reshape, layer3_weights) + layer3_biases)\n",
      "    return tf.matmul(hidden, layer4_weights) + layer4_biases\n",
      "  \n",
      "  # Training computation.\n",
      "  logits = model(tf_train_dataset)\n",
      "  loss = tf.reduce_mean(\n",
      "    tf.nn.softmax_cross_entropy_with_logits(logits, tf_train_labels))\n",
      "    \n",
      "  # Optimizer.\n",
      "  optimizer = tf.train.GradientDescentOptimizer(0.05).minimize(loss)\n",
      "  \n",
      "  # Predictions for the training, validation, and test data.\n",
      "  train_prediction = tf.nn.softmax(logits)\n",
      "  valid_prediction = tf.nn.softmax(model(tf_valid_dataset))\n",
      "  test_prediction = tf.nn.softmax(model(tf_test_dataset))"
     ],
     "language": "python",
     "metadata": {
      "cellView": "both",
      "colab": {
       "autoexec": {
        "startup": false,
        "wait_interval": 0
       }
      },
      "colab_type": "code",
      "id": "IZYv70SvvOan"
     },
     "outputs": [],
     "prompt_number": 6
    },
    {
     "cell_type": "code",
     "collapsed": false,
     "input": [
      "num_steps = 1001\n",
      "\n",
      "with tf.Session(graph=graph) as session:\n",
      "  tf.initialize_all_variables().run()\n",
      "  print \"Initialized\"\n",
      "  for step in xrange(num_steps):\n",
      "    offset = (step * batch_size) % (train_labels.shape[0] - batch_size)\n",
      "    batch_data = train_dataset[offset:(offset + batch_size), :, :, :]\n",
      "    batch_labels = train_labels[offset:(offset + batch_size), :]\n",
      "    feed_dict = {tf_train_dataset : batch_data, tf_train_labels : batch_labels}\n",
      "    _, l, predictions = session.run(\n",
      "      [optimizer, loss, train_prediction], feed_dict=feed_dict)\n",
      "    if (step % 50 == 0):\n",
      "      print \"Minibatch loss at step\", step, \":\", l\n",
      "      print \"Minibatch accuracy: %.1f%%\" % accuracy(predictions, batch_labels)\n",
      "      print \"Validation accuracy: %.1f%%\" % accuracy(\n",
      "        valid_prediction.eval(), valid_labels)\n",
      "  print \"Test accuracy: %.1f%%\" % accuracy(test_prediction.eval(), test_labels)"
     ],
     "language": "python",
     "metadata": {
      "cellView": "both",
      "colab": {
       "autoexec": {
        "startup": false,
        "wait_interval": 0
       },
       "output_extras": [
        {
         "item_id": 37
        }
       ]
      },
      "colab_type": "code",
      "executionInfo": {
       "elapsed": 63292,
       "status": "ok",
       "timestamp": 1446658966251,
       "user": {
        "color": "",
        "displayName": "",
        "isAnonymous": false,
        "isMe": true,
        "permissionId": "",
        "photoUrl": "",
        "sessionId": "0",
        "userId": ""
       },
       "user_tz": 480
      },
      "id": "noKFb2UovVFR",
      "outputId": "28941338-2ef9-4088-8bd1-44295661e628"
     },
     "outputs": [
      {
       "output_type": "stream",
       "stream": "stdout",
       "text": [
        "Initialized\n",
        "Minibatch loss at step 0 : 3.93939\n",
        "Minibatch accuracy: 18.8%\n",
        "Validation accuracy: 10.4%"
       ]
      },
      {
       "output_type": "stream",
       "stream": "stdout",
       "text": [
        "\n",
        "Minibatch loss at step"
       ]
      },
      {
       "output_type": "stream",
       "stream": "stdout",
       "text": [
        " 50 : 2.30144\n",
        "Minibatch accuracy: 12.5%\n",
        "Validation accuracy: 22.5%"
       ]
      },
      {
       "output_type": "stream",
       "stream": "stdout",
       "text": [
        "\n",
        "Minibatch loss at step"
       ]
      },
      {
       "output_type": "stream",
       "stream": "stdout",
       "text": [
        " 100 : 1.42659\n",
        "Minibatch accuracy: 56.2%\n",
        "Validation accuracy: 69.4%"
       ]
      },
      {
       "output_type": "stream",
       "stream": "stdout",
       "text": [
        "\n",
        "Minibatch loss at step"
       ]
      },
      {
       "output_type": "stream",
       "stream": "stdout",
       "text": [
        " 150 : 0.91408\n",
        "Minibatch accuracy: 62.5%\n",
        "Validation accuracy: 72.2%"
       ]
      },
      {
       "output_type": "stream",
       "stream": "stdout",
       "text": [
        "\n",
        "Minibatch loss at step"
       ]
      },
      {
       "output_type": "stream",
       "stream": "stdout",
       "text": [
        " 200 : 0.68423\n",
        "Minibatch accuracy: 81.2%\n",
        "Validation accuracy: 75.3%"
       ]
      },
      {
       "output_type": "stream",
       "stream": "stdout",
       "text": [
        "\n",
        "Minibatch loss at step"
       ]
      },
      {
       "output_type": "stream",
       "stream": "stdout",
       "text": [
        " 250 : 0.370337\n",
        "Minibatch accuracy: 87.5%\n",
        "Validation accuracy: 77.0%"
       ]
      },
      {
       "output_type": "stream",
       "stream": "stdout",
       "text": [
        "\n",
        "Minibatch loss at step"
       ]
      },
      {
       "output_type": "stream",
       "stream": "stdout",
       "text": [
        " 300 : 0.675519\n",
        "Minibatch accuracy: 81.2%\n",
        "Validation accuracy: 79.7%"
       ]
      },
      {
       "output_type": "stream",
       "stream": "stdout",
       "text": [
        "\n",
        "Minibatch loss at step"
       ]
      },
      {
       "output_type": "stream",
       "stream": "stdout",
       "text": [
        " 350 : 0.857767\n",
        "Minibatch accuracy: 75.0%\n",
        "Validation accuracy: 80.5%"
       ]
      },
      {
       "output_type": "stream",
       "stream": "stdout",
       "text": [
        "\n",
        "Minibatch loss at step"
       ]
      },
      {
       "output_type": "stream",
       "stream": "stdout",
       "text": [
        " 400 : 0.89443\n",
        "Minibatch accuracy: 68.8%\n",
        "Validation accuracy: 80.5%"
       ]
      },
      {
       "output_type": "stream",
       "stream": "stdout",
       "text": [
        "\n",
        "Minibatch loss at step"
       ]
      },
      {
       "output_type": "stream",
       "stream": "stdout",
       "text": [
        " 450 : 0.409093\n",
        "Minibatch accuracy: 87.5%\n",
        "Validation accuracy: 78.5%"
       ]
      },
      {
       "output_type": "stream",
       "stream": "stdout",
       "text": [
        "\n",
        "Minibatch loss at step"
       ]
      },
      {
       "output_type": "stream",
       "stream": "stdout",
       "text": [
        " 500 : 0.938882\n",
        "Minibatch accuracy: 75.0%\n",
        "Validation accuracy: 81.7%"
       ]
      },
      {
       "output_type": "stream",
       "stream": "stdout",
       "text": [
        "\n",
        "Minibatch loss at step"
       ]
      },
      {
       "output_type": "stream",
       "stream": "stdout",
       "text": [
        " 550 : 0.44668\n",
        "Minibatch accuracy: 93.8%\n",
        "Validation accuracy: 81.4%"
       ]
      },
      {
       "output_type": "stream",
       "stream": "stdout",
       "text": [
        "\n",
        "Minibatch loss at step"
       ]
      },
      {
       "output_type": "stream",
       "stream": "stdout",
       "text": [
        " 600 : 0.977936\n",
        "Minibatch accuracy: 75.0%\n",
        "Validation accuracy: 81.8%"
       ]
      },
      {
       "output_type": "stream",
       "stream": "stdout",
       "text": [
        "\n",
        "Minibatch loss at step"
       ]
      },
      {
       "output_type": "stream",
       "stream": "stdout",
       "text": [
        " 650 : 0.775719\n",
        "Minibatch accuracy: 75.0%\n",
        "Validation accuracy: 81.8%"
       ]
      },
      {
       "output_type": "stream",
       "stream": "stdout",
       "text": [
        "\n",
        "Minibatch loss at step"
       ]
      },
      {
       "output_type": "stream",
       "stream": "stdout",
       "text": [
        " 700 : 0.461968\n",
        "Minibatch accuracy: 81.2%\n",
        "Validation accuracy: 81.0%"
       ]
      },
      {
       "output_type": "stream",
       "stream": "stdout",
       "text": [
        "\n",
        "Minibatch loss at step"
       ]
      },
      {
       "output_type": "stream",
       "stream": "stdout",
       "text": [
        " 750 : 0.418613\n",
        "Minibatch accuracy: 81.2%\n",
        "Validation accuracy: 81.8%"
       ]
      },
      {
       "output_type": "stream",
       "stream": "stdout",
       "text": [
        "\n",
        "Minibatch loss at step"
       ]
      },
      {
       "output_type": "stream",
       "stream": "stdout",
       "text": [
        " 800 : 1.12373\n",
        "Minibatch accuracy: 68.8%\n",
        "Validation accuracy: 81.7%"
       ]
      },
      {
       "output_type": "stream",
       "stream": "stdout",
       "text": [
        "\n",
        "Minibatch loss at step"
       ]
      },
      {
       "output_type": "stream",
       "stream": "stdout",
       "text": [
        " 850 : 0.599119\n",
        "Minibatch accuracy: 81.2%\n",
        "Validation accuracy: 82.9%"
       ]
      },
      {
       "output_type": "stream",
       "stream": "stdout",
       "text": [
        "\n",
        "Minibatch loss at step"
       ]
      },
      {
       "output_type": "stream",
       "stream": "stdout",
       "text": [
        " 900 : 0.939222\n",
        "Minibatch accuracy: 81.2%\n",
        "Validation accuracy: 82.2%"
       ]
      },
      {
       "output_type": "stream",
       "stream": "stdout",
       "text": [
        "\n",
        "Minibatch loss at step"
       ]
      },
      {
       "output_type": "stream",
       "stream": "stdout",
       "text": [
        " 950 : 0.493319\n",
        "Minibatch accuracy: 81.2%\n",
        "Validation accuracy: 83.2%"
       ]
      },
      {
       "output_type": "stream",
       "stream": "stdout",
       "text": [
        "\n",
        "Minibatch loss at step"
       ]
      },
      {
       "output_type": "stream",
       "stream": "stdout",
       "text": [
        " 1000 : 0.657263\n",
        "Minibatch accuracy: 75.0%\n",
        "Validation accuracy: 83.3%"
       ]
      },
      {
       "output_type": "stream",
       "stream": "stdout",
       "text": [
        "\n",
        "Test accuracy: 89.7%"
       ]
      },
      {
       "output_type": "stream",
       "stream": "stdout",
       "text": [
        "\n"
       ]
      }
     ],
     "prompt_number": 7
    },
    {
     "cell_type": "markdown",
     "metadata": {
      "colab_type": "text",
      "id": "KedKkn4EutIK"
     },
     "source": [
      "---\n",
      "Problem 1\n",
      "---------\n",
      "\n",
      "The convolutional model above uses convolutions with stride 2 to reduce the dimensionality. Replace the strides a max pooling operation (`nn.max_pool()`) of stride 2 and kernel size 2.\n",
      "\n",
      "---"
     ]
    },
    {
     "cell_type": "code",
     "collapsed": false,
     "input": [
      "batch_size = 128\n",
      "patch_size = 5\n",
      "depth = 16\n",
      "num_hidden = 64\n",
      "\n",
      "graph = tf.Graph()\n",
      "\n",
      "with graph.as_default():\n",
      "\n",
      "  # Input data.\n",
      "  tf_train_dataset = tf.placeholder(\n",
      "    tf.float32, shape=(batch_size, image_size, image_size, num_channels))\n",
      "  tf_train_labels = tf.placeholder(tf.float32, shape=(batch_size, num_labels))\n",
      "  tf_valid_dataset = tf.constant(valid_dataset)\n",
      "  tf_test_dataset = tf.constant(test_dataset)\n",
      "  \n",
      "  # Variables.\n",
      "  layer1_weights = tf.Variable(tf.truncated_normal(\n",
      "      [patch_size, patch_size, num_channels, depth], stddev=0.1))\n",
      "  layer1_biases = tf.Variable(tf.zeros([depth]))\n",
      "  layer2_weights = tf.Variable(tf.truncated_normal(\n",
      "      [patch_size, patch_size, depth, depth], stddev=0.1))\n",
      "  layer2_biases = tf.Variable(tf.constant(1.0, shape=[depth]))\n",
      "  layer3_weights = tf.Variable(tf.truncated_normal(\n",
      "      [image_size / 4 * image_size / 4 * depth, num_hidden], stddev=0.1))\n",
      "  layer3_biases = tf.Variable(tf.constant(1.0, shape=[num_hidden]))\n",
      "  layer4_weights = tf.Variable(tf.truncated_normal(\n",
      "      [num_hidden, num_labels], stddev=0.1))\n",
      "  layer4_biases = tf.Variable(tf.constant(1.0, shape=[num_labels]))\n",
      "  \n",
      "  # Model.\n",
      "  def model_pool(data, train=False):\n",
      "    conv = tf.nn.conv2d(data, layer1_weights, [1, 1, 1, 1], padding='SAME')\n",
      "    hidden = tf.nn.relu(conv + layer1_biases)\n",
      "    pool = tf.nn.max_pool(hidden, [1, 2, 2, 1], [1, 2, 2, 1], padding='SAME')\n",
      "    \n",
      "    conv = tf.nn.conv2d(pool, layer2_weights, [1, 1, 1, 1], padding='SAME')\n",
      "    hidden = tf.nn.relu(conv + layer2_biases)\n",
      "    pool = tf.nn.max_pool(hidden, [1, 2, 2, 1], [1, 2, 2, 1], padding='SAME')\n",
      "    \n",
      "    shape = pool.get_shape().as_list()\n",
      "    reshape = tf.reshape(pool, [shape[0], shape[1] * shape[2] * shape[3]])\n",
      "    hidden = tf.nn.relu(tf.matmul(reshape, layer3_weights) + layer3_biases)\n",
      "    \n",
      "    if train:\n",
      "      hidden = tf.nn.dropout(hidden, 0.5)\n",
      "\n",
      "    return tf.matmul(hidden, layer4_weights) + layer4_biases\n",
      "  \n",
      "  # Training computation.\n",
      "  logits = model_pool(tf_train_dataset, True)\n",
      "  loss = tf.reduce_mean(\n",
      "    tf.nn.softmax_cross_entropy_with_logits(logits, tf_train_labels))\n",
      "   \n",
      "  # adding regularizers\n",
      "  regularizers = (tf.nn.l2_loss(layer1_weights) + tf.nn.l2_loss(layer1_biases) +\n",
      "                  tf.nn.l2_loss(layer2_weights) + tf.nn.l2_loss(layer2_biases) +\n",
      "                  tf.nn.l2_loss(layer3_weights) + tf.nn.l2_loss(layer3_biases) +\n",
      "                  tf.nn.l2_loss(layer4_weights) + tf.nn.l2_loss(layer4_biases)\n",
      "                 )\n",
      "  # Add the regularization term to the loss.\n",
      "  loss += 3e-4 * regularizers\n",
      "  \n",
      "  # Optimizer: set up a variable that's incremented once per batch and\n",
      "  # controls the learning rate decay.\n",
      "  batch = tf.Variable(0)\n",
      "  # Decay once per epoch, using an exponential schedule starting at 0.01.\n",
      "  learning_rate = tf.train.exponential_decay(\n",
      "      0.01,                # Base learning rate.\n",
      "      batch * batch_size,  # Current index into the dataset.\n",
      "      train_labels.shape[0],          # Decay step.\n",
      "      0.95,                # Decay rate.\n",
      "      staircase=True)\n",
      "  # Use simple momentum for the optimization.\n",
      "  optimizer = tf.train.MomentumOptimizer(learning_rate,\n",
      "                                         0.9).minimize(loss,\n",
      "                                                       global_step=batch)\n",
      "   \n",
      "  # Predictions for the training, validation, and test data.\n",
      "  train_prediction = tf.nn.softmax(logits)\n",
      "  valid_prediction = tf.nn.softmax(model_pool(tf_valid_dataset))\n",
      "  test_prediction = tf.nn.softmax(model_pool(tf_test_dataset))\n",
      "\n",
      "\n",
      "# In[ ]:\n",
      "\n",
      "num_steps = 3001\n",
      "\n",
      "with tf.Session(graph=graph) as session:\n",
      "  tf.initialize_all_variables().run()\n",
      "  print \"Initialized\"\n",
      "  for step in xrange(num_steps):\n",
      "    offset = (step * batch_size) % (train_labels.shape[0] - batch_size)\n",
      "    batch_data = train_dataset[offset:(offset + batch_size), :, :, :]\n",
      "    batch_labels = train_labels[offset:(offset + batch_size), :]\n",
      "    feed_dict = {tf_train_dataset : batch_data, tf_train_labels : batch_labels}\n",
      "    _, l, predictions = session.run(\n",
      "      [optimizer, loss, train_prediction], feed_dict=feed_dict)\n",
      "    if (step % 50 == 0):\n",
      "      print \"Minibatch loss at step\", step, \":\", l\n",
      "      print \"Minibatch accuracy: %.1f%%\" % accuracy(predictions, batch_labels)\n",
      "      print \"Validation accuracy: %.1f%%\" % accuracy(\n",
      "        valid_prediction.eval(), valid_labels)\n",
      "  print \"Test accuracy: %.1f%%\" % accuracy(test_prediction.eval(), test_labels)\n"
     ],
     "language": "python",
     "metadata": {},
     "outputs": [
      {
       "output_type": "stream",
       "stream": "stdout",
       "text": [
        "Initialized\n",
        "Minibatch loss at step"
       ]
      },
      {
       "output_type": "stream",
       "stream": "stdout",
       "text": [
        " 0 : 4.49921\n",
        "Minibatch accuracy: 12.5%\n",
        "Validation accuracy: 10.1%"
       ]
      },
      {
       "output_type": "stream",
       "stream": "stdout",
       "text": [
        "\n",
        "Minibatch loss at step"
       ]
      },
      {
       "output_type": "stream",
       "stream": "stdout",
       "text": [
        " 50 : 2.18782\n",
        "Minibatch accuracy: 21.1%\n",
        "Validation accuracy: 33.0%"
       ]
      },
      {
       "output_type": "stream",
       "stream": "stdout",
       "text": [
        "\n",
        "Minibatch loss at step"
       ]
      },
      {
       "output_type": "stream",
       "stream": "stdout",
       "text": [
        " 100 : 1.7658\n",
        "Minibatch accuracy: 40.6%\n",
        "Validation accuracy: 72.0%"
       ]
      },
      {
       "output_type": "stream",
       "stream": "stdout",
       "text": [
        "\n",
        "Minibatch loss at step"
       ]
      },
      {
       "output_type": "stream",
       "stream": "stdout",
       "text": [
        " 150 : 1.41189"
       ]
      },
      {
       "output_type": "stream",
       "stream": "stdout",
       "text": [
        "\n",
        "Minibatch accuracy: 57.0%\n",
        "Validation accuracy: 75.8%"
       ]
      },
      {
       "output_type": "stream",
       "stream": "stdout",
       "text": [
        "\n",
        "Minibatch loss at step"
       ]
      },
      {
       "output_type": "stream",
       "stream": "stdout",
       "text": [
        " 200 : 1.20714\n",
        "Minibatch accuracy: 64.1%\n",
        "Validation accuracy: 79.2%"
       ]
      },
      {
       "output_type": "stream",
       "stream": "stdout",
       "text": [
        "\n",
        "Minibatch loss at step"
       ]
      },
      {
       "output_type": "stream",
       "stream": "stdout",
       "text": [
        " 250 : 1.08515\n",
        "Minibatch accuracy: 68.0%\n",
        "Validation accuracy: 80.4%"
       ]
      },
      {
       "output_type": "stream",
       "stream": "stdout",
       "text": [
        "\n",
        "Minibatch loss at step"
       ]
      },
      {
       "output_type": "stream",
       "stream": "stdout",
       "text": [
        " 300 : 1.07543\n",
        "Minibatch accuracy: 64.1%\n",
        "Validation accuracy: 81.1%"
       ]
      },
      {
       "output_type": "stream",
       "stream": "stdout",
       "text": [
        "\n",
        "Minibatch loss at step"
       ]
      },
      {
       "output_type": "stream",
       "stream": "stdout",
       "text": [
        " 350 : 1.1619\n",
        "Minibatch accuracy: 64.1%\n",
        "Validation accuracy: 81.1%"
       ]
      },
      {
       "output_type": "stream",
       "stream": "stdout",
       "text": [
        "\n",
        "Minibatch loss at step"
       ]
      },
      {
       "output_type": "stream",
       "stream": "stdout",
       "text": [
        " 400 : 0.741226\n",
        "Minibatch accuracy: 75.0%\n",
        "Validation accuracy: 82.3%"
       ]
      },
      {
       "output_type": "stream",
       "stream": "stdout",
       "text": [
        "\n",
        "Minibatch loss at step"
       ]
      },
      {
       "output_type": "stream",
       "stream": "stdout",
       "text": [
        " 450 : 0.877979\n",
        "Minibatch accuracy: 75.8%\n",
        "Validation accuracy: 82.4%"
       ]
      },
      {
       "output_type": "stream",
       "stream": "stdout",
       "text": [
        "\n",
        "Minibatch loss at step"
       ]
      },
      {
       "output_type": "stream",
       "stream": "stdout",
       "text": [
        " 500 : 0.789772\n",
        "Minibatch accuracy: 72.7%\n",
        "Validation accuracy: 83.5%"
       ]
      },
      {
       "output_type": "stream",
       "stream": "stdout",
       "text": [
        "\n",
        "Minibatch loss at step"
       ]
      },
      {
       "output_type": "stream",
       "stream": "stdout",
       "text": [
        " 550 : 0.8678\n",
        "Minibatch accuracy: 71.9%\n",
        "Validation accuracy: 83.5%"
       ]
      },
      {
       "output_type": "stream",
       "stream": "stdout",
       "text": [
        "\n",
        "Minibatch loss at step"
       ]
      },
      {
       "output_type": "stream",
       "stream": "stdout",
       "text": [
        " 600 : 1.01701\n",
        "Minibatch accuracy: 71.9%\n",
        "Validation accuracy: 83.5%"
       ]
      },
      {
       "output_type": "stream",
       "stream": "stdout",
       "text": [
        "\n",
        "Minibatch loss at step"
       ]
      },
      {
       "output_type": "stream",
       "stream": "stdout",
       "text": [
        " 650 : 0.816106\n",
        "Minibatch accuracy: 76.6%\n",
        "Validation accuracy: 84.2%"
       ]
      },
      {
       "output_type": "stream",
       "stream": "stdout",
       "text": [
        "\n",
        "Minibatch loss at step"
       ]
      },
      {
       "output_type": "stream",
       "stream": "stdout",
       "text": [
        " 700 : 0.922382\n",
        "Minibatch accuracy: 79.7%\n",
        "Validation accuracy: 84.4%"
       ]
      },
      {
       "output_type": "stream",
       "stream": "stdout",
       "text": [
        "\n",
        "Minibatch loss at step"
       ]
      },
      {
       "output_type": "stream",
       "stream": "stdout",
       "text": [
        " 750 : 0.762421\n",
        "Minibatch accuracy: 78.9%\n",
        "Validation accuracy: 84.5%"
       ]
      },
      {
       "output_type": "stream",
       "stream": "stdout",
       "text": [
        "\n",
        "Minibatch loss at step"
       ]
      },
      {
       "output_type": "stream",
       "stream": "stdout",
       "text": [
        " 800 : 0.708523\n",
        "Minibatch accuracy: 80.5%\n",
        "Validation accuracy: 84.5%"
       ]
      },
      {
       "output_type": "stream",
       "stream": "stdout",
       "text": [
        "\n",
        "Minibatch loss at step"
       ]
      },
      {
       "output_type": "stream",
       "stream": "stdout",
       "text": [
        " 850 : 0.69348\n",
        "Minibatch accuracy: 83.6%\n",
        "Validation accuracy: 85.0%"
       ]
      },
      {
       "output_type": "stream",
       "stream": "stdout",
       "text": [
        "\n",
        "Minibatch loss at step"
       ]
      },
      {
       "output_type": "stream",
       "stream": "stdout",
       "text": [
        " 900 : 0.643786\n",
        "Minibatch accuracy: 84.4%\n",
        "Validation accuracy: 85.0%"
       ]
      },
      {
       "output_type": "stream",
       "stream": "stdout",
       "text": [
        "\n",
        "Minibatch loss at step"
       ]
      },
      {
       "output_type": "stream",
       "stream": "stdout",
       "text": [
        " 950 : 0.653394\n",
        "Minibatch accuracy: 80.5%\n",
        "Validation accuracy: 85.0%"
       ]
      },
      {
       "output_type": "stream",
       "stream": "stdout",
       "text": [
        "\n",
        "Minibatch loss at step"
       ]
      },
      {
       "output_type": "stream",
       "stream": "stdout",
       "text": [
        " 1000 : 0.699663\n",
        "Minibatch accuracy: 80.5%\n",
        "Validation accuracy: 85.2%"
       ]
      },
      {
       "output_type": "stream",
       "stream": "stdout",
       "text": [
        "\n",
        "Minibatch loss at step"
       ]
      },
      {
       "output_type": "stream",
       "stream": "stdout",
       "text": [
        " 1050 : 0.632386\n",
        "Minibatch accuracy: 83.6%\n",
        "Validation accuracy: 85.7%"
       ]
      },
      {
       "output_type": "stream",
       "stream": "stdout",
       "text": [
        "\n",
        "Minibatch loss at step"
       ]
      },
      {
       "output_type": "stream",
       "stream": "stdout",
       "text": [
        " 1100 : 0.856887\n",
        "Minibatch accuracy: 77.3%\n",
        "Validation accuracy: 85.0%"
       ]
      },
      {
       "output_type": "stream",
       "stream": "stdout",
       "text": [
        "\n",
        "Minibatch loss at step"
       ]
      },
      {
       "output_type": "stream",
       "stream": "stdout",
       "text": [
        " 1150 : 0.83723\n",
        "Minibatch accuracy: 75.0%\n",
        "Validation accuracy: 85.4%"
       ]
      },
      {
       "output_type": "stream",
       "stream": "stdout",
       "text": [
        "\n",
        "Minibatch loss at step"
       ]
      },
      {
       "output_type": "stream",
       "stream": "stdout",
       "text": [
        " 1200 : 0.622556\n",
        "Minibatch accuracy: 85.9%\n",
        "Validation accuracy: 86.2%"
       ]
      },
      {
       "output_type": "stream",
       "stream": "stdout",
       "text": [
        "\n",
        "Minibatch loss at step"
       ]
      },
      {
       "output_type": "stream",
       "stream": "stdout",
       "text": [
        " 1250 : 0.613338\n",
        "Minibatch accuracy: 84.4%\n",
        "Validation accuracy: 85.8%"
       ]
      },
      {
       "output_type": "stream",
       "stream": "stdout",
       "text": [
        "\n",
        "Minibatch loss at step"
       ]
      },
      {
       "output_type": "stream",
       "stream": "stdout",
       "text": [
        " 1300 : 0.593959\n",
        "Minibatch accuracy: 84.4%\n",
        "Validation accuracy: 85.7%"
       ]
      },
      {
       "output_type": "stream",
       "stream": "stdout",
       "text": [
        "\n",
        "Minibatch loss at step"
       ]
      },
      {
       "output_type": "stream",
       "stream": "stdout",
       "text": [
        " 1350 : 0.734462\n",
        "Minibatch accuracy: 79.7%\n",
        "Validation accuracy: 86.3%"
       ]
      },
      {
       "output_type": "stream",
       "stream": "stdout",
       "text": [
        "\n",
        "Minibatch loss at step"
       ]
      },
      {
       "output_type": "stream",
       "stream": "stdout",
       "text": [
        " 1400 : 0.661278\n",
        "Minibatch accuracy: 83.6%\n",
        "Validation accuracy: 86.7%"
       ]
      },
      {
       "output_type": "stream",
       "stream": "stdout",
       "text": [
        "\n",
        "Minibatch loss at step"
       ]
      },
      {
       "output_type": "stream",
       "stream": "stdout",
       "text": [
        " 1450 : 0.687552\n",
        "Minibatch accuracy: 78.9%\n",
        "Validation accuracy: 86.4%"
       ]
      },
      {
       "output_type": "stream",
       "stream": "stdout",
       "text": [
        "\n",
        "Minibatch loss at step"
       ]
      },
      {
       "output_type": "stream",
       "stream": "stdout",
       "text": [
        " 1500 : 0.732149\n",
        "Minibatch accuracy: 77.3%\n",
        "Validation accuracy: 86.3%"
       ]
      },
      {
       "output_type": "stream",
       "stream": "stdout",
       "text": [
        "\n",
        "Minibatch loss at step"
       ]
      },
      {
       "output_type": "stream",
       "stream": "stdout",
       "text": [
        " 1550 : 0.768271\n",
        "Minibatch accuracy: 77.3%\n",
        "Validation accuracy: 86.5%"
       ]
      },
      {
       "output_type": "stream",
       "stream": "stdout",
       "text": [
        "\n",
        "Minibatch loss at step"
       ]
      },
      {
       "output_type": "stream",
       "stream": "stdout",
       "text": [
        " 1600 : 0.670731\n",
        "Minibatch accuracy: 80.5%\n",
        "Validation accuracy: 86.8%"
       ]
      },
      {
       "output_type": "stream",
       "stream": "stdout",
       "text": [
        "\n",
        "Minibatch loss at step"
       ]
      },
      {
       "output_type": "stream",
       "stream": "stdout",
       "text": [
        " 1650 : 0.608395\n",
        "Minibatch accuracy: 85.9%\n",
        "Validation accuracy: 86.3%"
       ]
      },
      {
       "output_type": "stream",
       "stream": "stdout",
       "text": [
        "\n",
        "Minibatch loss at step"
       ]
      },
      {
       "output_type": "stream",
       "stream": "stdout",
       "text": [
        " 1700 : 0.649775\n",
        "Minibatch accuracy: 83.6%\n",
        "Validation accuracy: 86.8%"
       ]
      },
      {
       "output_type": "stream",
       "stream": "stdout",
       "text": [
        "\n",
        "Minibatch loss at step"
       ]
      },
      {
       "output_type": "stream",
       "stream": "stdout",
       "text": [
        " 1750 : 0.730227"
       ]
      },
      {
       "output_type": "stream",
       "stream": "stdout",
       "text": [
        "\n",
        "Minibatch accuracy: 81.2%\n",
        "Validation accuracy: 87.1%"
       ]
      },
      {
       "output_type": "stream",
       "stream": "stdout",
       "text": [
        "\n",
        "Minibatch loss at step"
       ]
      },
      {
       "output_type": "stream",
       "stream": "stdout",
       "text": [
        " 1800 : 0.608562\n",
        "Minibatch accuracy: 84.4%\n",
        "Validation accuracy: 86.6%"
       ]
      },
      {
       "output_type": "stream",
       "stream": "stdout",
       "text": [
        "\n",
        "Minibatch loss at step"
       ]
      },
      {
       "output_type": "stream",
       "stream": "stdout",
       "text": [
        " 1850 : 0.649906\n",
        "Minibatch accuracy: 81.2%\n",
        "Validation accuracy: 87.2%"
       ]
      },
      {
       "output_type": "stream",
       "stream": "stdout",
       "text": [
        "\n",
        "Minibatch loss at step"
       ]
      },
      {
       "output_type": "stream",
       "stream": "stdout",
       "text": [
        " 1900 : 0.53537\n",
        "Minibatch accuracy: 83.6%\n",
        "Validation accuracy: 87.2%"
       ]
      },
      {
       "output_type": "stream",
       "stream": "stdout",
       "text": [
        "\n",
        "Minibatch loss at step"
       ]
      },
      {
       "output_type": "stream",
       "stream": "stdout",
       "text": [
        " 1950 : 0.623863\n",
        "Minibatch accuracy: 83.6%\n",
        "Validation accuracy: 87.1%"
       ]
      },
      {
       "output_type": "stream",
       "stream": "stdout",
       "text": [
        "\n",
        "Minibatch loss at step"
       ]
      },
      {
       "output_type": "stream",
       "stream": "stdout",
       "text": [
        " 2000 : 0.543163\n",
        "Minibatch accuracy: 85.9%\n",
        "Validation accuracy: 87.4%"
       ]
      },
      {
       "output_type": "stream",
       "stream": "stdout",
       "text": [
        "\n",
        "Minibatch loss at step"
       ]
      },
      {
       "output_type": "stream",
       "stream": "stdout",
       "text": [
        " 2050 : 0.522107\n",
        "Minibatch accuracy: 86.7%\n",
        "Validation accuracy: 87.2%"
       ]
      },
      {
       "output_type": "stream",
       "stream": "stdout",
       "text": [
        "\n",
        "Minibatch loss at step"
       ]
      },
      {
       "output_type": "stream",
       "stream": "stdout",
       "text": [
        " 2100 : 0.676032\n",
        "Minibatch accuracy: 83.6%\n",
        "Validation accuracy: 87.4%"
       ]
      },
      {
       "output_type": "stream",
       "stream": "stdout",
       "text": [
        "\n",
        "Minibatch loss at step"
       ]
      },
      {
       "output_type": "stream",
       "stream": "stdout",
       "text": [
        " 2150 : 0.456252\n",
        "Minibatch accuracy: 88.3%\n",
        "Validation accuracy: 87.1%"
       ]
      },
      {
       "output_type": "stream",
       "stream": "stdout",
       "text": [
        "\n",
        "Minibatch loss at step"
       ]
      },
      {
       "output_type": "stream",
       "stream": "stdout",
       "text": [
        " 2200 : 0.557409\n",
        "Minibatch accuracy: 85.2%\n",
        "Validation accuracy: 87.5%"
       ]
      },
      {
       "output_type": "stream",
       "stream": "stdout",
       "text": [
        "\n",
        "Minibatch loss at step"
       ]
      },
      {
       "output_type": "stream",
       "stream": "stdout",
       "text": [
        " 2250 : 0.621343\n",
        "Minibatch accuracy: 81.2%\n",
        "Validation accuracy: 87.6%"
       ]
      },
      {
       "output_type": "stream",
       "stream": "stdout",
       "text": [
        "\n",
        "Minibatch loss at step"
       ]
      },
      {
       "output_type": "stream",
       "stream": "stdout",
       "text": [
        " 2300 : 0.581067\n",
        "Minibatch accuracy: 86.7%\n",
        "Validation accuracy: 87.4%"
       ]
      },
      {
       "output_type": "stream",
       "stream": "stdout",
       "text": [
        "\n",
        "Minibatch loss at step"
       ]
      },
      {
       "output_type": "stream",
       "stream": "stdout",
       "text": [
        " 2350 : 0.488269\n",
        "Minibatch accuracy: 87.5%\n",
        "Validation accuracy: 87.3%"
       ]
      },
      {
       "output_type": "stream",
       "stream": "stdout",
       "text": [
        "\n",
        "Minibatch loss at step"
       ]
      },
      {
       "output_type": "stream",
       "stream": "stdout",
       "text": [
        " 2400 : 0.914101\n",
        "Minibatch accuracy: 76.6%\n",
        "Validation accuracy: 87.4%"
       ]
      },
      {
       "output_type": "stream",
       "stream": "stdout",
       "text": [
        "\n",
        "Minibatch loss at step"
       ]
      },
      {
       "output_type": "stream",
       "stream": "stdout",
       "text": [
        " 2450 : 0.597332\n",
        "Minibatch accuracy: 82.8%\n",
        "Validation accuracy: 87.5%"
       ]
      },
      {
       "output_type": "stream",
       "stream": "stdout",
       "text": [
        "\n",
        "Minibatch loss at step"
       ]
      },
      {
       "output_type": "stream",
       "stream": "stdout",
       "text": [
        " 2500 : 0.429589\n",
        "Minibatch accuracy: 88.3%\n",
        "Validation accuracy: 87.7%"
       ]
      },
      {
       "output_type": "stream",
       "stream": "stdout",
       "text": [
        "\n",
        "Minibatch loss at step"
       ]
      },
      {
       "output_type": "stream",
       "stream": "stdout",
       "text": [
        " 2550 : 0.709572\n",
        "Minibatch accuracy: 80.5%\n",
        "Validation accuracy: 87.6%"
       ]
      },
      {
       "output_type": "stream",
       "stream": "stdout",
       "text": [
        "\n",
        "Minibatch loss at step"
       ]
      },
      {
       "output_type": "stream",
       "stream": "stdout",
       "text": [
        " 2600 : 0.562936\n",
        "Minibatch accuracy: 85.9%\n",
        "Validation accuracy: 87.7%"
       ]
      },
      {
       "output_type": "stream",
       "stream": "stdout",
       "text": [
        "\n",
        "Minibatch loss at step"
       ]
      },
      {
       "output_type": "stream",
       "stream": "stdout",
       "text": [
        " 2650 : 0.656472\n",
        "Minibatch accuracy: 85.2%\n",
        "Validation accuracy: 87.9%"
       ]
      },
      {
       "output_type": "stream",
       "stream": "stdout",
       "text": [
        "\n",
        "Minibatch loss at step"
       ]
      },
      {
       "output_type": "stream",
       "stream": "stdout",
       "text": [
        " 2700 : 0.555825\n",
        "Minibatch accuracy: 87.5%\n",
        "Validation accuracy: 87.9%"
       ]
      },
      {
       "output_type": "stream",
       "stream": "stdout",
       "text": [
        "\n",
        "Minibatch loss at step"
       ]
      },
      {
       "output_type": "stream",
       "stream": "stdout",
       "text": [
        " 2750 : 0.637642\n",
        "Minibatch accuracy: 83.6%\n",
        "Validation accuracy: 87.8%"
       ]
      },
      {
       "output_type": "stream",
       "stream": "stdout",
       "text": [
        "\n",
        "Minibatch loss at step"
       ]
      },
      {
       "output_type": "stream",
       "stream": "stdout",
       "text": [
        " 2800 : 0.465484\n",
        "Minibatch accuracy: 87.5%\n",
        "Validation accuracy: 87.6%"
       ]
      },
      {
       "output_type": "stream",
       "stream": "stdout",
       "text": [
        "\n",
        "Minibatch loss at step"
       ]
      },
      {
       "output_type": "stream",
       "stream": "stdout",
       "text": [
        " 2850 : 0.552028\n",
        "Minibatch accuracy: 84.4%\n",
        "Validation accuracy: 87.9%"
       ]
      },
      {
       "output_type": "stream",
       "stream": "stdout",
       "text": [
        "\n",
        "Minibatch loss at step"
       ]
      },
      {
       "output_type": "stream",
       "stream": "stdout",
       "text": [
        " 2900 : 0.526806\n",
        "Minibatch accuracy: 89.1%\n",
        "Validation accuracy: 87.8%"
       ]
      },
      {
       "output_type": "stream",
       "stream": "stdout",
       "text": [
        "\n",
        "Minibatch loss at step"
       ]
      },
      {
       "output_type": "stream",
       "stream": "stdout",
       "text": [
        " 2950 : 0.467936\n",
        "Minibatch accuracy: 89.8%\n",
        "Validation accuracy: 87.9%"
       ]
      },
      {
       "output_type": "stream",
       "stream": "stdout",
       "text": [
        "\n",
        "Minibatch loss at step"
       ]
      },
      {
       "output_type": "stream",
       "stream": "stdout",
       "text": [
        " 3000 : 0.510555\n",
        "Minibatch accuracy: 87.5%\n",
        "Validation accuracy: 88.1%"
       ]
      },
      {
       "output_type": "stream",
       "stream": "stdout",
       "text": [
        "\n",
        "Test accuracy: 94.0%"
       ]
      },
      {
       "output_type": "stream",
       "stream": "stdout",
       "text": [
        "\n"
       ]
      }
     ],
     "prompt_number": 8
    },
    {
     "cell_type": "markdown",
     "metadata": {
      "colab_type": "text",
      "id": "klf21gpbAgb-"
     },
     "source": [
      "---\n",
      "Problem 2\n",
      "---------\n",
      "\n",
      "Try to get the best performance you can using a convolutional net. Look for example at the classic [LeNet5](http://yann.lecun.com/exdb/lenet/) architecture, adding Dropout, and/or adding learning rate decay.\n",
      "\n",
      "---"
     ]
    }
   ],
   "metadata": {}
  }
 ]
}