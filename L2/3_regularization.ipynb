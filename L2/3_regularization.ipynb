{
 "metadata": {
  "colabVersion": "0.3.2",
  "colab_default_view": {},
  "colab_views": {},
  "name": "",
  "signature": "sha256:00433200dbdc45d841885d8b4ae6d80131e754c21153894b0963053580703bf9"
 },
 "nbformat": 3,
 "nbformat_minor": 0,
 "worksheets": [
  {
   "cells": [
    {
     "cell_type": "markdown",
     "metadata": {
      "colab_type": "text",
      "id": "kR-4eNdK6lYS"
     },
     "source": [
      "Deep Learning\n",
      "=============\n",
      "\n",
      "Assignment 3\n",
      "------------\n",
      "\n",
      "Previously in `2_fullyconnected.ipynb`, you trained a logistic regression and a neural network model.\n",
      "\n",
      "The goal of this assignment is to explore regularization techniques."
     ]
    },
    {
     "cell_type": "code",
     "collapsed": false,
     "input": [
      "# These are all the modules we'll be using later. Make sure you can import them\n",
      "# before proceeding further.\n",
      "import cPickle as pickle\n",
      "import numpy as np\n",
      "import tensorflow as tf"
     ],
     "language": "python",
     "metadata": {
      "cellView": "both",
      "colab": {
       "autoexec": {
        "startup": false,
        "wait_interval": 0
       }
      },
      "colab_type": "code",
      "id": "JLpLa8Jt7Vu4"
     },
     "outputs": [],
     "prompt_number": 2
    },
    {
     "cell_type": "markdown",
     "metadata": {
      "colab_type": "text",
      "id": "1HrCK6e17WzV"
     },
     "source": [
      "First reload the data we generated in _notmist.ipynb_."
     ]
    },
    {
     "cell_type": "code",
     "collapsed": false,
     "input": [
      "pickle_file = 'notMNIST.pickle'\n",
      "\n",
      "with open(pickle_file, 'rb') as f:\n",
      "  save = pickle.load(f)\n",
      "  train_dataset = save['train_dataset']\n",
      "  train_labels = save['train_labels']\n",
      "  valid_dataset = save['valid_dataset']\n",
      "  valid_labels = save['valid_labels']\n",
      "  test_dataset = save['test_dataset']\n",
      "  test_labels = save['test_labels']\n",
      "  del save  # hint to help gc free up memory\n",
      "  print 'Training set', train_dataset.shape, train_labels.shape\n",
      "  print 'Validation set', valid_dataset.shape, valid_labels.shape\n",
      "  print 'Test set', test_dataset.shape, test_labels.shape"
     ],
     "language": "python",
     "metadata": {
      "cellView": "both",
      "colab": {
       "autoexec": {
        "startup": false,
        "wait_interval": 0
       },
       "output_extras": [
        {
         "item_id": 1
        }
       ]
      },
      "colab_type": "code",
      "executionInfo": {
       "elapsed": 11777,
       "status": "ok",
       "timestamp": 1449849322348,
       "user": {
        "color": "",
        "displayName": "",
        "isAnonymous": false,
        "isMe": true,
        "permissionId": "",
        "photoUrl": "",
        "sessionId": "0",
        "userId": ""
       },
       "user_tz": 480
      },
      "id": "y3-cj1bpmuxc",
      "outputId": "e03576f1-ebbe-4838-c388-f1777bcc9873"
     },
     "outputs": [
      {
       "output_type": "stream",
       "stream": "stdout",
       "text": [
        "Training set (200000, 28, 28) (200000,)\n",
        "Validation set (10000, 28, 28) (10000,)\n",
        "Test set (18724, 28, 28) (18724,)\n"
       ]
      }
     ],
     "prompt_number": 3
    },
    {
     "cell_type": "markdown",
     "metadata": {
      "colab_type": "text",
      "id": "L7aHrm6nGDMB"
     },
     "source": [
      "Reformat into a shape that's more adapted to the models we're going to train:\n",
      "- data as a flat matrix,\n",
      "- labels as float 1-hot encodings."
     ]
    },
    {
     "cell_type": "code",
     "collapsed": false,
     "input": [
      "image_size = 28\n",
      "num_labels = 10\n",
      "\n",
      "def reformat(dataset, labels):\n",
      "  dataset = dataset.reshape((-1, image_size * image_size)).astype(np.float32)\n",
      "  # Map 2 to [0.0, 1.0, 0.0 ...], 3 to [0.0, 0.0, 1.0 ...]\n",
      "  labels = (np.arange(num_labels) == labels[:,None]).astype(np.float32)\n",
      "  return dataset, labels\n",
      "train_dataset, train_labels = reformat(train_dataset, train_labels)\n",
      "valid_dataset, valid_labels = reformat(valid_dataset, valid_labels)\n",
      "test_dataset, test_labels = reformat(test_dataset, test_labels)\n",
      "print 'Training set', train_dataset.shape, train_labels.shape\n",
      "print 'Validation set', valid_dataset.shape, valid_labels.shape\n",
      "print 'Test set', test_dataset.shape, test_labels.shape"
     ],
     "language": "python",
     "metadata": {
      "cellView": "both",
      "colab": {
       "autoexec": {
        "startup": false,
        "wait_interval": 0
       },
       "output_extras": [
        {
         "item_id": 1
        }
       ]
      },
      "colab_type": "code",
      "executionInfo": {
       "elapsed": 11728,
       "status": "ok",
       "timestamp": 1449849322356,
       "user": {
        "color": "",
        "displayName": "",
        "isAnonymous": false,
        "isMe": true,
        "permissionId": "",
        "photoUrl": "",
        "sessionId": "0",
        "userId": ""
       },
       "user_tz": 480
      },
      "id": "IRSyYiIIGIzS",
      "outputId": "3f8996ee-3574-4f44-c953-5c8a04636582"
     },
     "outputs": [
      {
       "output_type": "stream",
       "stream": "stdout",
       "text": [
        "Training set (200000, 784) (200000, 10)\n",
        "Validation set (10000, 784) (10000, 10)\n",
        "Test set (18724, 784) (18724, 10)\n"
       ]
      }
     ],
     "prompt_number": 4
    },
    {
     "cell_type": "code",
     "collapsed": false,
     "input": [
      "def accuracy(predictions, labels):\n",
      "  return (100.0 * np.sum(np.argmax(predictions, 1) == np.argmax(labels, 1))\n",
      "          / predictions.shape[0])"
     ],
     "language": "python",
     "metadata": {
      "cellView": "both",
      "colab": {
       "autoexec": {
        "startup": false,
        "wait_interval": 0
       }
      },
      "colab_type": "code",
      "id": "RajPLaL_ZW6w"
     },
     "outputs": [],
     "prompt_number": 5
    },
    {
     "cell_type": "markdown",
     "metadata": {
      "colab_type": "text",
      "id": "sgLbUAQ1CW-1"
     },
     "source": [
      "---\n",
      "Problem 1\n",
      "---------\n",
      "\n",
      "Introduce and tune L2 regularization for both logistic and neural network models. Remember that L2 amounts to adding a penalty on the norm of the weights to the loss. In TensorFlow, you can compue the L2 loss for a tensor `t` using `nn.l2_loss(t)`. The right amount of regularization should improve your validation / test accuracy.\n",
      "\n",
      "---"
     ]
    },
    {
     "cell_type": "code",
     "collapsed": false,
     "input": [
      "batch_size = 128\n",
      "\n",
      "graph = tf.Graph()\n",
      "with graph.as_default():\n",
      "\n",
      "  # Input data. For the training data, we use a placeholder that will be fed\n",
      "  # at run time with a training minibatch.\n",
      "  tf_train_dataset = tf.placeholder(tf.float32, shape=(batch_size, image_size * image_size))\n",
      "  tf_train_labels = tf.placeholder(tf.float32, shape=(batch_size, num_labels))\n",
      "  tf_valid_dataset = tf.constant(valid_dataset)\n",
      "  tf_test_dataset = tf.constant(test_dataset)\n",
      "  \n",
      "  # Variables.\n",
      "  weights = tf.Variable(tf.truncated_normal([image_size * image_size, num_labels]))\n",
      "  biases = tf.Variable(tf.zeros([num_labels]))\n",
      "  \n",
      "  # Training computation.\n",
      "  logits = tf.matmul(tf_train_dataset, weights) + biases\n",
      "\n",
      "  # Define regularization\n",
      "  regularization = tf.nn.l2_loss(weights) + tf.nn.l2_loss(biases)\n",
      "  loss = tf.reduce_mean(tf.nn.softmax_cross_entropy_with_logits(logits, tf_train_labels)) + 0.001 * regularization\n",
      "  \n",
      "  # Optimizer.\n",
      "  optimizer = tf.train.GradientDescentOptimizer(0.5).minimize(loss)\n",
      "  \n",
      "  # Predictions for the training, validation, and test data.\n",
      "  train_prediction = tf.nn.softmax(logits)\n",
      "  valid_prediction = tf.nn.softmax(tf.matmul(tf_valid_dataset, weights) + biases)\n",
      "  test_prediction = tf.nn.softmax(tf.matmul(tf_test_dataset, weights) + biases)\n",
      "    \n",
      "#train\n",
      "def train(num_steps):\n",
      "  with tf.Session(graph=graph) as session:\n",
      "    tf.initialize_all_variables().run()\n",
      "    print \"Initialized\"\n",
      "    for step in xrange(num_steps):\n",
      "      # Pick an offset within the training data, which has been randomized.\n",
      "      # Note: we could use better randomization across epochs.\n",
      "      offset = (step * batch_size) % (train_labels.shape[0] - batch_size)\n",
      "      # Generate a minibatch.\n",
      "      batch_data = train_dataset[offset:(offset + batch_size), :]\n",
      "      batch_labels = train_labels[offset:(offset + batch_size), :]\n",
      "      # Prepare a dictionary telling the session where to feed the minibatch.\n",
      "      # The key of the dictionary is the placeholder node of the graph to be fed,\n",
      "      # and the value is the numpy array to feed to it.\n",
      "      feed_dict = {tf_train_dataset : batch_data, tf_train_labels : batch_labels}\n",
      "      _, l, predictions = session.run(\n",
      "        [optimizer, loss, train_prediction], feed_dict=feed_dict)\n",
      "      if (step % 500 == 0):\n",
      "        print \"Minibatch loss at step\", step, \":\", l\n",
      "        print \"Minibatch accuracy: %.1f%%\" % accuracy(predictions, batch_labels)\n",
      "        print \"Validation accuracy: %.1f%%\" % accuracy(\n",
      "          valid_prediction.eval(), valid_labels)\n",
      "    print \"Test accuracy: %.1f%%\" % accuracy(test_prediction.eval(), test_labels)\n",
      "\n",
      "train(3001)"
     ],
     "language": "python",
     "metadata": {},
     "outputs": [
      {
       "output_type": "stream",
       "stream": "stdout",
       "text": [
        "Initialized\n",
        "Minibatch loss at step 0 : 18.4076\n",
        "Minibatch accuracy: 8.6%\n",
        "Validation accuracy: 14.5%"
       ]
      },
      {
       "output_type": "stream",
       "stream": "stdout",
       "text": [
        "\n",
        "Minibatch loss at step"
       ]
      },
      {
       "output_type": "stream",
       "stream": "stdout",
       "text": [
        " 500 : 2.87687\n",
        "Minibatch accuracy: 77.3%\n",
        "Validation accuracy: 75.5%\n",
        "Minibatch loss at step"
       ]
      },
      {
       "output_type": "stream",
       "stream": "stdout",
       "text": [
        " 1000 : 1.85756\n",
        "Minibatch accuracy: 75.0%\n",
        "Validation accuracy: 78.0%\n",
        "Minibatch loss at step"
       ]
      },
      {
       "output_type": "stream",
       "stream": "stdout",
       "text": [
        " 1500 : 1.30413\n",
        "Minibatch accuracy: 75.0%\n",
        "Validation accuracy: 79.7%\n",
        "Minibatch loss at step"
       ]
      },
      {
       "output_type": "stream",
       "stream": "stdout",
       "text": [
        " 2000 : 0.973607\n",
        "Minibatch accuracy: 84.4%\n",
        "Validation accuracy: 80.8%\n",
        "Minibatch loss at step"
       ]
      },
      {
       "output_type": "stream",
       "stream": "stdout",
       "text": [
        " 2500 : 0.671759\n",
        "Minibatch accuracy: 86.7%\n",
        "Validation accuracy: 81.8%\n",
        "Minibatch loss at step"
       ]
      },
      {
       "output_type": "stream",
       "stream": "stdout",
       "text": [
        " 3000 : 0.720029\n",
        "Minibatch accuracy: 84.4%\n",
        "Validation accuracy: 82.0%\n",
        "Test accuracy: 88.9%\n"
       ]
      }
     ],
     "prompt_number": 6
    },
    {
     "cell_type": "markdown",
     "metadata": {
      "colab_type": "text",
      "id": "na8xX2yHZzNF"
     },
     "source": [
      "---\n",
      "Problem 2\n",
      "---------\n",
      "Let's demonstrate an extreme case of overfitting. Restrict your training data to just a few batches. What happens?\n",
      "\n",
      "---"
     ]
    },
    {
     "cell_type": "code",
     "collapsed": false,
     "input": [
      "train(100)"
     ],
     "language": "python",
     "metadata": {},
     "outputs": [
      {
       "output_type": "stream",
       "stream": "stdout",
       "text": [
        "Initialized\n",
        "Minibatch loss at step 0 : 24.1606\n",
        "Minibatch accuracy: 7.0%\n",
        "Validation accuracy: 9.5%\n",
        "Test accuracy: 78.6%"
       ]
      },
      {
       "output_type": "stream",
       "stream": "stdout",
       "text": [
        "\n"
       ]
      }
     ],
     "prompt_number": 7
    },
    {
     "cell_type": "markdown",
     "metadata": {
      "colab_type": "text",
      "id": "ww3SCBUdlkRc"
     },
     "source": [
      "---\n",
      "Problem 3\n",
      "---------\n",
      "Introduce Dropout on the hidden layer of the neural network. Remember: Dropout should only be introduced during training, not evaluation, otherwise your evaluation results would be stochastic as well. TensorFlow provides `nn.dropout()` for that, but you have to make sure it's only inserted during training.\n",
      "\n",
      "What happens to our extreme overfitting case?\n",
      "\n",
      "---"
     ]
    },
    {
     "cell_type": "code",
     "collapsed": false,
     "input": [
      "num_hidden = 1024\n",
      "# Create a one-hidden-layer network with dropout\n",
      "def one_layer_dropout():\n",
      "  batch_size = 128\n",
      "  graph = tf.Graph()\n",
      "  with graph.as_default():\n",
      "    # Define placeholders of data and dropout_prob\n",
      "    train_X = tf.placeholder(tf.float32, shape=(batch_size, image_size * image_size))\n",
      "    train_y = tf.placeholder(tf.float32, shape=(batch_size, num_labels))\n",
      "    valid_X = tf.constant(valid_dataset)\n",
      "    test_X = tf.constant(test_dataset)\n",
      "    dropout_p = tf.placeholder(tf.float32)\n",
      "\n",
      "    # Define weight and bias terms\n",
      "    W_in = tf.Variable(tf.truncated_normal([image_size * image_size, num_hidden]))\n",
      "    b_in = tf.Variable(tf.zeros([num_hidden]))\n",
      "\n",
      "    W_hidden = tf.Variable(tf.truncated_normal([num_hidden, num_labels]))\n",
      "    b_hidden = tf.Variable(tf.zeros([num_labels]))\n",
      "\n",
      "    # Define computation and predictions\n",
      "    # Train\n",
      "    first_layer = tf.add(tf.matmul(train_X, W_in), b_in)\n",
      "    relu_layer = tf.nn.relu(first_layer)\n",
      "    dropout_layer = tf.nn.dropout(relu_layer, dropout_p)\n",
      "    second_layer = tf.add(tf.matmul(dropout_layer, W_hidden), b_hidden)\n",
      "    loss = tf.reduce_mean(tf.nn.softmax_cross_entropy_with_logits(second_layer, train_y))\n",
      "    train_prediction = tf.nn.softmax(second_layer)\n",
      "\n",
      "    # Valid\n",
      "    v_first_layer = tf.add(tf.matmul(valid_X, W_in), b_in)\n",
      "    v_relu_layer = tf.nn.relu(v_first_layer)\n",
      "    v_second_layer = tf.add(tf.matmul(v_relu_layer, W_hidden), b_hidden)\n",
      "    valid_prediction = tf.nn.softmax(v_second_layer)\n",
      "\n",
      "    # Test\n",
      "    t_first_layer = tf.add(tf.matmul(test_X, W_in), b_in)\n",
      "    t_relu_layer = tf.nn.relu(t_first_layer)\n",
      "    t_second_layer = tf.add(tf.matmul(t_relu_layer, W_hidden), b_hidden)\n",
      "    test_prediction = tf.nn.softmax(t_second_layer)\n",
      "\n",
      "    # Optimizer.\n",
      "    optimizer = tf.train.GradientDescentOptimizer(0.01).minimize(loss)\n",
      "\n",
      "  # Let's run it:\n",
      "\n",
      "  num_steps = 3001\n",
      "\n",
      "  with tf.Session(graph=graph) as session:\n",
      "    tf.initialize_all_variables().run()\n",
      "    print \"Initialized\"\n",
      "    for step in xrange(num_steps):\n",
      "      # Pick an offset within the training data, which has been randomized.\n",
      "      # Note: we could use better randomization across epochs.\n",
      "      offset = (step * batch_size) % (train_labels.shape[0] - batch_size)\n",
      "      # Generate a minibatch.\n",
      "      batch_data = train_dataset[offset:(offset + batch_size), :]\n",
      "      batch_labels = train_labels[offset:(offset + batch_size), :]\n",
      "      # Prepare a dictionary telling the session where to feed the minibatch.\n",
      "      # The key of the dictionary is the placeholder node of the graph to be fed,\n",
      "      # and the value is the numpy array to feed to it.\n",
      "      feed_dict = {train_X : batch_data, train_y : batch_labels, dropout_p : 0.3}\n",
      "      _, l, predictions = session.run([optimizer, loss, train_prediction], feed_dict=feed_dict)\n",
      "      if (step % 500 == 0):\n",
      "        print \"Minibatch loss at step\", step, \":\", l\n",
      "        print \"Minibatch accuracy: %.1f%%\" % accuracy(predictions, batch_labels)\n",
      "        print \"Validation accuracy: %.1f%%\" % accuracy(valid_prediction.eval(), valid_labels)\n",
      "    print \"Test accuracy: %.1f%%\" % accuracy(test_prediction.eval(), test_labels)\n",
      "\n",
      "one_layer_dropout()"
     ],
     "language": "python",
     "metadata": {},
     "outputs": [
      {
       "output_type": "stream",
       "stream": "stdout",
       "text": [
        "Initialized\n",
        "Minibatch loss at step 0 : 627.448\n",
        "Minibatch accuracy: 9.4%\n",
        "Validation accuracy: 9.1%"
       ]
      },
      {
       "output_type": "stream",
       "stream": "stdout",
       "text": [
        "\n",
        "Minibatch loss at step"
       ]
      },
      {
       "output_type": "stream",
       "stream": "stdout",
       "text": [
        " 500 : 121.026\n",
        "Minibatch accuracy: 70.3%\n",
        "Validation accuracy: 80.6%"
       ]
      },
      {
       "output_type": "stream",
       "stream": "stdout",
       "text": [
        "\n",
        "Minibatch loss at step"
       ]
      },
      {
       "output_type": "stream",
       "stream": "stdout",
       "text": [
        " 1000 : 73.0603\n",
        "Minibatch accuracy: 73.4%\n",
        "Validation accuracy: 82.0%"
       ]
      },
      {
       "output_type": "stream",
       "stream": "stdout",
       "text": [
        "\n",
        "Minibatch loss at step"
       ]
      },
      {
       "output_type": "stream",
       "stream": "stdout",
       "text": [
        " 1500 : 93.4879\n",
        "Minibatch accuracy: 64.8%\n",
        "Validation accuracy: 82.8%"
       ]
      },
      {
       "output_type": "stream",
       "stream": "stdout",
       "text": [
        "\n",
        "Minibatch loss at step"
       ]
      },
      {
       "output_type": "stream",
       "stream": "stdout",
       "text": [
        " 2000 : 47.9813\n",
        "Minibatch accuracy: 73.4%\n",
        "Validation accuracy: 83.1%"
       ]
      },
      {
       "output_type": "stream",
       "stream": "stdout",
       "text": [
        "\n",
        "Minibatch loss at step"
       ]
      },
      {
       "output_type": "stream",
       "stream": "stdout",
       "text": [
        " 2500 : 27.3295\n",
        "Minibatch accuracy: 82.0%\n",
        "Validation accuracy: 83.3%"
       ]
      },
      {
       "output_type": "stream",
       "stream": "stdout",
       "text": [
        "\n",
        "Minibatch loss at step"
       ]
      },
      {
       "output_type": "stream",
       "stream": "stdout",
       "text": [
        " 3000 : 42.7323\n",
        "Minibatch accuracy: 75.0%\n",
        "Validation accuracy: 83.5%"
       ]
      },
      {
       "output_type": "stream",
       "stream": "stdout",
       "text": [
        "\n",
        "Test accuracy: 90.2%"
       ]
      },
      {
       "output_type": "stream",
       "stream": "stdout",
       "text": [
        "\n"
       ]
      }
     ],
     "prompt_number": 9
    },
    {
     "cell_type": "markdown",
     "metadata": {
      "colab_type": "text",
      "id": "-b1hTz3VWZjw"
     },
     "source": [
      "---\n",
      "Problem 4\n",
      "---------\n",
      "\n",
      "Try to get the best performance you can using a multi-layer model! The best reported test accuracy using a deep network is [97.1%](http://yaroslavvb.blogspot.com/2011/09/notmnist-dataset.html?showComment=1391023266211#c8758720086795711595).\n",
      "\n",
      "One avenue you can explore is to add multiple layers.\n",
      "\n",
      "Another one is to use learning rate decay:\n",
      "\n",
      "    global_step = tf.Variable(0)  # count the number of steps taken.\n",
      "    learning_rate = tf.train.exponential_decay(0.5, step, ...)\n",
      "    optimizer = tf.train.GradientDescentOptimizer(learning_rate).minimize(loss, global_step=global_step)\n",
      " \n",
      " ---\n"
     ]
    },
    {
     "cell_type": "code",
     "collapsed": false,
     "input": [
      "# Create a deep network with dropout\n",
      "def deep_dropout():\n",
      "  batch_size = 128\n",
      "  n_hidden_1 = 2048\n",
      "  n_hidden_2 = 2048\n",
      "\n",
      "  graph = tf.Graph()\n",
      "  with graph.as_default():\n",
      "    # Define placeholders of data and dropout_prob\n",
      "    train_X = tf.placeholder(tf.float32, shape=(batch_size, image_size * image_size))\n",
      "    train_y = tf.placeholder(tf.float32, shape=(batch_size, num_labels))\n",
      "    valid_X = tf.constant(valid_dataset)\n",
      "    test_X = tf.constant(test_dataset)\n",
      "    dropout_p1 = tf.placeholder(tf.float32)\n",
      "    dropout_p2 = tf.placeholder(tf.float32)\n",
      "\n",
      "    # Define weight and bias terms\n",
      "    W_in = tf.Variable(tf.truncated_normal([image_size * image_size, n_hidden_1], stddev=0.03))\n",
      "    b_in = tf.Variable(tf.zeros([n_hidden_1]))\n",
      "\n",
      "    W_hidden_1 = tf.Variable(tf.truncated_normal([n_hidden_1, n_hidden_2], stddev=0.03))\n",
      "    b_hidden_1 = tf.Variable(tf.zeros([n_hidden_2]))\n",
      "\n",
      "    W_out = tf.Variable(tf.truncated_normal([n_hidden_2, num_labels], stddev=0.03))\n",
      "    b_out = tf.Variable(tf.zeros([num_labels]))\n",
      "\n",
      "    # Define computation and predictions\n",
      "    # Train\n",
      "    layer1 = tf.add(tf.matmul(train_X, W_in), b_in)\n",
      "    relu1 = tf.nn.relu(layer1)\n",
      "    dropout1 = tf.nn.dropout(relu1, dropout_p1)\n",
      "    l2_loss_1 = tf.nn.l2_loss(W_in) + tf.nn.l2_loss(b_in)\n",
      "\n",
      "    layer2 = tf.add(tf.matmul(dropout1, W_hidden_1), b_hidden_1)\n",
      "    relu2 = tf.nn.relu(layer2)\n",
      "    dropout2 = tf.nn.dropout(relu2, dropout_p2)\n",
      "    l2_loss_2 = tf.nn.l2_loss(W_hidden_1) + tf.nn.l2_loss(b_hidden_1)\n",
      "\n",
      "    out = tf.add(tf.matmul(dropout2, W_out), b_out)\n",
      "    l2_loss_3 = tf.nn.l2_loss(W_out) + tf.nn.l2_loss(b_out)\n",
      "    \n",
      "    # Regularization\n",
      "    regularization = l2_loss_1 + l2_loss_2 + l2_loss_3\n",
      "    \n",
      "    # Not adding regularization for now, but you can add it to loss as\n",
      "    # loss = loss + 0.0001 * regularization\n",
      "    loss = tf.reduce_mean(tf.nn.softmax_cross_entropy_with_logits(out, train_y))\n",
      "    train_prediction = tf.nn.softmax(out)\n",
      "\n",
      "    # Valid\n",
      "    v_layer1 = tf.add(tf.matmul(valid_X, W_in), b_in)\n",
      "    v_relu1 = tf.nn.relu(v_layer1)\n",
      "\n",
      "    v_layer2 = tf.add(tf.matmul(v_relu1, W_hidden_1), b_hidden_1)\n",
      "    v_relu2 = tf.nn.relu(v_layer2)\n",
      "\n",
      "    v_out = tf.add(tf.matmul(v_relu2, W_out), b_out)\n",
      "    valid_prediction = tf.nn.softmax(v_out)\n",
      "\n",
      "    # Test\n",
      "    t_layer1 = tf.add(tf.matmul(test_X, W_in), b_in)\n",
      "    t_relu1 = tf.nn.relu(t_layer1)\n",
      "\n",
      "    t_layer2 = tf.add(tf.matmul(t_relu1, W_hidden_1), b_hidden_1)\n",
      "    t_relu2 = tf.nn.relu(t_layer2)\n",
      "\n",
      "    t_out = tf.add(tf.matmul(t_relu2, W_out), b_out)\n",
      "    test_prediction = tf.nn.softmax(t_out)\n",
      "\n",
      "    # Optimizer.\n",
      "    optimizer = tf.train.AdamOptimizer(0.0001).minimize(loss)\n",
      "\n",
      "  # Let's run it:\n",
      "\n",
      "  num_steps = 12001\n",
      "\n",
      "  with tf.Session(graph=graph) as session:\n",
      "    tf.initialize_all_variables().run()\n",
      "    print \"Initialized\"\n",
      "    for step in xrange(num_steps):\n",
      "      # Pick an offset within the training data, which has been randomized.\n",
      "      # Note: we could use better randomization across epochs.\n",
      "      offset = (step * batch_size) % (train_labels.shape[0] - batch_size)\n",
      "      # Generate a minibatch.\n",
      "      batch_data = train_dataset[offset:(offset + batch_size), :]\n",
      "      batch_labels = train_labels[offset:(offset + batch_size), :]\n",
      "      # Prepare a dictionary telling the session where to feed the minibatch.\n",
      "      # The key of the dictionary is the placeholder node of the graph to be fed,\n",
      "      # and the value is the numpy array to feed to it.\n",
      "      feed_dict = {train_X : batch_data, train_y : batch_labels,\n",
      "                   dropout_p1 : 0.75, dropout_p2: 0.9}\n",
      "      _, l, predictions = session.run([optimizer, loss, train_prediction], feed_dict=feed_dict)\n",
      "      if (step % 500 == 0):\n",
      "        print \"Minibatch loss at step\", step, \":\", l\n",
      "        print \"Minibatch accuracy: %.1f%%\" % accuracy(predictions, batch_labels)\n",
      "        print \"Validation accuracy: %.1f%%\" % accuracy(valid_prediction.eval(), valid_labels)\n",
      "    print \"Test accuracy: %.1f%%\" % accuracy(test_prediction.eval(), test_labels)\n",
      "\n",
      "deep_dropout()\n"
     ],
     "language": "python",
     "metadata": {},
     "outputs": [
      {
       "output_type": "stream",
       "stream": "stdout",
       "text": [
        "Initialized\n",
        "Minibatch loss at step"
       ]
      },
      {
       "output_type": "stream",
       "stream": "stdout",
       "text": [
        " 0 : 2.36137\n",
        "Minibatch accuracy: 5.5%\n",
        "Validation accuracy: 25.6%"
       ]
      },
      {
       "output_type": "stream",
       "stream": "stdout",
       "text": [
        "\n",
        "Minibatch loss at step"
       ]
      },
      {
       "output_type": "stream",
       "stream": "stdout",
       "text": [
        " 500 : 0.423854\n",
        "Minibatch accuracy: 84.4%\n",
        "Validation accuracy: 85.0%"
       ]
      },
      {
       "output_type": "stream",
       "stream": "stdout",
       "text": [
        "\n",
        "Minibatch loss at step"
       ]
      },
      {
       "output_type": "stream",
       "stream": "stdout",
       "text": [
        " 1000 : 0.509725\n",
        "Minibatch accuracy: 85.9%\n",
        "Validation accuracy: 86.8%"
       ]
      },
      {
       "output_type": "stream",
       "stream": "stdout",
       "text": [
        "\n",
        "Minibatch loss at step"
       ]
      },
      {
       "output_type": "stream",
       "stream": "stdout",
       "text": [
        " 1500 : 0.556317\n",
        "Minibatch accuracy: 82.8%\n",
        "Validation accuracy: 87.6%"
       ]
      },
      {
       "output_type": "stream",
       "stream": "stdout",
       "text": [
        "\n",
        "Minibatch loss at step"
       ]
      },
      {
       "output_type": "stream",
       "stream": "stdout",
       "text": [
        " 2000 : 0.382581\n",
        "Minibatch accuracy: 89.8%\n",
        "Validation accuracy: 88.4%"
       ]
      },
      {
       "output_type": "stream",
       "stream": "stdout",
       "text": [
        "\n",
        "Minibatch loss at step"
       ]
      },
      {
       "output_type": "stream",
       "stream": "stdout",
       "text": [
        " 2500 : 0.224385\n",
        "Minibatch accuracy: 95.3%\n",
        "Validation accuracy: 88.9%"
       ]
      },
      {
       "output_type": "stream",
       "stream": "stdout",
       "text": [
        "\n",
        "Minibatch loss at step"
       ]
      },
      {
       "output_type": "stream",
       "stream": "stdout",
       "text": [
        " 3000 : 0.3204\n",
        "Minibatch accuracy: 89.8%\n",
        "Validation accuracy: 88.9%"
       ]
      },
      {
       "output_type": "stream",
       "stream": "stdout",
       "text": [
        "\n",
        "Minibatch loss at step"
       ]
      },
      {
       "output_type": "stream",
       "stream": "stdout",
       "text": [
        " 3500 : 0.244888\n",
        "Minibatch accuracy: 91.4%\n",
        "Validation accuracy: 89.6%"
       ]
      },
      {
       "output_type": "stream",
       "stream": "stdout",
       "text": [
        "\n",
        "Minibatch loss at step"
       ]
      },
      {
       "output_type": "stream",
       "stream": "stdout",
       "text": [
        " 4000 : 0.325871\n",
        "Minibatch accuracy: 89.1%\n",
        "Validation accuracy: 89.5%"
       ]
      },
      {
       "output_type": "stream",
       "stream": "stdout",
       "text": [
        "\n",
        "Minibatch loss at step"
       ]
      },
      {
       "output_type": "stream",
       "stream": "stdout",
       "text": [
        " 4500 : 0.286959\n",
        "Minibatch accuracy: 86.7%\n",
        "Validation accuracy: 89.9%"
       ]
      },
      {
       "output_type": "stream",
       "stream": "stdout",
       "text": [
        "\n",
        "Minibatch loss at step"
       ]
      },
      {
       "output_type": "stream",
       "stream": "stdout",
       "text": [
        " 5000 : 0.168624\n",
        "Minibatch accuracy: 95.3%\n",
        "Validation accuracy: 89.8%"
       ]
      },
      {
       "output_type": "stream",
       "stream": "stdout",
       "text": [
        "\n",
        "Minibatch loss at step"
       ]
      },
      {
       "output_type": "stream",
       "stream": "stdout",
       "text": [
        " 5500 : 0.156165\n",
        "Minibatch accuracy: 95.3%\n",
        "Validation accuracy: 90.0%"
       ]
      },
      {
       "output_type": "stream",
       "stream": "stdout",
       "text": [
        "\n",
        "Minibatch loss at step"
       ]
      },
      {
       "output_type": "stream",
       "stream": "stdout",
       "text": [
        " 6000 : 0.212638\n",
        "Minibatch accuracy: 93.0%\n",
        "Validation accuracy: 90.1%"
       ]
      },
      {
       "output_type": "stream",
       "stream": "stdout",
       "text": [
        "\n",
        "Minibatch loss at step"
       ]
      },
      {
       "output_type": "stream",
       "stream": "stdout",
       "text": [
        " 6500 : 0.260267\n",
        "Minibatch accuracy: 90.6%\n",
        "Validation accuracy: 90.5%"
       ]
      },
      {
       "output_type": "stream",
       "stream": "stdout",
       "text": [
        "\n",
        "Minibatch loss at step"
       ]
      },
      {
       "output_type": "stream",
       "stream": "stdout",
       "text": [
        " 7000 : 0.252189\n",
        "Minibatch accuracy: 93.0%\n",
        "Validation accuracy: 90.3%"
       ]
      },
      {
       "output_type": "stream",
       "stream": "stdout",
       "text": [
        "\n",
        "Minibatch loss at step"
       ]
      },
      {
       "output_type": "stream",
       "stream": "stdout",
       "text": [
        " 7500 : 0.240172\n",
        "Minibatch accuracy: 92.2%\n",
        "Validation accuracy: 90.2%"
       ]
      },
      {
       "output_type": "stream",
       "stream": "stdout",
       "text": [
        "\n",
        "Minibatch loss at step"
       ]
      },
      {
       "output_type": "stream",
       "stream": "stdout",
       "text": [
        " 8000 : 0.0997616\n",
        "Minibatch accuracy: 97.7%\n",
        "Validation accuracy: 90.5%"
       ]
      },
      {
       "output_type": "stream",
       "stream": "stdout",
       "text": [
        "\n",
        "Minibatch loss at step"
       ]
      },
      {
       "output_type": "stream",
       "stream": "stdout",
       "text": [
        " 8500 : 0.171658\n",
        "Minibatch accuracy: 96.1%\n",
        "Validation accuracy: 90.5%"
       ]
      },
      {
       "output_type": "stream",
       "stream": "stdout",
       "text": [
        "\n",
        "Minibatch loss at step"
       ]
      },
      {
       "output_type": "stream",
       "stream": "stdout",
       "text": [
        " 9000 : 0.293853\n",
        "Minibatch accuracy: 90.6%\n",
        "Validation accuracy: 90.8%"
       ]
      },
      {
       "output_type": "stream",
       "stream": "stdout",
       "text": [
        "\n",
        "Minibatch loss at step"
       ]
      },
      {
       "output_type": "stream",
       "stream": "stdout",
       "text": [
        " 9500 : 0.264791\n",
        "Minibatch accuracy: 92.2%\n",
        "Validation accuracy: 90.8%"
       ]
      },
      {
       "output_type": "stream",
       "stream": "stdout",
       "text": [
        "\n",
        "Minibatch loss at step"
       ]
      },
      {
       "output_type": "stream",
       "stream": "stdout",
       "text": [
        " 10000 : 0.215253\n",
        "Minibatch accuracy: 94.5%\n",
        "Validation accuracy: 90.7%"
       ]
      },
      {
       "output_type": "stream",
       "stream": "stdout",
       "text": [
        "\n",
        "Minibatch loss at step"
       ]
      },
      {
       "output_type": "stream",
       "stream": "stdout",
       "text": [
        " 10500 : 0.317232\n",
        "Minibatch accuracy: 89.1%\n",
        "Validation accuracy: 90.5%"
       ]
      },
      {
       "output_type": "stream",
       "stream": "stdout",
       "text": [
        "\n",
        "Minibatch loss at step"
       ]
      },
      {
       "output_type": "stream",
       "stream": "stdout",
       "text": [
        " 11000 : 0.178584\n",
        "Minibatch accuracy: 95.3%\n",
        "Validation accuracy: 91.0%"
       ]
      },
      {
       "output_type": "stream",
       "stream": "stdout",
       "text": [
        "\n",
        "Minibatch loss at step"
       ]
      },
      {
       "output_type": "stream",
       "stream": "stdout",
       "text": [
        " 11500 : 0.21479\n",
        "Minibatch accuracy: 94.5%\n",
        "Validation accuracy: 90.8%"
       ]
      },
      {
       "output_type": "stream",
       "stream": "stdout",
       "text": [
        "\n",
        "Minibatch loss at step"
       ]
      },
      {
       "output_type": "stream",
       "stream": "stdout",
       "text": [
        " 12000 : 0.178439\n",
        "Minibatch accuracy: 94.5%\n",
        "Validation accuracy: 91.0%"
       ]
      },
      {
       "output_type": "stream",
       "stream": "stdout",
       "text": [
        "\n",
        "Test accuracy: 96.0%"
       ]
      },
      {
       "output_type": "stream",
       "stream": "stdout",
       "text": [
        "\n"
       ]
      }
     ],
     "prompt_number": 10
    }
   ],
   "metadata": {}
  }
 ]
}